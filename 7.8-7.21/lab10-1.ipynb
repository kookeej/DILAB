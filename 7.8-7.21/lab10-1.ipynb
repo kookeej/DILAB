{
  "nbformat": 4,
  "nbformat_minor": 0,
  "metadata": {
    "colab": {
      "name": "lab10-1.ipynb",
      "provenance": [],
      "authorship_tag": "ABX9TyNu+WERVHRrt/zAkbEk+CXZ",
      "include_colab_link": true
    },
    "kernelspec": {
      "name": "python3",
      "display_name": "Python 3"
    },
    "language_info": {
      "name": "python"
    }
  },
  "cells": [
    {
      "cell_type": "markdown",
      "metadata": {
        "id": "view-in-github",
        "colab_type": "text"
      },
      "source": [
        "<a href=\"https://colab.research.google.com/github/kookeej/DILAB/blob/main/7.8-7.21/lab10_1.ipynb\" target=\"_parent\"><img src=\"https://colab.research.google.com/assets/colab-badge.svg\" alt=\"Open In Colab\"/></a>"
      ]
    },
    {
      "cell_type": "markdown",
      "metadata": {
        "id": "gxlAYYd8rWNJ"
      },
      "source": [
        "Lab10-1 - Convolution\n",
        "===\n",
        "## 목차\n",
        "* Convolution이란?\n",
        "* Neuran과 Convolution의 상관관계\n",
        "* Pooling\n",
        "* CNN implementation"
      ]
    },
    {
      "cell_type": "markdown",
      "metadata": {
        "id": "ycUDbGNgrkFg"
      },
      "source": [
        "# 1. Convolution이란?\n",
        "이미지 위에서 ```stride```값만큼 ```filter```(kernel)을 이동시키면서 겹쳐지는 부분의 각 원소의 값을 곱해서 모두 더한 값을 출력으로 하는 연산     \n",
        "![](https://ars.els-cdn.com/content/image/1-s2.0-S016971611830021X-f09-24p1-9780444640420.jpg)    \n",
        "위 이미지에서 filter는,\n",
        "```\n",
        "filter={[1, 0, 1],\n",
        "        [0, 1, 0], \n",
        "        [1, 0, 1]}\n",
        "```\n",
        "첫번째 stride에서\n",
        "```\n",
        "A = {[1, 1, 1].\n",
        "     [0, 1, 1],\n",
        "     [0, 0, 1]}\n",
        "```"
      ]
    },
    {
      "cell_type": "code",
      "metadata": {
        "id": "pMGDjHdxt_f5"
      },
      "source": [
        "import torch"
      ],
      "execution_count": 1,
      "outputs": []
    },
    {
      "cell_type": "code",
      "metadata": {
        "id": "0RNej-Z_t5Jp"
      },
      "source": [
        "filter = torch.FloatTensor([[1, 0, 1],\n",
        "                           [0, 1, 0], \n",
        "                           [1, 0, 1]])\n",
        "A = torch.FloatTensor([[1, 1, 1],\n",
        "                      [0, 1, 1],\n",
        "                      [0, 0, 1]])"
      ],
      "execution_count": 3,
      "outputs": []
    },
    {
      "cell_type": "code",
      "metadata": {
        "colab": {
          "base_uri": "https://localhost:8080/"
        },
        "id": "7h9aNtdAuwwy",
        "outputId": "f8e156aa-b2d6-4e20-ab0c-0b2008f42281"
      },
      "source": [
        "mul_array = filter * A\n",
        "sum = mul_array.sum()\n",
        "print(mul_array)\n",
        "print(\"합:\",sum)"
      ],
      "execution_count": 8,
      "outputs": [
        {
          "output_type": "stream",
          "text": [
            "tensor([[1., 0., 1.],\n",
            "        [0., 1., 0.],\n",
            "        [0., 0., 1.]])\n",
            "합: tensor(4.)\n"
          ],
          "name": "stdout"
        }
      ]
    },
    {
      "cell_type": "markdown",
      "metadata": {
        "id": "kjrM5KGVvUmB"
      },
      "source": [
        "나머지 부분도 마찬가지다."
      ]
    },
    {
      "cell_type": "markdown",
      "metadata": {
        "id": "o_N6yyB-vrJZ"
      },
      "source": [
        "## 1.1. Stride and Padding\n",
        "* ```stride```: filter가 한번에 얼마나 이동할 것인지\n",
        "* ```padding```: zero-padding, 이미지의 테두리를 0으로 둘러싼다.\n",
        " 이미지의 상하좌우에 0으로 된 띠가 둘러진다. 만약 padding값이 2였다면, 총 두 번 둘러진다고 보면 된다.\n",
        "     \n",
        "![](https://blog.kakaocdn.net/dn/2hzfb/btqCJmTyg1R/unmfvdAnXwcGK16pYNAOr0/img.png)"
      ]
    },
    {
      "cell_type": "markdown",
      "metadata": {
        "id": "L0TxtklIxOlJ"
      },
      "source": [
        "## 1.2. Pytorch nn.Conv2d\n",
        "```nn.Conv2d```를 이용해서 ```convolution layer```를 생성한다.\n",
        "```\n",
        "torch.nn.Conv2d(in_channels, out_channels, kernel_size, stride=1, padding=0)\n",
        "```\n",
        "* ```in_channel```: input value\n",
        "* ```out_channel```: output value\n",
        "* ```kernel_size```: filter의 크기, 3x3이면 3을 써준다. 만약 3x1을 만든다면 (3,1)을 넣어준다.\n",
        "* input type: torch.Tensor\n",
        "* input shape: (N x C x H x W) == (batch_size, channel, height, width)"
      ]
    },
    {
      "cell_type": "code",
      "metadata": {
        "colab": {
          "base_uri": "https://localhost:8080/"
        },
        "id": "gI3TpiWH0oey",
        "outputId": "a4351f73-98c4-4ae1-bed4-dd4825524d2d"
      },
      "source": [
        "import torch.nn as nn\n",
        "# 예제 1\n",
        "conv = nn.Conv2d(1, 1, 11, stride=4, padding=0)\n",
        "print(conv)"
      ],
      "execution_count": 9,
      "outputs": [
        {
          "output_type": "stream",
          "text": [
            "Conv2d(1, 1, kernel_size=(11, 11), stride=(4, 4))\n"
          ],
          "name": "stdout"
        }
      ]
    },
    {
      "cell_type": "code",
      "metadata": {
        "colab": {
          "base_uri": "https://localhost:8080/"
        },
        "id": "Kj9vTy9z0_JU",
        "outputId": "95d5f4b4-44d8-47fc-9a5d-6ce955019cf8"
      },
      "source": [
        "inputs = torch.Tensor(1, 1, 227, 227)\n",
        "print(inputs.shape)"
      ],
      "execution_count": 10,
      "outputs": [
        {
          "output_type": "stream",
          "text": [
            "torch.Size([1, 1, 227, 227])\n"
          ],
          "name": "stdout"
        }
      ]
    },
    {
      "cell_type": "code",
      "metadata": {
        "colab": {
          "base_uri": "https://localhost:8080/"
        },
        "id": "mx36iajE1L2p",
        "outputId": "0035ecc7-73c5-4833-c877-7e3edb300ba8"
      },
      "source": [
        "out = conv(inputs)\n",
        "print(out.shape)"
      ],
      "execution_count": 11,
      "outputs": [
        {
          "output_type": "stream",
          "text": [
            "torch.Size([1, 1, 55, 55])\n"
          ],
          "name": "stdout"
        }
      ]
    },
    {
      "cell_type": "code",
      "metadata": {
        "colab": {
          "base_uri": "https://localhost:8080/"
        },
        "id": "0ECcsv1g1Y6h",
        "outputId": "0562b78c-d234-4e03-ee07-701b3a013060"
      },
      "source": [
        "# 예제 2\n",
        "conv = nn.Conv2d(1, 1, 7, stride=2, padding=0)\n",
        "inputs = torch.Tensor(1, 1, 64, 64)\n",
        "out = conv(inputs)\n",
        "print(out.shape)"
      ],
      "execution_count": 13,
      "outputs": [
        {
          "output_type": "stream",
          "text": [
            "torch.Size([1, 1, 29, 29])\n"
          ],
          "name": "stdout"
        }
      ]
    },
    {
      "cell_type": "code",
      "metadata": {
        "colab": {
          "base_uri": "https://localhost:8080/"
        },
        "id": "134OiAw0190K",
        "outputId": "eae0acb9-a1f5-402c-b734-9406f24b6e0f"
      },
      "source": [
        "# 예제 3\n",
        "conv = nn.Conv2d(1, 1, 5, stride=1, padding=2)\n",
        "inputs = torch.Tensor(1, 1, 32, 32)\n",
        "out = conv(inputs)\n",
        "print(out.shape)"
      ],
      "execution_count": 14,
      "outputs": [
        {
          "output_type": "stream",
          "text": [
            "torch.Size([1, 1, 32, 32])\n"
          ],
          "name": "stdout"
        }
      ]
    },
    {
      "cell_type": "code",
      "metadata": {
        "colab": {
          "base_uri": "https://localhost:8080/"
        },
        "id": "Y-JC5YZs2azZ",
        "outputId": "3ee2f075-3266-4a96-b063-e2d383d46d29"
      },
      "source": [
        "# 예제 4\n",
        "conv = nn.Conv2d(1, 1, 5, stride=1, padding=0)\n",
        "inputs = torch.Tensor(1, 1, 32, 64)\n",
        "out = conv(inputs)\n",
        "print(out.shape)"
      ],
      "execution_count": 17,
      "outputs": [
        {
          "output_type": "stream",
          "text": [
            "torch.Size([1, 1, 28, 60])\n"
          ],
          "name": "stdout"
        }
      ]
    },
    {
      "cell_type": "code",
      "metadata": {
        "colab": {
          "base_uri": "https://localhost:8080/"
        },
        "id": "-zAWglL54Pr6",
        "outputId": "3ed0961d-6365-4e5a-b05c-51d5698b33f5"
      },
      "source": [
        "# 예제 5\n",
        "conv = nn.Conv2d(1, 1, 3, stride=1, padding=1)\n",
        "inputs = torch.Tensor(1, 1, 64, 32)\n",
        "out = conv(inputs)\n",
        "print(out.shape)"
      ],
      "execution_count": 16,
      "outputs": [
        {
          "output_type": "stream",
          "text": [
            "torch.Size([1, 1, 64, 32])\n"
          ],
          "name": "stdout"
        }
      ]
    },
    {
      "cell_type": "markdown",
      "metadata": {
        "id": "Kmg_eF6aD4bU"
      },
      "source": [
        "# 2. Neuran과 Convolution의 상관관계\n",
        "## 2.1. Perceptron(=Neuron)과 Convolution\n",
        "* Perceptron의 Weight값으로 filter가 들어간다.\n",
        "* input value가 perceptron으로 들어간다.\n",
        "* input value와 weight값을 곱해주고 다 더한다. 그리고 bias를 더해준다.\n",
        "* 실제 output은 ```input value x weight + bias```\n",
        "\n",
        "# 3. Pooling\n",
        "이미지의 사이즈를 줄이기 위해 사용되기도 하고, Fully Connected 연산을 대체하기 위해 ```average pooling```을 사용하기도 한다.\n",
        "## 3.1. Max Pooling\n",
        "size가 2x2일 때, 2x2 이내에서 가장 큰 셀을 취한다. \n",
        " \n",
        "## 3.2. Average Pooling\n",
        "size가 2x2일 때, 2x2 이내에서 평균을 계산해서 하나의 셀을 만들어준다.\n",
        "\n",
        "![](https://www.researchgate.net/publication/333593451/figure/fig2/AS:765890261966848@1559613876098/Illustration-of-Max-Pooling-and-Average-Pooling-Figure-2-above-shows-an-example-of-max.png)\n",
        "\n",
        "## 3.3. torch.nn.MaxPool2d\n",
        "```\n",
        "torch.nn.MaxPool2d(kernel_size, stride=None, padding=0...)\n",
        "```"
      ]
    },
    {
      "cell_type": "markdown",
      "metadata": {
        "id": "dBeWK4QfHFir"
      },
      "source": [
        "# 4. CNN Implementation"
      ]
    },
    {
      "cell_type": "code",
      "metadata": {
        "colab": {
          "base_uri": "https://localhost:8080/"
        },
        "id": "vhBUWcq7G6wj",
        "outputId": "470615a8-728e-49ab-c90f-b37985d0e0d6"
      },
      "source": [
        "inputs = torch.Tensor(1, 1, 28, 28)         # input 1, output 1, size 28*28\n",
        "conv1 = nn.Conv2d(1, 5, 5)                  # input channel 1, output channel 5, filter size 5\n",
        "pool = nn.MaxPool2d(2)                      # pooling의 size 2*2\n",
        "out = conv1(inputs)                         # inputs이 conv1을 거쳤을 때 \n",
        "out2 = pool(out)                            # inputs이 pool을 거쳤을 때\n",
        "print(out.size())\n",
        "print(out2.size())"
      ],
      "execution_count": 22,
      "outputs": [
        {
          "output_type": "stream",
          "text": [
            "torch.Size([1, 5, 24, 24])\n",
            "torch.Size([1, 5, 12, 12])\n"
          ],
          "name": "stdout"
        }
      ]
    },
    {
      "cell_type": "markdown",
      "metadata": {
        "id": "AINvmtbiKPwM"
      },
      "source": [
        "* pooling을 거치고 사이즈가 작아진 것을 확인할 수 있다."
      ]
    }
  ]
}
