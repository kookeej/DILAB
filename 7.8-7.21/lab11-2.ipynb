{
  "nbformat": 4,
  "nbformat_minor": 0,
  "metadata": {
    "colab": {
      "name": "lab11-2.ipynb",
      "provenance": [],
      "authorship_tag": "ABX9TyOBJWoi28xzT4wj79DrO6fN",
      "include_colab_link": true
    },
    "kernelspec": {
      "name": "python3",
      "display_name": "Python 3"
    },
    "language_info": {
      "name": "python"
    }
  },
  "cells": [
    {
      "cell_type": "markdown",
      "metadata": {
        "id": "view-in-github",
        "colab_type": "text"
      },
      "source": [
        "<a href=\"https://colab.research.google.com/github/kookeej/DILAB/blob/main/7.8-7.21/lab11-2.ipynb\" target=\"_parent\"><img src=\"https://colab.research.google.com/assets/colab-badge.svg\" alt=\"Open In Colab\"/></a>"
      ]
    },
    {
      "cell_type": "markdown",
      "metadata": {
        "id": "gQBM1EgAr9BB"
      },
      "source": [
        "Lab11-2 - RNN hihello and charseq\n",
        "===\n",
        "## 목차\n",
        "1. hihello 문제\n",
        "2. Data setting - one-hot encoding\n",
        "3. Cross Entropy loss\n",
        "4. Code run through\n",
        "\n",
        "# 1. 'hihello' 문제\n",
        "* 'h', 'i', 'h', 'e', 'l', 'l', 'o' 를 예측하기\n",
        "* 'h'가 들어올 경우 'i' 또는 'e'가 될 가능성이 있다.\n",
        "* 따라서 모델이 어디까지 진행되었는지를 저장하는 ```hidden state```의 역할이 중요하다.\n",
        "* 파이토치에서 이 문자들을 어떻게 표현하는 것이 좋을까?\n",
        "\n",
        "# 2. Data setting - one-hot encoding\n",
        "파이토치에서 문자들을 나타내는 방법은 여러가지가 있다.\n",
        "1. index\n",
        ">각각에 characters에 index를 넣어준다. 하지만 숫자의 크기에 따라 의미를 갖게 되는 문제점이 있다.\n",
        "2. one-hot encoding\n",
        ">벡터의 원소 하나만 1로 활성화된다. \n",
        "![](https://mblogthumb-phinf.pstatic.net/MjAxOTA3MTJfMTA2/MDAxNTYyODYzMjgzOTk5.JO8akPyLBx4HDB27sprZtK_hwXrKtHVfg0gzhYsBRhIg.4r28fuL_3xBFusElkBPdZfQHBvsTcXCRC72l0j6FnlEg.PNG.kbsdr11/image.png?type=w800)    \n",
        "여기서 ```x_one_hot```의 각 행은 각각 h, i, h, e, l, l를 나타낸다. 그런데 왜 'o'는 없을까? 이 모델은 'hihello'에서 다음 문자를 예측하도록 하는 모델이기 때문에 [h, i, h, e, l, l]까지는 input으로 사용되고 [i, h, e, l, l, o]은 output으로 사용된다.    \n",
        "따라서 x_data를 살펴보면 'o'가 생략된 부분까지, y_data는 맨 앞의 'h'를 생략하고 끝까지 표현되었다.\n",
        "\n",
        "# 3. Cross Entropy Loss\n",
        "이번 예제에서는 ```cross entropy loss```를 사용한다. 이 손실함수는 ```categorical output```을 예측하는 모델에서 주로 사용된다. 먼저 softmax 함수를 통해 output을 0~1사이의 확률값으로 나타내준다. Cross entropy는 이 확률값을 정답 카테고리에 대해 최대한 증가시킨다. \n",
        "```\n",
        "# loss & optimizer setting\n",
        "criterion = torch.nn.CrossEntropyLoss()\n",
        "...\n",
        "loss = criterion(outputs.view(-1, input_size), Y.view(-1))\n",
        "```\n",
        "여기서 주의할 점은 criterion의 첫 번째 파라미터에는 **이 모델의 output**을 주어야 하고, 두 번째 파라미터에는 **정답 레이블**을 주어야한다. 이 순서를 바꾸면 제대로 동작하지 않을 수 있다.     \n",
        "\n",
        "# 4. Code run through\n",
        "코드를 분석해본다.\n",
        "## 4.1. hihello"
      ]
    },
    {
      "cell_type": "code",
      "metadata": {
        "id": "bxS1JF0lzwAr"
      },
      "source": [
        "char_set = ['h', 'i', 'e', 'l', 'o']        # 먼저 character list에 대한 정의다.\n",
        "#hyper parameters\n",
        "input_size = len(char_set)                  # one-hot encoding이니 char_set의 개수만큼이다.\n",
        "hidden_size = len(char_set)                 # hidden_size는 다른 값이어도 된다.\n",
        "learning_rate = 0.1\n",
        "\n",
        "#data setting\n",
        "x_data = [[0, 1, 0, 2, 3, 3]]               # character들을 인덱스값으로 표현\n",
        "x_one_hot = [[[1, 0, 0, 0, 0],              # 각 문자를 one-hot encoding으로 표현\n",
        "              [0, 1, 0, 0, 0],\n",
        "              [1, 0, 0, 0, 0],\n",
        "              [0, 0, 1, 0, 0],\n",
        "              [0, 0, 0, 1, 0],\n",
        "              [0, 0, 0, 1, 0]]]\n",
        " y_data = [[1, 0, 2, 3, 3, 4]]\n",
        "\n",
        " # transform as torch tensor variable\n",
        " X = torch.FloatTensor(x_one_hot)           # 파이토치의 텐서로 변환해준다.\n",
        " Y = torch.LongTensor(y_data)"
      ],
      "execution_count": null,
      "outputs": []
    },
    {
      "cell_type": "markdown",
      "metadata": {
        "id": "9tkY_uNW1XbM"
      },
      "source": [
        "## 4.2. charseq\n",
        "'hihello'와 달리 어떤 임의의 문자열이 sample값이 들어가도 동작할 수 있다. "
      ]
    },
    {
      "cell_type": "code",
      "metadata": {
        "id": "-BqHTHqI1aNU"
      },
      "source": [
        "sample = \"if you want you\"\n",
        "\n",
        "# make dictionary\n",
        "char_set = list(set(sample))        # 중복된 문자들은 제거하고 단일 문자들만 모아서 리스트로 만들어준다.\n",
        "char_dic = {c: i for i, c in enumerate(char_set)}   # 특정 문자를 주면 그 인덱스로 찾아주는 딕셔너리\n",
        "# enumerate를 쓰면 index와 char를 모두 가져올 수 있다.\n",
        "# char to index로 mapping하여 딕셔너리로 만들어준다.\n",
        "\n",
        "\n",
        "# hyper parameters\n",
        "dic_size = len(char_dic)\n",
        "hidden_size = len(char_dic)\n",
        "learning_rate = 0.1\n",
        "\n",
        "# data setting\n",
        "sample_idx = [char_dic[c] for c in sample]      # char_dic을 이용해서 index들을 구해준다. \n",
        "x_data = [sample_idx[:-1]]                      # 맨 마지막 문자 제외\n",
        "x_one_hot = [np.eye(dic_size)[x] for x in x_data]   # x_data의 인덱스로 one-hot vector를 만든다.\n",
        "y_data = [sample_idx[1:]]                       # 맨 처음 문자 제외\n",
        "\n",
        "# transform as torch tensor variable\n",
        "X = torch.FloatTensor(x_one_hot)\n",
        "Y = torch.LongTensor(y_data)"
      ],
      "execution_count": null,
      "outputs": []
    },
    {
      "cell_type": "markdown",
      "metadata": {
        "id": "Y4QZRGr43dGm"
      },
      "source": [
        "## 4.3. RNN을 만들고 학습하는 과정\n",
        "여기서부터는 RNN을 만들고 학습하는 과정을 담은 코드이다."
      ]
    },
    {
      "cell_type": "code",
      "metadata": {
        "id": "fxyq-Ayw3npU"
      },
      "source": [
        "# declare RNN\n",
        "rnn = torch.nn.RNN(input_size, hidden_size, batch_first=True) # batch_first guarantees the order of output = (B, S, F)\n",
        "                                                              # batch dimension이 가장 앞으로 온다.\n",
        "\n",
        "# loss & optimizer setting\n",
        "criterion = torch.nn.CrossEntropyLoss()\n",
        "optimizer = optim.Adam(rnn.parameters(), learning_rate)\n",
        "\n",
        "# start training\n",
        "for i in range(100):\n",
        "    optimizer.zero_grad()\n",
        "\n",
        "    outputs, _status = rnn(X)\n",
        "    loss = criterion(outputs.view(-1, input_size), Y.view(-1))\n",
        "    loss.backward()\n",
        "    optimizer.step()\n",
        "\n",
        "    result = outputs.data.numpy().argmax(axis=2)\n",
        "    result_str = ''.join([char_set[c] for c in np.squeeze(result)])\n",
        "    print(i, \"loss: \", loss.item(), \"prediction: \", result, \"true Y: \", y_data, \"prediction str: \", result_str)"
      ],
      "execution_count": null,
      "outputs": []
    },
    {
      "cell_type": "markdown",
      "metadata": {
        "id": "5riLdBPsIFfe"
      },
      "source": [
        "* 왜 batch dimension이 맨 앞으로 오도록 만드는걸까?"
      ]
    },
    {
      "cell_type": "markdown",
      "metadata": {
        "id": "KyF1NA28HqpE"
      },
      "source": [
        "# 5. Full Code\n",
        "## 5.1. Hihello"
      ]
    },
    {
      "cell_type": "code",
      "metadata": {
        "id": "CxOJT_8XHqM8"
      },
      "source": [
        "import torch\n",
        "import torch.optim as optim\n",
        "import numpy as np"
      ],
      "execution_count": 19,
      "outputs": []
    },
    {
      "cell_type": "code",
      "metadata": {
        "colab": {
          "base_uri": "https://localhost:8080/"
        },
        "id": "iB2bmnd6H5As",
        "outputId": "551ff5f5-5840-465d-89f1-1cb86e0d9ed9"
      },
      "source": [
        "# Random seed to make results deterministic and reproducible\n",
        "torch.manual_seed(0)"
      ],
      "execution_count": 20,
      "outputs": [
        {
          "output_type": "execute_result",
          "data": {
            "text/plain": [
              "<torch._C.Generator at 0x7f43a4840af0>"
            ]
          },
          "metadata": {
            "tags": []
          },
          "execution_count": 20
        }
      ]
    },
    {
      "cell_type": "code",
      "metadata": {
        "id": "TJZpO_ZhH7Us"
      },
      "source": [
        "# declare dictionary\n",
        "char_set = ['h', 'i', 'e', 'l', 'o']"
      ],
      "execution_count": 21,
      "outputs": []
    },
    {
      "cell_type": "code",
      "metadata": {
        "id": "Bf0p8-i2H96s"
      },
      "source": [
        "# hyper parameters\n",
        "input_size = len(char_set)\n",
        "hidden_size = len(char_set)\n",
        "learning_rate = 0.1"
      ],
      "execution_count": 22,
      "outputs": []
    },
    {
      "cell_type": "code",
      "metadata": {
        "id": "L5zWcvSrH_p8"
      },
      "source": [
        "# data setting\n",
        "x_data = [[0, 1, 0, 2, 3, 3]]\n",
        "x_one_hot = [[[1, 0, 0, 0, 0],\n",
        "              [0, 1, 0, 0, 0],\n",
        "              [1, 0, 0, 0, 0],\n",
        "              [0, 0, 1, 0, 0],\n",
        "              [0, 0, 0, 1, 0],\n",
        "              [0, 0, 0, 1, 0]]]\n",
        "y_data = [[1, 0, 2, 3, 3, 4]]"
      ],
      "execution_count": 23,
      "outputs": []
    },
    {
      "cell_type": "code",
      "metadata": {
        "id": "HOqFvT97IBIU"
      },
      "source": [
        "# transform as torch tensor variable\n",
        "X = torch.FloatTensor(x_one_hot)\n",
        "Y = torch.LongTensor(y_data)"
      ],
      "execution_count": 24,
      "outputs": []
    },
    {
      "cell_type": "code",
      "metadata": {
        "id": "omicSayYID4G"
      },
      "source": [
        "# declare RNN\n",
        "rnn = torch.nn.RNN(input_size, hidden_size, batch_first=True)  # batch_first guarantees the order of output = (B, S, F)"
      ],
      "execution_count": 25,
      "outputs": []
    },
    {
      "cell_type": "code",
      "metadata": {
        "id": "2kGHG9TnINne"
      },
      "source": [
        "# loss & optimizer setting\n",
        "criterion = torch.nn.CrossEntropyLoss()\n",
        "optimizer = optim.Adam(rnn.parameters(), learning_rate)"
      ],
      "execution_count": 26,
      "outputs": []
    },
    {
      "cell_type": "code",
      "metadata": {
        "colab": {
          "base_uri": "https://localhost:8080/"
        },
        "id": "LVCgLEKWIRVc",
        "outputId": "18c0c3df-20e2-43b6-ad79-1fd685164fbc"
      },
      "source": [
        "# start training\n",
        "for i in range(100):\n",
        "    optimizer.zero_grad()\n",
        "    outputs, _status = rnn(X)\n",
        "    loss = criterion(outputs.view(-1, input_size), Y.view(-1))\n",
        "    loss.backward()\n",
        "    optimizer.step()\n",
        "\n",
        "    result = outputs.data.numpy().argmax(axis=2)\n",
        "    result_str = ''.join([char_set[c] for c in np.squeeze(result)])\n",
        "    print(i, \"loss: \", loss.item(), \"prediction: \", result, \"true Y: \", y_data, \"prediction str: \", result_str)"
      ],
      "execution_count": 27,
      "outputs": [
        {
          "output_type": "stream",
          "text": [
            "0 loss:  1.7802648544311523 prediction:  [[1 1 1 1 1 1]] true Y:  [[1, 0, 2, 3, 3, 4]] prediction str:  iiiiii\n",
            "1 loss:  1.4931949377059937 prediction:  [[1 4 1 1 4 4]] true Y:  [[1, 0, 2, 3, 3, 4]] prediction str:  ioiioo\n",
            "2 loss:  1.3337111473083496 prediction:  [[1 3 2 3 1 4]] true Y:  [[1, 0, 2, 3, 3, 4]] prediction str:  ilelio\n",
            "3 loss:  1.2152944803237915 prediction:  [[2 3 2 3 3 3]] true Y:  [[1, 0, 2, 3, 3, 4]] prediction str:  elelll\n",
            "4 loss:  1.1131387948989868 prediction:  [[2 3 2 3 3 3]] true Y:  [[1, 0, 2, 3, 3, 4]] prediction str:  elelll\n",
            "5 loss:  1.0241864919662476 prediction:  [[2 3 2 3 3 4]] true Y:  [[1, 0, 2, 3, 3, 4]] prediction str:  elello\n",
            "6 loss:  0.9573140740394592 prediction:  [[2 3 2 3 3 4]] true Y:  [[1, 0, 2, 3, 3, 4]] prediction str:  elello\n",
            "7 loss:  0.9102001190185547 prediction:  [[2 0 2 3 3 4]] true Y:  [[1, 0, 2, 3, 3, 4]] prediction str:  ehello\n",
            "8 loss:  0.8731765747070312 prediction:  [[1 0 2 3 3 4]] true Y:  [[1, 0, 2, 3, 3, 4]] prediction str:  ihello\n",
            "9 loss:  0.8399617671966553 prediction:  [[1 0 2 3 3 4]] true Y:  [[1, 0, 2, 3, 3, 4]] prediction str:  ihello\n",
            "10 loss:  0.8088943958282471 prediction:  [[1 0 2 3 3 4]] true Y:  [[1, 0, 2, 3, 3, 4]] prediction str:  ihello\n",
            "11 loss:  0.7812860012054443 prediction:  [[1 0 2 3 3 4]] true Y:  [[1, 0, 2, 3, 3, 4]] prediction str:  ihello\n",
            "12 loss:  0.7585341930389404 prediction:  [[1 3 2 3 3 4]] true Y:  [[1, 0, 2, 3, 3, 4]] prediction str:  ilello\n",
            "13 loss:  0.7401286959648132 prediction:  [[1 3 2 3 3 4]] true Y:  [[1, 0, 2, 3, 3, 4]] prediction str:  ilello\n",
            "14 loss:  0.7243586182594299 prediction:  [[1 3 2 3 3 4]] true Y:  [[1, 0, 2, 3, 3, 4]] prediction str:  ilello\n",
            "15 loss:  0.7091224193572998 prediction:  [[1 3 2 3 3 4]] true Y:  [[1, 0, 2, 3, 3, 4]] prediction str:  ilello\n",
            "16 loss:  0.6929271817207336 prediction:  [[1 3 2 3 3 4]] true Y:  [[1, 0, 2, 3, 3, 4]] prediction str:  ilello\n",
            "17 loss:  0.6821203231811523 prediction:  [[1 3 2 3 3 4]] true Y:  [[1, 0, 2, 3, 3, 4]] prediction str:  ilello\n",
            "18 loss:  0.6735277771949768 prediction:  [[1 3 2 3 3 4]] true Y:  [[1, 0, 2, 3, 3, 4]] prediction str:  ilello\n",
            "19 loss:  0.6595445275306702 prediction:  [[1 3 2 3 3 4]] true Y:  [[1, 0, 2, 3, 3, 4]] prediction str:  ilello\n",
            "20 loss:  0.6534827947616577 prediction:  [[1 3 2 3 3 4]] true Y:  [[1, 0, 2, 3, 3, 4]] prediction str:  ilello\n",
            "21 loss:  0.6465461254119873 prediction:  [[1 3 2 3 3 4]] true Y:  [[1, 0, 2, 3, 3, 4]] prediction str:  ilello\n",
            "22 loss:  0.639818549156189 prediction:  [[1 3 2 3 3 4]] true Y:  [[1, 0, 2, 3, 3, 4]] prediction str:  ilello\n",
            "23 loss:  0.6381519436836243 prediction:  [[1 3 2 3 3 4]] true Y:  [[1, 0, 2, 3, 3, 4]] prediction str:  ilello\n",
            "24 loss:  0.6326725482940674 prediction:  [[1 3 2 3 3 4]] true Y:  [[1, 0, 2, 3, 3, 4]] prediction str:  ilello\n",
            "25 loss:  0.6256730556488037 prediction:  [[1 3 2 3 3 4]] true Y:  [[1, 0, 2, 3, 3, 4]] prediction str:  ilello\n",
            "26 loss:  0.6215081214904785 prediction:  [[1 3 2 3 3 4]] true Y:  [[1, 0, 2, 3, 3, 4]] prediction str:  ilello\n",
            "27 loss:  0.6167056560516357 prediction:  [[1 3 2 3 3 4]] true Y:  [[1, 0, 2, 3, 3, 4]] prediction str:  ilello\n",
            "28 loss:  0.609936535358429 prediction:  [[1 3 2 3 3 4]] true Y:  [[1, 0, 2, 3, 3, 4]] prediction str:  ilello\n",
            "29 loss:  0.6030198931694031 prediction:  [[1 3 2 3 3 4]] true Y:  [[1, 0, 2, 3, 3, 4]] prediction str:  ilello\n",
            "30 loss:  0.5992398858070374 prediction:  [[1 3 2 3 3 4]] true Y:  [[1, 0, 2, 3, 3, 4]] prediction str:  ilello\n",
            "31 loss:  0.5964339375495911 prediction:  [[1 3 2 3 3 4]] true Y:  [[1, 0, 2, 3, 3, 4]] prediction str:  ilello\n",
            "32 loss:  0.5916648507118225 prediction:  [[1 3 2 3 3 4]] true Y:  [[1, 0, 2, 3, 3, 4]] prediction str:  ilello\n",
            "33 loss:  0.5881564021110535 prediction:  [[1 3 2 3 3 4]] true Y:  [[1, 0, 2, 3, 3, 4]] prediction str:  ilello\n",
            "34 loss:  0.585434079170227 prediction:  [[1 3 2 3 3 4]] true Y:  [[1, 0, 2, 3, 3, 4]] prediction str:  ilello\n",
            "35 loss:  0.581319272518158 prediction:  [[1 3 2 3 3 4]] true Y:  [[1, 0, 2, 3, 3, 4]] prediction str:  ilello\n",
            "36 loss:  0.5761869549751282 prediction:  [[1 3 2 3 3 4]] true Y:  [[1, 0, 2, 3, 3, 4]] prediction str:  ilello\n",
            "37 loss:  0.5734921097755432 prediction:  [[1 3 2 3 3 4]] true Y:  [[1, 0, 2, 3, 3, 4]] prediction str:  ilello\n",
            "38 loss:  0.5727558732032776 prediction:  [[1 3 2 3 3 4]] true Y:  [[1, 0, 2, 3, 3, 4]] prediction str:  ilello\n",
            "39 loss:  0.5682087540626526 prediction:  [[1 3 2 3 3 4]] true Y:  [[1, 0, 2, 3, 3, 4]] prediction str:  ilello\n",
            "40 loss:  0.5656264424324036 prediction:  [[1 3 2 3 3 4]] true Y:  [[1, 0, 2, 3, 3, 4]] prediction str:  ilello\n",
            "41 loss:  0.5647333860397339 prediction:  [[1 3 2 3 3 4]] true Y:  [[1, 0, 2, 3, 3, 4]] prediction str:  ilello\n",
            "42 loss:  0.5629469752311707 prediction:  [[1 3 2 3 3 4]] true Y:  [[1, 0, 2, 3, 3, 4]] prediction str:  ilello\n",
            "43 loss:  0.5603768229484558 prediction:  [[1 3 2 3 3 4]] true Y:  [[1, 0, 2, 3, 3, 4]] prediction str:  ilello\n",
            "44 loss:  0.5588171482086182 prediction:  [[1 3 2 3 3 4]] true Y:  [[1, 0, 2, 3, 3, 4]] prediction str:  ilello\n",
            "45 loss:  0.5584633946418762 prediction:  [[1 3 2 3 3 4]] true Y:  [[1, 0, 2, 3, 3, 4]] prediction str:  ilello\n",
            "46 loss:  0.5565400123596191 prediction:  [[1 3 2 3 3 4]] true Y:  [[1, 0, 2, 3, 3, 4]] prediction str:  ilello\n",
            "47 loss:  0.5548031330108643 prediction:  [[1 3 2 3 3 4]] true Y:  [[1, 0, 2, 3, 3, 4]] prediction str:  ilello\n",
            "48 loss:  0.5542734265327454 prediction:  [[1 3 2 3 3 4]] true Y:  [[1, 0, 2, 3, 3, 4]] prediction str:  ilello\n",
            "49 loss:  0.553443968296051 prediction:  [[1 3 2 3 3 4]] true Y:  [[1, 0, 2, 3, 3, 4]] prediction str:  ilello\n",
            "50 loss:  0.552009642124176 prediction:  [[1 3 2 3 3 4]] true Y:  [[1, 0, 2, 3, 3, 4]] prediction str:  ilello\n",
            "51 loss:  0.5510938763618469 prediction:  [[1 3 2 3 3 4]] true Y:  [[1, 0, 2, 3, 3, 4]] prediction str:  ilello\n",
            "52 loss:  0.5506716370582581 prediction:  [[1 3 2 3 3 4]] true Y:  [[1, 0, 2, 3, 3, 4]] prediction str:  ilello\n",
            "53 loss:  0.5493642687797546 prediction:  [[1 3 2 3 3 4]] true Y:  [[1, 0, 2, 3, 3, 4]] prediction str:  ilello\n",
            "54 loss:  0.5483370423316956 prediction:  [[1 3 2 3 3 4]] true Y:  [[1, 0, 2, 3, 3, 4]] prediction str:  ilello\n",
            "55 loss:  0.5478050112724304 prediction:  [[1 3 2 3 3 4]] true Y:  [[1, 0, 2, 3, 3, 4]] prediction str:  ilello\n",
            "56 loss:  0.5469383597373962 prediction:  [[1 3 2 3 3 4]] true Y:  [[1, 0, 2, 3, 3, 4]] prediction str:  ilello\n",
            "57 loss:  0.5459226965904236 prediction:  [[1 3 2 3 3 4]] true Y:  [[1, 0, 2, 3, 3, 4]] prediction str:  ilello\n",
            "58 loss:  0.5454026460647583 prediction:  [[1 3 2 3 3 4]] true Y:  [[1, 0, 2, 3, 3, 4]] prediction str:  ilello\n",
            "59 loss:  0.5448522567749023 prediction:  [[1 3 2 3 3 4]] true Y:  [[1, 0, 2, 3, 3, 4]] prediction str:  ilello\n",
            "60 loss:  0.5439805388450623 prediction:  [[1 3 2 3 3 4]] true Y:  [[1, 0, 2, 3, 3, 4]] prediction str:  ilello\n",
            "61 loss:  0.5434584021568298 prediction:  [[1 3 2 3 3 4]] true Y:  [[1, 0, 2, 3, 3, 4]] prediction str:  ilello\n",
            "62 loss:  0.5429834723472595 prediction:  [[1 3 2 3 3 4]] true Y:  [[1, 0, 2, 3, 3, 4]] prediction str:  ilello\n",
            "63 loss:  0.5422742962837219 prediction:  [[1 3 2 3 3 4]] true Y:  [[1, 0, 2, 3, 3, 4]] prediction str:  ilello\n",
            "64 loss:  0.5417041778564453 prediction:  [[1 3 2 3 3 4]] true Y:  [[1, 0, 2, 3, 3, 4]] prediction str:  ilello\n",
            "65 loss:  0.5413309335708618 prediction:  [[1 3 2 3 3 4]] true Y:  [[1, 0, 2, 3, 3, 4]] prediction str:  ilello\n",
            "66 loss:  0.5407489538192749 prediction:  [[1 3 2 3 3 4]] true Y:  [[1, 0, 2, 3, 3, 4]] prediction str:  ilello\n",
            "67 loss:  0.5402577519416809 prediction:  [[1 3 2 3 3 4]] true Y:  [[1, 0, 2, 3, 3, 4]] prediction str:  ilello\n",
            "68 loss:  0.5399190783500671 prediction:  [[1 3 2 3 3 4]] true Y:  [[1, 0, 2, 3, 3, 4]] prediction str:  ilello\n",
            "69 loss:  0.5394624471664429 prediction:  [[1 3 2 3 3 4]] true Y:  [[1, 0, 2, 3, 3, 4]] prediction str:  ilello\n",
            "70 loss:  0.5390092134475708 prediction:  [[1 3 2 3 3 4]] true Y:  [[1, 0, 2, 3, 3, 4]] prediction str:  ilello\n",
            "71 loss:  0.5387027263641357 prediction:  [[1 3 2 3 3 4]] true Y:  [[1, 0, 2, 3, 3, 4]] prediction str:  ilello\n",
            "72 loss:  0.5383160710334778 prediction:  [[1 3 2 3 3 4]] true Y:  [[1, 0, 2, 3, 3, 4]] prediction str:  ilello\n",
            "73 loss:  0.5379176735877991 prediction:  [[1 3 2 3 3 4]] true Y:  [[1, 0, 2, 3, 3, 4]] prediction str:  ilello\n",
            "74 loss:  0.5376289486885071 prediction:  [[1 3 2 3 3 4]] true Y:  [[1, 0, 2, 3, 3, 4]] prediction str:  ilello\n",
            "75 loss:  0.5372946858406067 prediction:  [[1 3 2 3 3 4]] true Y:  [[1, 0, 2, 3, 3, 4]] prediction str:  ilello\n",
            "76 loss:  0.536936342716217 prediction:  [[1 3 2 3 3 4]] true Y:  [[1, 0, 2, 3, 3, 4]] prediction str:  ilello\n",
            "77 loss:  0.5366637706756592 prediction:  [[1 3 2 3 3 4]] true Y:  [[1, 0, 2, 3, 3, 4]] prediction str:  ilello\n",
            "78 loss:  0.5363661050796509 prediction:  [[1 3 2 3 3 4]] true Y:  [[1, 0, 2, 3, 3, 4]] prediction str:  ilello\n",
            "79 loss:  0.5360466837882996 prediction:  [[1 3 2 3 3 4]] true Y:  [[1, 0, 2, 3, 3, 4]] prediction str:  ilello\n",
            "80 loss:  0.535793125629425 prediction:  [[1 3 2 3 3 4]] true Y:  [[1, 0, 2, 3, 3, 4]] prediction str:  ilello\n",
            "81 loss:  0.5355224013328552 prediction:  [[1 3 2 3 3 4]] true Y:  [[1, 0, 2, 3, 3, 4]] prediction str:  ilello\n",
            "82 loss:  0.535235583782196 prediction:  [[1 3 2 3 3 4]] true Y:  [[1, 0, 2, 3, 3, 4]] prediction str:  ilello\n",
            "83 loss:  0.5349992513656616 prediction:  [[1 3 2 3 3 4]] true Y:  [[1, 0, 2, 3, 3, 4]] prediction str:  ilello\n",
            "84 loss:  0.5347511172294617 prediction:  [[1 3 2 3 3 4]] true Y:  [[1, 0, 2, 3, 3, 4]] prediction str:  ilello\n",
            "85 loss:  0.5344937443733215 prediction:  [[1 3 2 3 3 4]] true Y:  [[1, 0, 2, 3, 3, 4]] prediction str:  ilello\n",
            "86 loss:  0.534275472164154 prediction:  [[1 3 2 3 3 4]] true Y:  [[1, 0, 2, 3, 3, 4]] prediction str:  ilello\n",
            "87 loss:  0.534046471118927 prediction:  [[1 3 2 3 3 4]] true Y:  [[1, 0, 2, 3, 3, 4]] prediction str:  ilello\n",
            "88 loss:  0.5338149666786194 prediction:  [[1 3 2 3 3 4]] true Y:  [[1, 0, 2, 3, 3, 4]] prediction str:  ilello\n",
            "89 loss:  0.5336135625839233 prediction:  [[1 3 2 3 3 4]] true Y:  [[1, 0, 2, 3, 3, 4]] prediction str:  ilello\n",
            "90 loss:  0.5334025025367737 prediction:  [[1 3 2 3 3 4]] true Y:  [[1, 0, 2, 3, 3, 4]] prediction str:  ilello\n",
            "91 loss:  0.5331951379776001 prediction:  [[1 3 2 3 3 4]] true Y:  [[1, 0, 2, 3, 3, 4]] prediction str:  ilello\n",
            "92 loss:  0.5330095291137695 prediction:  [[1 3 2 3 3 4]] true Y:  [[1, 0, 2, 3, 3, 4]] prediction str:  ilello\n",
            "93 loss:  0.5328158140182495 prediction:  [[1 3 2 3 3 4]] true Y:  [[1, 0, 2, 3, 3, 4]] prediction str:  ilello\n",
            "94 loss:  0.5326293110847473 prediction:  [[1 3 2 3 3 4]] true Y:  [[1, 0, 2, 3, 3, 4]] prediction str:  ilello\n",
            "95 loss:  0.5324583053588867 prediction:  [[1 3 2 3 3 4]] true Y:  [[1, 0, 2, 3, 3, 4]] prediction str:  ilello\n",
            "96 loss:  0.5322802662849426 prediction:  [[1 3 2 3 3 4]] true Y:  [[1, 0, 2, 3, 3, 4]] prediction str:  ilello\n",
            "97 loss:  0.5321123600006104 prediction:  [[1 3 2 3 3 4]] true Y:  [[1, 0, 2, 3, 3, 4]] prediction str:  ilello\n",
            "98 loss:  0.5319532752037048 prediction:  [[1 3 2 3 3 4]] true Y:  [[1, 0, 2, 3, 3, 4]] prediction str:  ilello\n",
            "99 loss:  0.5317899584770203 prediction:  [[1 3 2 3 3 4]] true Y:  [[1, 0, 2, 3, 3, 4]] prediction str:  ilello\n"
          ],
          "name": "stdout"
        }
      ]
    },
    {
      "cell_type": "markdown",
      "metadata": {
        "id": "YZndwnE5JbFk"
      },
      "source": [
        "## 5.2. charseq"
      ]
    },
    {
      "cell_type": "code",
      "metadata": {
        "colab": {
          "base_uri": "https://localhost:8080/"
        },
        "id": "kDJWjh7PJkCE",
        "outputId": "22d692da-1626-4558-eee0-b779995b12fe"
      },
      "source": [
        "import torch\n",
        "import torch.optim as optim\n",
        "import numpy as np\n",
        "\n",
        "# Random seed to make results deterministic and reproducible\n",
        "torch.manual_seed(0)"
      ],
      "execution_count": 28,
      "outputs": [
        {
          "output_type": "execute_result",
          "data": {
            "text/plain": [
              "<torch._C.Generator at 0x7f43a4840af0>"
            ]
          },
          "metadata": {
            "tags": []
          },
          "execution_count": 28
        }
      ]
    },
    {
      "cell_type": "code",
      "metadata": {
        "id": "ZILyfRU8JsDd"
      },
      "source": [
        "sample = \" if you want you\""
      ],
      "execution_count": 29,
      "outputs": []
    },
    {
      "cell_type": "code",
      "metadata": {
        "colab": {
          "base_uri": "https://localhost:8080/"
        },
        "id": "lq6qf8sbJuAN",
        "outputId": "e5df5a88-8d30-4463-b41a-daaa4726c07e"
      },
      "source": [
        "# make dictionary\n",
        "char_set = list(set(sample))\n",
        "char_dic = {c: i for i, c in enumerate(char_set)}\n",
        "print(char_dic)"
      ],
      "execution_count": 30,
      "outputs": [
        {
          "output_type": "stream",
          "text": [
            "{'o': 0, ' ': 1, 'y': 2, 'w': 3, 't': 4, 'f': 5, 'a': 6, 'n': 7, 'u': 8, 'i': 9}\n"
          ],
          "name": "stdout"
        }
      ]
    },
    {
      "cell_type": "code",
      "metadata": {
        "id": "ainCN8lNJxOF"
      },
      "source": [
        "# hyper parameters\n",
        "dic_size = len(char_dic)\n",
        "hidden_size = len(char_dic)\n",
        "learning_rate = 0.1"
      ],
      "execution_count": 31,
      "outputs": []
    },
    {
      "cell_type": "code",
      "metadata": {
        "id": "8VYhndIbJyzd"
      },
      "source": [
        "# data setting\n",
        "sample_idx = [char_dic[c] for c in sample]\n",
        "x_data = [sample_idx[:-1]]\n",
        "x_one_hot = [np.eye(dic_size)[x] for x in x_data]\n",
        "y_data = [sample_idx[1:]]"
      ],
      "execution_count": 32,
      "outputs": []
    },
    {
      "cell_type": "code",
      "metadata": {
        "id": "vXSgLGprJ0FF"
      },
      "source": [
        "# transform as torch tensor variable\n",
        "X = torch.FloatTensor(x_one_hot)\n",
        "Y = torch.LongTensor(y_data)"
      ],
      "execution_count": 33,
      "outputs": []
    },
    {
      "cell_type": "code",
      "metadata": {
        "id": "UmjfIZsMJ6Hc"
      },
      "source": [
        "# declare RNN\n",
        "rnn = torch.nn.RNN(dic_size, hidden_size, batch_first=True)"
      ],
      "execution_count": 34,
      "outputs": []
    },
    {
      "cell_type": "code",
      "metadata": {
        "id": "4Tf4Bzg1J8d0"
      },
      "source": [
        "# loss & optimizer setting\n",
        "criterion = torch.nn.CrossEntropyLoss()\n",
        "optimizer = optim.Adam(rnn.parameters(), learning_rate)"
      ],
      "execution_count": 35,
      "outputs": []
    },
    {
      "cell_type": "code",
      "metadata": {
        "colab": {
          "base_uri": "https://localhost:8080/"
        },
        "id": "tESXoJcJJ-78",
        "outputId": "ec2dd70c-cb5d-482d-e629-1a61954c7e1e"
      },
      "source": [
        "# start training\n",
        "for i in range(100):\n",
        "    optimizer.zero_grad()\n",
        "    outputs, _status = rnn(X)\n",
        "    loss = criterion(outputs.view(-1, dic_size), Y.view(-1))\n",
        "    loss.backward()\n",
        "    optimizer.step()\n",
        "\n",
        "    result = outputs.data.numpy().argmax(axis=2)\n",
        "    result_str = ''.join([char_set[c] for c in np.squeeze(result)])\n",
        "    print(i, \"loss: \", loss.item(), \"prediction: \", result, \"true Y: \", y_data, \"prediction str: \", result_str)"
      ],
      "execution_count": 37,
      "outputs": [
        {
          "output_type": "stream",
          "text": [
            "0 loss:  0.8685041666030884 prediction:  [[9 5 1 2 0 8 1 2 6 7 4 1 2 0 8]] true Y:  [[9, 5, 1, 2, 0, 8, 1, 3, 6, 7, 4, 1, 2, 0, 8]] prediction str:  if you yant you\n",
            "1 loss:  0.868259608745575 prediction:  [[9 5 1 2 0 8 1 2 6 7 4 1 2 0 8]] true Y:  [[9, 5, 1, 2, 0, 8, 1, 3, 6, 7, 4, 1, 2, 0, 8]] prediction str:  if you yant you\n",
            "2 loss:  0.8680338263511658 prediction:  [[9 5 1 2 0 8 1 2 6 7 4 1 2 0 8]] true Y:  [[9, 5, 1, 2, 0, 8, 1, 3, 6, 7, 4, 1, 2, 0, 8]] prediction str:  if you yant you\n",
            "3 loss:  0.8678252696990967 prediction:  [[9 5 1 2 0 8 1 2 6 7 4 1 2 0 8]] true Y:  [[9, 5, 1, 2, 0, 8, 1, 3, 6, 7, 4, 1, 2, 0, 8]] prediction str:  if you yant you\n",
            "4 loss:  0.8676319718360901 prediction:  [[9 5 1 2 0 8 1 2 6 7 4 1 2 0 8]] true Y:  [[9, 5, 1, 2, 0, 8, 1, 3, 6, 7, 4, 1, 2, 0, 8]] prediction str:  if you yant you\n",
            "5 loss:  0.8674528002738953 prediction:  [[9 5 1 2 0 8 1 2 6 7 4 1 2 0 8]] true Y:  [[9, 5, 1, 2, 0, 8, 1, 3, 6, 7, 4, 1, 2, 0, 8]] prediction str:  if you yant you\n",
            "6 loss:  0.8672866821289062 prediction:  [[9 5 1 2 0 8 1 2 6 7 4 1 2 0 8]] true Y:  [[9, 5, 1, 2, 0, 8, 1, 3, 6, 7, 4, 1, 2, 0, 8]] prediction str:  if you yant you\n",
            "7 loss:  0.8671323657035828 prediction:  [[9 5 1 2 0 8 1 2 6 7 4 1 2 0 8]] true Y:  [[9, 5, 1, 2, 0, 8, 1, 3, 6, 7, 4, 1, 2, 0, 8]] prediction str:  if you yant you\n",
            "8 loss:  0.8669893145561218 prediction:  [[9 5 1 2 0 8 1 2 6 7 4 1 2 0 8]] true Y:  [[9, 5, 1, 2, 0, 8, 1, 3, 6, 7, 4, 1, 2, 0, 8]] prediction str:  if you yant you\n",
            "9 loss:  0.8668563961982727 prediction:  [[9 5 1 2 0 8 1 2 6 7 4 1 2 0 8]] true Y:  [[9, 5, 1, 2, 0, 8, 1, 3, 6, 7, 4, 1, 2, 0, 8]] prediction str:  if you yant you\n",
            "10 loss:  0.8667328953742981 prediction:  [[9 5 1 2 0 8 1 2 6 7 4 1 2 0 8]] true Y:  [[9, 5, 1, 2, 0, 8, 1, 3, 6, 7, 4, 1, 2, 0, 8]] prediction str:  if you yant you\n",
            "11 loss:  0.8666180372238159 prediction:  [[9 5 1 2 0 8 1 2 6 7 4 1 2 0 8]] true Y:  [[9, 5, 1, 2, 0, 8, 1, 3, 6, 7, 4, 1, 2, 0, 8]] prediction str:  if you yant you\n",
            "12 loss:  0.8665109276771545 prediction:  [[9 5 1 2 0 8 1 2 6 7 4 1 2 0 8]] true Y:  [[9, 5, 1, 2, 0, 8, 1, 3, 6, 7, 4, 1, 2, 0, 8]] prediction str:  if you yant you\n",
            "13 loss:  0.8664108514785767 prediction:  [[9 5 1 2 0 8 1 2 6 7 4 1 2 0 8]] true Y:  [[9, 5, 1, 2, 0, 8, 1, 3, 6, 7, 4, 1, 2, 0, 8]] prediction str:  if you yant you\n",
            "14 loss:  0.8663171529769897 prediction:  [[9 5 1 2 0 8 1 2 6 7 4 1 2 0 8]] true Y:  [[9, 5, 1, 2, 0, 8, 1, 3, 6, 7, 4, 1, 2, 0, 8]] prediction str:  if you yant you\n",
            "15 loss:  0.8662291169166565 prediction:  [[9 5 1 2 0 8 1 2 6 7 4 1 2 0 8]] true Y:  [[9, 5, 1, 2, 0, 8, 1, 3, 6, 7, 4, 1, 2, 0, 8]] prediction str:  if you yant you\n",
            "16 loss:  0.8661460280418396 prediction:  [[9 5 1 2 0 8 1 2 6 7 4 1 2 0 8]] true Y:  [[9, 5, 1, 2, 0, 8, 1, 3, 6, 7, 4, 1, 2, 0, 8]] prediction str:  if you yant you\n",
            "17 loss:  0.86606764793396 prediction:  [[9 5 1 2 0 8 1 2 6 7 4 1 2 0 8]] true Y:  [[9, 5, 1, 2, 0, 8, 1, 3, 6, 7, 4, 1, 2, 0, 8]] prediction str:  if you yant you\n",
            "18 loss:  0.8659932017326355 prediction:  [[9 5 1 2 0 8 1 2 6 7 4 1 2 0 8]] true Y:  [[9, 5, 1, 2, 0, 8, 1, 3, 6, 7, 4, 1, 2, 0, 8]] prediction str:  if you yant you\n",
            "19 loss:  0.8659226298332214 prediction:  [[9 5 1 2 0 8 1 2 6 7 4 1 2 0 8]] true Y:  [[9, 5, 1, 2, 0, 8, 1, 3, 6, 7, 4, 1, 2, 0, 8]] prediction str:  if you yant you\n",
            "20 loss:  0.8658552169799805 prediction:  [[9 5 1 2 0 8 1 2 6 7 4 1 2 0 8]] true Y:  [[9, 5, 1, 2, 0, 8, 1, 3, 6, 7, 4, 1, 2, 0, 8]] prediction str:  if you yant you\n",
            "21 loss:  0.8657909631729126 prediction:  [[9 5 1 2 0 8 1 2 6 7 4 1 2 0 8]] true Y:  [[9, 5, 1, 2, 0, 8, 1, 3, 6, 7, 4, 1, 2, 0, 8]] prediction str:  if you yant you\n",
            "22 loss:  0.8657295107841492 prediction:  [[9 5 1 2 0 8 1 2 6 7 4 1 2 0 8]] true Y:  [[9, 5, 1, 2, 0, 8, 1, 3, 6, 7, 4, 1, 2, 0, 8]] prediction str:  if you yant you\n",
            "23 loss:  0.8656706213951111 prediction:  [[9 5 1 2 0 8 1 2 6 7 4 1 2 0 8]] true Y:  [[9, 5, 1, 2, 0, 8, 1, 3, 6, 7, 4, 1, 2, 0, 8]] prediction str:  if you yant you\n",
            "24 loss:  0.8656144738197327 prediction:  [[9 5 1 2 0 8 1 2 6 7 4 1 2 0 8]] true Y:  [[9, 5, 1, 2, 0, 8, 1, 3, 6, 7, 4, 1, 2, 0, 8]] prediction str:  if you yant you\n",
            "25 loss:  0.8655605316162109 prediction:  [[9 5 1 2 0 8 1 2 6 7 4 1 2 0 8]] true Y:  [[9, 5, 1, 2, 0, 8, 1, 3, 6, 7, 4, 1, 2, 0, 8]] prediction str:  if you yant you\n",
            "26 loss:  0.8655088543891907 prediction:  [[9 5 1 2 0 8 1 2 6 7 4 1 2 0 8]] true Y:  [[9, 5, 1, 2, 0, 8, 1, 3, 6, 7, 4, 1, 2, 0, 8]] prediction str:  if you yant you\n",
            "27 loss:  0.865459144115448 prediction:  [[9 5 1 2 0 8 1 2 6 7 4 1 2 0 8]] true Y:  [[9, 5, 1, 2, 0, 8, 1, 3, 6, 7, 4, 1, 2, 0, 8]] prediction str:  if you yant you\n",
            "28 loss:  0.8654114603996277 prediction:  [[9 5 1 2 0 8 1 2 6 7 4 1 2 0 8]] true Y:  [[9, 5, 1, 2, 0, 8, 1, 3, 6, 7, 4, 1, 2, 0, 8]] prediction str:  if you yant you\n",
            "29 loss:  0.8653656840324402 prediction:  [[9 5 1 2 0 8 1 2 6 7 4 1 2 0 8]] true Y:  [[9, 5, 1, 2, 0, 8, 1, 3, 6, 7, 4, 1, 2, 0, 8]] prediction str:  if you yant you\n",
            "30 loss:  0.8653215169906616 prediction:  [[9 5 1 2 0 8 1 2 6 7 4 1 2 0 8]] true Y:  [[9, 5, 1, 2, 0, 8, 1, 3, 6, 7, 4, 1, 2, 0, 8]] prediction str:  if you yant you\n",
            "31 loss:  0.865278959274292 prediction:  [[9 5 1 2 0 8 1 2 6 7 4 1 2 0 8]] true Y:  [[9, 5, 1, 2, 0, 8, 1, 3, 6, 7, 4, 1, 2, 0, 8]] prediction str:  if you yant you\n",
            "32 loss:  0.8652379512786865 prediction:  [[9 5 1 2 0 8 1 2 6 7 4 1 2 0 8]] true Y:  [[9, 5, 1, 2, 0, 8, 1, 3, 6, 7, 4, 1, 2, 0, 8]] prediction str:  if you yant you\n",
            "33 loss:  0.8651983737945557 prediction:  [[9 5 1 2 0 8 1 2 6 7 4 1 2 0 8]] true Y:  [[9, 5, 1, 2, 0, 8, 1, 3, 6, 7, 4, 1, 2, 0, 8]] prediction str:  if you yant you\n",
            "34 loss:  0.8651599884033203 prediction:  [[9 5 1 2 0 8 1 2 6 7 4 1 2 0 8]] true Y:  [[9, 5, 1, 2, 0, 8, 1, 3, 6, 7, 4, 1, 2, 0, 8]] prediction str:  if you yant you\n",
            "35 loss:  0.8651230335235596 prediction:  [[9 5 1 2 0 8 1 2 6 7 4 1 2 0 8]] true Y:  [[9, 5, 1, 2, 0, 8, 1, 3, 6, 7, 4, 1, 2, 0, 8]] prediction str:  if you yant you\n",
            "36 loss:  0.8650869727134705 prediction:  [[9 5 1 2 0 8 1 2 6 7 4 1 2 0 8]] true Y:  [[9, 5, 1, 2, 0, 8, 1, 3, 6, 7, 4, 1, 2, 0, 8]] prediction str:  if you yant you\n",
            "37 loss:  0.8650522232055664 prediction:  [[9 5 1 2 0 8 1 2 6 7 4 1 2 0 8]] true Y:  [[9, 5, 1, 2, 0, 8, 1, 3, 6, 7, 4, 1, 2, 0, 8]] prediction str:  if you yant you\n",
            "38 loss:  0.8650181889533997 prediction:  [[9 5 1 2 0 8 1 2 6 7 4 1 2 0 8]] true Y:  [[9, 5, 1, 2, 0, 8, 1, 3, 6, 7, 4, 1, 2, 0, 8]] prediction str:  if you yant you\n",
            "39 loss:  0.8649853467941284 prediction:  [[9 5 1 2 0 8 1 2 6 7 4 1 2 0 8]] true Y:  [[9, 5, 1, 2, 0, 8, 1, 3, 6, 7, 4, 1, 2, 0, 8]] prediction str:  if you yant you\n",
            "40 loss:  0.8649532198905945 prediction:  [[9 5 1 2 0 8 1 2 6 7 4 1 2 0 8]] true Y:  [[9, 5, 1, 2, 0, 8, 1, 3, 6, 7, 4, 1, 2, 0, 8]] prediction str:  if you yant you\n",
            "41 loss:  0.8649219274520874 prediction:  [[9 5 1 2 0 8 1 2 6 7 4 1 2 0 8]] true Y:  [[9, 5, 1, 2, 0, 8, 1, 3, 6, 7, 4, 1, 2, 0, 8]] prediction str:  if you yant you\n",
            "42 loss:  0.8648914098739624 prediction:  [[9 5 1 2 0 8 1 2 6 7 4 1 2 0 8]] true Y:  [[9, 5, 1, 2, 0, 8, 1, 3, 6, 7, 4, 1, 2, 0, 8]] prediction str:  if you yant you\n",
            "43 loss:  0.8648617267608643 prediction:  [[9 5 1 2 0 8 1 2 6 7 4 1 2 0 8]] true Y:  [[9, 5, 1, 2, 0, 8, 1, 3, 6, 7, 4, 1, 2, 0, 8]] prediction str:  if you yant you\n",
            "44 loss:  0.8648328185081482 prediction:  [[9 5 1 2 0 8 1 2 6 7 4 1 2 0 8]] true Y:  [[9, 5, 1, 2, 0, 8, 1, 3, 6, 7, 4, 1, 2, 0, 8]] prediction str:  if you yant you\n",
            "45 loss:  0.8648046255111694 prediction:  [[9 5 1 2 0 8 1 2 6 7 4 1 2 0 8]] true Y:  [[9, 5, 1, 2, 0, 8, 1, 3, 6, 7, 4, 1, 2, 0, 8]] prediction str:  if you yant you\n",
            "46 loss:  0.8647769689559937 prediction:  [[9 5 1 2 0 8 1 2 6 7 4 1 2 0 8]] true Y:  [[9, 5, 1, 2, 0, 8, 1, 3, 6, 7, 4, 1, 2, 0, 8]] prediction str:  if you yant you\n",
            "47 loss:  0.8647499084472656 prediction:  [[9 5 1 2 0 8 1 2 6 7 4 1 2 0 8]] true Y:  [[9, 5, 1, 2, 0, 8, 1, 3, 6, 7, 4, 1, 2, 0, 8]] prediction str:  if you yant you\n",
            "48 loss:  0.8647234439849854 prediction:  [[9 5 1 2 0 8 1 2 6 7 4 1 2 0 8]] true Y:  [[9, 5, 1, 2, 0, 8, 1, 3, 6, 7, 4, 1, 2, 0, 8]] prediction str:  if you yant you\n",
            "49 loss:  0.8646976947784424 prediction:  [[9 5 1 2 0 8 1 2 6 7 4 1 2 0 8]] true Y:  [[9, 5, 1, 2, 0, 8, 1, 3, 6, 7, 4, 1, 2, 0, 8]] prediction str:  if you yant you\n",
            "50 loss:  0.8646725416183472 prediction:  [[9 5 1 2 0 8 1 2 6 7 4 1 2 0 8]] true Y:  [[9, 5, 1, 2, 0, 8, 1, 3, 6, 7, 4, 1, 2, 0, 8]] prediction str:  if you yant you\n",
            "51 loss:  0.8646479249000549 prediction:  [[9 5 1 2 0 8 1 2 6 7 4 1 2 0 8]] true Y:  [[9, 5, 1, 2, 0, 8, 1, 3, 6, 7, 4, 1, 2, 0, 8]] prediction str:  if you yant you\n",
            "52 loss:  0.8646237850189209 prediction:  [[9 5 1 2 0 8 1 2 6 7 4 1 2 0 8]] true Y:  [[9, 5, 1, 2, 0, 8, 1, 3, 6, 7, 4, 1, 2, 0, 8]] prediction str:  if you yant you\n",
            "53 loss:  0.8646000027656555 prediction:  [[9 5 1 2 0 8 1 2 6 7 4 1 2 0 8]] true Y:  [[9, 5, 1, 2, 0, 8, 1, 3, 6, 7, 4, 1, 2, 0, 8]] prediction str:  if you yant you\n",
            "54 loss:  0.8645768761634827 prediction:  [[9 5 1 2 0 8 1 2 6 7 4 1 2 0 8]] true Y:  [[9, 5, 1, 2, 0, 8, 1, 3, 6, 7, 4, 1, 2, 0, 8]] prediction str:  if you yant you\n",
            "55 loss:  0.8645541667938232 prediction:  [[9 5 1 2 0 8 1 2 6 7 4 1 2 0 8]] true Y:  [[9, 5, 1, 2, 0, 8, 1, 3, 6, 7, 4, 1, 2, 0, 8]] prediction str:  if you yant you\n",
            "56 loss:  0.8645318746566772 prediction:  [[9 5 1 2 0 8 1 2 6 7 4 1 2 0 8]] true Y:  [[9, 5, 1, 2, 0, 8, 1, 3, 6, 7, 4, 1, 2, 0, 8]] prediction str:  if you yant you\n",
            "57 loss:  0.864510178565979 prediction:  [[9 5 1 2 0 8 1 2 6 7 4 1 2 0 8]] true Y:  [[9, 5, 1, 2, 0, 8, 1, 3, 6, 7, 4, 1, 2, 0, 8]] prediction str:  if you yant you\n",
            "58 loss:  0.8644886612892151 prediction:  [[9 5 1 2 0 8 1 2 6 7 4 1 2 0 8]] true Y:  [[9, 5, 1, 2, 0, 8, 1, 3, 6, 7, 4, 1, 2, 0, 8]] prediction str:  if you yant you\n",
            "59 loss:  0.8644676208496094 prediction:  [[9 5 1 2 0 8 1 2 6 7 4 1 2 0 8]] true Y:  [[9, 5, 1, 2, 0, 8, 1, 3, 6, 7, 4, 1, 2, 0, 8]] prediction str:  if you yant you\n",
            "60 loss:  0.8644470572471619 prediction:  [[9 5 1 2 0 8 1 2 6 7 4 1 2 0 8]] true Y:  [[9, 5, 1, 2, 0, 8, 1, 3, 6, 7, 4, 1, 2, 0, 8]] prediction str:  if you yant you\n",
            "61 loss:  0.8644267320632935 prediction:  [[9 5 1 2 0 8 1 2 6 7 4 1 2 0 8]] true Y:  [[9, 5, 1, 2, 0, 8, 1, 3, 6, 7, 4, 1, 2, 0, 8]] prediction str:  if you yant you\n",
            "62 loss:  0.864406943321228 prediction:  [[9 5 1 2 0 8 1 2 6 7 4 1 2 0 8]] true Y:  [[9, 5, 1, 2, 0, 8, 1, 3, 6, 7, 4, 1, 2, 0, 8]] prediction str:  if you yant you\n",
            "63 loss:  0.8643874526023865 prediction:  [[9 5 1 2 0 8 1 2 6 7 4 1 2 0 8]] true Y:  [[9, 5, 1, 2, 0, 8, 1, 3, 6, 7, 4, 1, 2, 0, 8]] prediction str:  if you yant you\n",
            "64 loss:  0.8643682599067688 prediction:  [[9 5 1 2 0 8 1 2 6 7 4 1 2 0 8]] true Y:  [[9, 5, 1, 2, 0, 8, 1, 3, 6, 7, 4, 1, 2, 0, 8]] prediction str:  if you yant you\n",
            "65 loss:  0.864349365234375 prediction:  [[9 5 1 2 0 8 1 2 6 7 4 1 2 0 8]] true Y:  [[9, 5, 1, 2, 0, 8, 1, 3, 6, 7, 4, 1, 2, 0, 8]] prediction str:  if you yant you\n",
            "66 loss:  0.8643308877944946 prediction:  [[9 5 1 2 0 8 1 2 6 7 4 1 2 0 8]] true Y:  [[9, 5, 1, 2, 0, 8, 1, 3, 6, 7, 4, 1, 2, 0, 8]] prediction str:  if you yant you\n",
            "67 loss:  0.8643125891685486 prediction:  [[9 5 1 2 0 8 1 2 6 7 4 1 2 0 8]] true Y:  [[9, 5, 1, 2, 0, 8, 1, 3, 6, 7, 4, 1, 2, 0, 8]] prediction str:  if you yant you\n",
            "68 loss:  0.8642947673797607 prediction:  [[9 5 1 2 0 8 1 2 6 7 4 1 2 0 8]] true Y:  [[9, 5, 1, 2, 0, 8, 1, 3, 6, 7, 4, 1, 2, 0, 8]] prediction str:  if you yant you\n",
            "69 loss:  0.864277184009552 prediction:  [[9 5 1 2 0 8 1 2 6 7 4 1 2 0 8]] true Y:  [[9, 5, 1, 2, 0, 8, 1, 3, 6, 7, 4, 1, 2, 0, 8]] prediction str:  if you yant you\n",
            "70 loss:  0.8642597794532776 prediction:  [[9 5 1 2 0 8 1 2 6 7 4 1 2 0 8]] true Y:  [[9, 5, 1, 2, 0, 8, 1, 3, 6, 7, 4, 1, 2, 0, 8]] prediction str:  if you yant you\n",
            "71 loss:  0.8642428517341614 prediction:  [[9 5 1 2 0 8 1 2 6 7 4 1 2 0 8]] true Y:  [[9, 5, 1, 2, 0, 8, 1, 3, 6, 7, 4, 1, 2, 0, 8]] prediction str:  if you yant you\n",
            "72 loss:  0.8642260432243347 prediction:  [[9 5 1 2 0 8 1 2 6 7 4 1 2 0 8]] true Y:  [[9, 5, 1, 2, 0, 8, 1, 3, 6, 7, 4, 1, 2, 0, 8]] prediction str:  if you yant you\n",
            "73 loss:  0.8642097115516663 prediction:  [[9 5 1 2 0 8 1 2 6 7 4 1 2 0 8]] true Y:  [[9, 5, 1, 2, 0, 8, 1, 3, 6, 7, 4, 1, 2, 0, 8]] prediction str:  if you yant you\n",
            "74 loss:  0.864193320274353 prediction:  [[9 5 1 2 0 8 1 2 6 7 4 1 2 0 8]] true Y:  [[9, 5, 1, 2, 0, 8, 1, 3, 6, 7, 4, 1, 2, 0, 8]] prediction str:  if you yant you\n",
            "75 loss:  0.8641773462295532 prediction:  [[9 5 1 2 0 8 1 2 6 7 4 1 2 0 8]] true Y:  [[9, 5, 1, 2, 0, 8, 1, 3, 6, 7, 4, 1, 2, 0, 8]] prediction str:  if you yant you\n",
            "76 loss:  0.8641616702079773 prediction:  [[9 5 1 2 0 8 1 2 6 7 4 1 2 0 8]] true Y:  [[9, 5, 1, 2, 0, 8, 1, 3, 6, 7, 4, 1, 2, 0, 8]] prediction str:  if you yant you\n",
            "77 loss:  0.8641461730003357 prediction:  [[9 5 1 2 0 8 1 2 6 7 4 1 2 0 8]] true Y:  [[9, 5, 1, 2, 0, 8, 1, 3, 6, 7, 4, 1, 2, 0, 8]] prediction str:  if you yant you\n",
            "78 loss:  0.8641308546066284 prediction:  [[9 5 1 2 0 8 1 2 6 7 4 1 2 0 8]] true Y:  [[9, 5, 1, 2, 0, 8, 1, 3, 6, 7, 4, 1, 2, 0, 8]] prediction str:  if you yant you\n",
            "79 loss:  0.864115834236145 prediction:  [[9 5 1 2 0 8 1 2 6 7 4 1 2 0 8]] true Y:  [[9, 5, 1, 2, 0, 8, 1, 3, 6, 7, 4, 1, 2, 0, 8]] prediction str:  if you yant you\n",
            "80 loss:  0.8641010522842407 prediction:  [[9 5 1 2 0 8 1 2 6 7 4 1 2 0 8]] true Y:  [[9, 5, 1, 2, 0, 8, 1, 3, 6, 7, 4, 1, 2, 0, 8]] prediction str:  if you yant you\n",
            "81 loss:  0.8640865087509155 prediction:  [[9 5 1 2 0 8 1 2 6 7 4 1 2 0 8]] true Y:  [[9, 5, 1, 2, 0, 8, 1, 3, 6, 7, 4, 1, 2, 0, 8]] prediction str:  if you yant you\n",
            "82 loss:  0.8640721440315247 prediction:  [[9 5 1 2 0 8 1 2 6 7 4 1 2 0 8]] true Y:  [[9, 5, 1, 2, 0, 8, 1, 3, 6, 7, 4, 1, 2, 0, 8]] prediction str:  if you yant you\n",
            "83 loss:  0.8640580773353577 prediction:  [[9 5 1 2 0 8 1 2 6 7 4 1 2 0 8]] true Y:  [[9, 5, 1, 2, 0, 8, 1, 3, 6, 7, 4, 1, 2, 0, 8]] prediction str:  if you yant you\n",
            "84 loss:  0.8640440702438354 prediction:  [[9 5 1 2 0 8 1 2 6 7 4 1 2 0 8]] true Y:  [[9, 5, 1, 2, 0, 8, 1, 3, 6, 7, 4, 1, 2, 0, 8]] prediction str:  if you yant you\n",
            "85 loss:  0.8640303015708923 prediction:  [[9 5 1 2 0 8 1 2 6 7 4 1 2 0 8]] true Y:  [[9, 5, 1, 2, 0, 8, 1, 3, 6, 7, 4, 1, 2, 0, 8]] prediction str:  if you yant you\n",
            "86 loss:  0.8640167713165283 prediction:  [[9 5 1 2 0 8 1 2 6 7 4 1 2 0 8]] true Y:  [[9, 5, 1, 2, 0, 8, 1, 3, 6, 7, 4, 1, 2, 0, 8]] prediction str:  if you yant you\n",
            "87 loss:  0.8640034794807434 prediction:  [[9 5 1 2 0 8 1 2 6 7 4 1 2 0 8]] true Y:  [[9, 5, 1, 2, 0, 8, 1, 3, 6, 7, 4, 1, 2, 0, 8]] prediction str:  if you yant you\n",
            "88 loss:  0.8639902472496033 prediction:  [[9 5 1 2 0 8 1 2 6 7 4 1 2 0 8]] true Y:  [[9, 5, 1, 2, 0, 8, 1, 3, 6, 7, 4, 1, 2, 0, 8]] prediction str:  if you yant you\n",
            "89 loss:  0.8639774322509766 prediction:  [[9 5 1 2 0 8 1 2 6 7 4 1 2 0 8]] true Y:  [[9, 5, 1, 2, 0, 8, 1, 3, 6, 7, 4, 1, 2, 0, 8]] prediction str:  if you yant you\n",
            "90 loss:  0.8639646172523499 prediction:  [[9 5 1 2 0 8 1 2 6 7 4 1 2 0 8]] true Y:  [[9, 5, 1, 2, 0, 8, 1, 3, 6, 7, 4, 1, 2, 0, 8]] prediction str:  if you yant you\n",
            "91 loss:  0.8639519810676575 prediction:  [[9 5 1 2 0 8 1 2 6 7 4 1 2 0 8]] true Y:  [[9, 5, 1, 2, 0, 8, 1, 3, 6, 7, 4, 1, 2, 0, 8]] prediction str:  if you yant you\n",
            "92 loss:  0.8639395833015442 prediction:  [[9 5 1 2 0 8 1 2 6 7 4 1 2 0 8]] true Y:  [[9, 5, 1, 2, 0, 8, 1, 3, 6, 7, 4, 1, 2, 0, 8]] prediction str:  if you yant you\n",
            "93 loss:  0.8639272451400757 prediction:  [[9 5 1 2 0 8 1 2 6 7 4 1 2 0 8]] true Y:  [[9, 5, 1, 2, 0, 8, 1, 3, 6, 7, 4, 1, 2, 0, 8]] prediction str:  if you yant you\n",
            "94 loss:  0.8639152646064758 prediction:  [[9 5 1 2 0 8 1 2 6 7 4 1 2 0 8]] true Y:  [[9, 5, 1, 2, 0, 8, 1, 3, 6, 7, 4, 1, 2, 0, 8]] prediction str:  if you yant you\n",
            "95 loss:  0.863903284072876 prediction:  [[9 5 1 2 0 8 1 2 6 7 4 1 2 0 8]] true Y:  [[9, 5, 1, 2, 0, 8, 1, 3, 6, 7, 4, 1, 2, 0, 8]] prediction str:  if you yant you\n",
            "96 loss:  0.8638916015625 prediction:  [[9 5 1 2 0 8 1 2 6 7 4 1 2 0 8]] true Y:  [[9, 5, 1, 2, 0, 8, 1, 3, 6, 7, 4, 1, 2, 0, 8]] prediction str:  if you yant you\n",
            "97 loss:  0.8638798594474792 prediction:  [[9 5 1 2 0 8 1 2 6 7 4 1 2 0 8]] true Y:  [[9, 5, 1, 2, 0, 8, 1, 3, 6, 7, 4, 1, 2, 0, 8]] prediction str:  if you yant you\n",
            "98 loss:  0.8638684749603271 prediction:  [[9 5 1 2 0 8 1 2 6 7 4 1 2 0 8]] true Y:  [[9, 5, 1, 2, 0, 8, 1, 3, 6, 7, 4, 1, 2, 0, 8]] prediction str:  if you yant you\n",
            "99 loss:  0.8638570308685303 prediction:  [[9 5 1 2 0 8 1 2 6 7 4 1 2 0 8]] true Y:  [[9, 5, 1, 2, 0, 8, 1, 3, 6, 7, 4, 1, 2, 0, 8]] prediction str:  if you yant you\n"
          ],
          "name": "stdout"
        }
      ]
    },
    {
      "cell_type": "markdown",
      "metadata": {
        "id": "OPkI-OQrajYs"
      },
      "source": [
        "* ????????????????"
      ]
    }
  ]
}