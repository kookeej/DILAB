{
 "cells": [
  {
   "cell_type": "markdown",
   "id": "da0facd9",
   "metadata": {},
   "source": [
    "Lab10-3 - Visdom\n",
    "===\n",
    "## 목차\n",
    "1. Text\n",
    "2. Image\n",
    "3. Images\n",
    "4. Line plot   \n",
    "\n",
    "Visdom이란, 데이터 시각화 도구이다."
   ]
  },
  {
   "cell_type": "code",
   "execution_count": 3,
   "id": "121088cd",
   "metadata": {},
   "outputs": [],
   "source": [
    "import torch\n",
    "import torch.nn as nn\n",
    "import torchvision\n",
    "import torchvision.datasets as dsets"
   ]
  },
  {
   "cell_type": "markdown",
   "id": "cdf5165c",
   "metadata": {},
   "source": [
    "* 먼저 visdom server를 켜준다.\n",
    "```\n",
    "python -m visdom.server\n",
    "```"
   ]
  },
  {
   "cell_type": "code",
   "execution_count": 5,
   "id": "308972d1",
   "metadata": {},
   "outputs": [
    {
     "name": "stderr",
     "output_type": "stream",
     "text": [
      "Setting up a new session...\n"
     ]
    }
   ],
   "source": [
    "import visdom\n",
    "vis = visdom.Visdom()"
   ]
  },
  {
   "cell_type": "markdown",
   "id": "c1e3ee22",
   "metadata": {},
   "source": [
    "# 1. Text\n",
    "```vis.text()```를 이용해서 text를 띄운다."
   ]
  },
  {
   "cell_type": "code",
   "execution_count": null,
   "id": "42b987b1",
   "metadata": {},
   "outputs": [],
   "source": [
    "vis.text(\"Hello, world!\", env=\"main\")"
   ]
  },
  {
   "cell_type": "markdown",
   "id": "aa7241ee",
   "metadata": {},
   "source": [
    "# 2. Image"
   ]
  },
  {
   "cell_type": "code",
   "execution_count": 9,
   "id": "61d32698",
   "metadata": {},
   "outputs": [
    {
     "data": {
      "text/plain": [
       "'window_39c1e63e7c8440'"
      ]
     },
     "execution_count": 9,
     "metadata": {},
     "output_type": "execute_result"
    }
   ],
   "source": [
    "a = torch.randn(3,200,200)    # 3: RGB, 200*200\n",
    "vis.image(a)"
   ]
  },
  {
   "cell_type": "markdown",
   "id": "1e400628",
   "metadata": {},
   "source": [
    "# 3. Images"
   ]
  },
  {
   "cell_type": "code",
   "execution_count": 10,
   "id": "35673c47",
   "metadata": {},
   "outputs": [
    {
     "data": {
      "text/plain": [
       "'window_39c1e65dbd572e'"
      ]
     },
     "execution_count": 10,
     "metadata": {},
     "output_type": "execute_result"
    }
   ],
   "source": [
    "vis.images(torch.Tensor(3, 3, 28, 28))     # image 3개"
   ]
  },
  {
   "cell_type": "markdown",
   "id": "86ef6694",
   "metadata": {},
   "source": [
    "## 3.1. Example (using MNIST and CIFAR10)"
   ]
  },
  {
   "cell_type": "code",
   "execution_count": 11,
   "id": "e8f62469",
   "metadata": {
    "scrolled": false
   },
   "outputs": [
    {
     "name": "stdout",
     "output_type": "stream",
     "text": [
      "Downloading http://yann.lecun.com/exdb/mnist/train-images-idx3-ubyte.gz\n",
      "Failed to download (trying next):\n",
      "HTTP Error 503: Service Unavailable\n",
      "\n",
      "Downloading https://ossci-datasets.s3.amazonaws.com/mnist/train-images-idx3-ubyte.gz\n",
      "Downloading https://ossci-datasets.s3.amazonaws.com/mnist/train-images-idx3-ubyte.gz to /MNIST_data\\MNIST\\raw\\train-images-idx3-ubyte.gz\n"
     ]
    },
    {
     "data": {
      "application/vnd.jupyter.widget-view+json": {
       "model_id": "4ef297bde6e1448f956119dd3409baa6",
       "version_major": 2,
       "version_minor": 0
      },
      "text/plain": [
       "  0%|          | 0/9912422 [00:00<?, ?it/s]"
      ]
     },
     "metadata": {},
     "output_type": "display_data"
    },
    {
     "name": "stdout",
     "output_type": "stream",
     "text": [
      "Extracting /MNIST_data\\MNIST\\raw\\train-images-idx3-ubyte.gz to /MNIST_data\\MNIST\\raw\n",
      "\n",
      "Downloading http://yann.lecun.com/exdb/mnist/train-labels-idx1-ubyte.gz\n",
      "Failed to download (trying next):\n",
      "HTTP Error 503: Service Unavailable\n",
      "\n",
      "Downloading https://ossci-datasets.s3.amazonaws.com/mnist/train-labels-idx1-ubyte.gz\n",
      "Downloading https://ossci-datasets.s3.amazonaws.com/mnist/train-labels-idx1-ubyte.gz to /MNIST_data\\MNIST\\raw\\train-labels-idx1-ubyte.gz\n"
     ]
    },
    {
     "data": {
      "application/vnd.jupyter.widget-view+json": {
       "model_id": "c9b715da87ba4ce7a90aa6a7875c857a",
       "version_major": 2,
       "version_minor": 0
      },
      "text/plain": [
       "  0%|          | 0/28881 [00:00<?, ?it/s]"
      ]
     },
     "metadata": {},
     "output_type": "display_data"
    },
    {
     "name": "stdout",
     "output_type": "stream",
     "text": [
      "Extracting /MNIST_data\\MNIST\\raw\\train-labels-idx1-ubyte.gz to /MNIST_data\\MNIST\\raw\n",
      "\n",
      "Downloading http://yann.lecun.com/exdb/mnist/t10k-images-idx3-ubyte.gz\n",
      "Failed to download (trying next):\n",
      "HTTP Error 503: Service Unavailable\n",
      "\n",
      "Downloading https://ossci-datasets.s3.amazonaws.com/mnist/t10k-images-idx3-ubyte.gz\n",
      "Downloading https://ossci-datasets.s3.amazonaws.com/mnist/t10k-images-idx3-ubyte.gz to /MNIST_data\\MNIST\\raw\\t10k-images-idx3-ubyte.gz\n"
     ]
    },
    {
     "data": {
      "application/vnd.jupyter.widget-view+json": {
       "model_id": "576dc5f42b5b433f8cbe238dcdd116b2",
       "version_major": 2,
       "version_minor": 0
      },
      "text/plain": [
       "  0%|          | 0/1648877 [00:00<?, ?it/s]"
      ]
     },
     "metadata": {},
     "output_type": "display_data"
    },
    {
     "name": "stdout",
     "output_type": "stream",
     "text": [
      "Extracting /MNIST_data\\MNIST\\raw\\t10k-images-idx3-ubyte.gz to /MNIST_data\\MNIST\\raw\n",
      "\n",
      "Downloading http://yann.lecun.com/exdb/mnist/t10k-labels-idx1-ubyte.gz\n",
      "Failed to download (trying next):\n",
      "HTTP Error 503: Service Unavailable\n",
      "\n",
      "Downloading https://ossci-datasets.s3.amazonaws.com/mnist/t10k-labels-idx1-ubyte.gz\n",
      "Downloading https://ossci-datasets.s3.amazonaws.com/mnist/t10k-labels-idx1-ubyte.gz to /MNIST_data\\MNIST\\raw\\t10k-labels-idx1-ubyte.gz\n"
     ]
    },
    {
     "data": {
      "application/vnd.jupyter.widget-view+json": {
       "model_id": "1d02343e8486488ea5b63ab56f64cd6b",
       "version_major": 2,
       "version_minor": 0
      },
      "text/plain": [
       "  0%|          | 0/4542 [00:00<?, ?it/s]"
      ]
     },
     "metadata": {},
     "output_type": "display_data"
    },
    {
     "name": "stdout",
     "output_type": "stream",
     "text": [
      "Extracting /MNIST_data\\MNIST\\raw\\t10k-labels-idx1-ubyte.gz to /MNIST_data\\MNIST\\raw\n",
      "\n"
     ]
    },
    {
     "name": "stderr",
     "output_type": "stream",
     "text": [
      "C:\\Users\\user\\Anaconda3\\lib\\site-packages\\torchvision\\datasets\\mnist.py:498: UserWarning: The given NumPy array is not writeable, and PyTorch does not support non-writeable tensors. This means you can write to the underlying (supposedly non-writeable) NumPy array using the tensor. You may want to copy the array to protect its data or make it writeable before converting it to a tensor. This type of warning will be suppressed for the rest of this program. (Triggered internally at  ..\\torch\\csrc\\utils\\tensor_numpy.cpp:180.)\n",
      "  return torch.from_numpy(parsed.astype(m[2], copy=False)).view(*s)\n"
     ]
    },
    {
     "name": "stdout",
     "output_type": "stream",
     "text": [
      "Downloading https://www.cs.toronto.edu/~kriz/cifar-10-python.tar.gz to ./cifar10\\cifar-10-python.tar.gz\n"
     ]
    },
    {
     "data": {
      "application/vnd.jupyter.widget-view+json": {
       "model_id": "56cca3cb41654338a86758000d5ed04a",
       "version_major": 2,
       "version_minor": 0
      },
      "text/plain": [
       "  0%|          | 0/170498071 [00:00<?, ?it/s]"
      ]
     },
     "metadata": {},
     "output_type": "display_data"
    },
    {
     "name": "stdout",
     "output_type": "stream",
     "text": [
      "Extracting ./cifar10\\cifar-10-python.tar.gz to ./cifar10\n"
     ]
    }
   ],
   "source": [
    "MNIST = dsets.MNIST(root=\"/MNIST_data\", train=True, \n",
    "                    transform=torchvision.transforms.ToTensor(), download=True)\n",
    "cifar10 = dsets.CIFAR10(root=\"./cifar10\", train=True,\n",
    "                       transform=torchvision.transforms.ToTensor(), download=True)"
   ]
  },
  {
   "cell_type": "markdown",
   "id": "72b36800",
   "metadata": {},
   "source": [
    "### CIFAR10"
   ]
  },
  {
   "cell_type": "code",
   "execution_count": 12,
   "id": "05589a22",
   "metadata": {},
   "outputs": [
    {
     "name": "stdout",
     "output_type": "stream",
     "text": [
      "torch.Size([3, 32, 32])\n"
     ]
    },
    {
     "data": {
      "text/plain": [
       "'window_39c1e93081372c'"
      ]
     },
     "execution_count": 12,
     "metadata": {},
     "output_type": "execute_result"
    }
   ],
   "source": [
    "data = cifar10.__getitem__(0)\n",
    "print(data[0].shape)\n",
    "vis.images(data[0], env=\"main\")"
   ]
  },
  {
   "cell_type": "markdown",
   "id": "fdee4f14",
   "metadata": {},
   "source": [
    "* MNIST"
   ]
  },
  {
   "cell_type": "code",
   "execution_count": 13,
   "id": "26244dee",
   "metadata": {},
   "outputs": [
    {
     "name": "stdout",
     "output_type": "stream",
     "text": [
      "torch.Size([1, 28, 28])\n"
     ]
    },
    {
     "data": {
      "text/plain": [
       "'window_39c1ecec679d4e'"
      ]
     },
     "execution_count": 13,
     "metadata": {},
     "output_type": "execute_result"
    }
   ],
   "source": [
    "data = MNIST.__getitem__(0)\n",
    "print(data[0].shape)\n",
    "vis.images(data[0], env=\"main\")"
   ]
  },
  {
   "cell_type": "markdown",
   "id": "79ab6134",
   "metadata": {},
   "source": [
    "### check dataset"
   ]
  },
  {
   "cell_type": "code",
   "execution_count": 14,
   "id": "0d262dd2",
   "metadata": {},
   "outputs": [],
   "source": [
    "data_loader = torch.utils.data.DataLoader(dataset = MNIST,\n",
    "                                         batch_size = 32,\n",
    "                                         shuffle = False)"
   ]
  },
  {
   "cell_type": "code",
   "execution_count": 15,
   "id": "f686d7c5",
   "metadata": {},
   "outputs": [
    {
     "name": "stdout",
     "output_type": "stream",
     "text": [
      "torch.Size([32, 1, 28, 28])\n"
     ]
    }
   ],
   "source": [
    "for num, value in enumerate(data_loader):\n",
    "    value = value[0]\n",
    "    print(value.shape)\n",
    "    vis.images(value)\n",
    "    break"
   ]
  },
  {
   "cell_type": "markdown",
   "id": "bafd53c3",
   "metadata": {},
   "source": [
    "# 4. Line Plot"
   ]
  },
  {
   "cell_type": "code",
   "execution_count": 16,
   "id": "3c4ce067",
   "metadata": {},
   "outputs": [],
   "source": [
    "Y_data = torch.randn(5)\n",
    "plt = vis.line(Y=Y_data)"
   ]
  },
  {
   "cell_type": "code",
   "execution_count": 17,
   "id": "4dbb78c2",
   "metadata": {},
   "outputs": [],
   "source": [
    "X_data = torch.Tensor([1,2,3,4,5])\n",
    "plt = vis.line(Y=Y_data, X=X_data)"
   ]
  },
  {
   "cell_type": "markdown",
   "id": "2dcea6d6",
   "metadata": {},
   "source": [
    "### Line update"
   ]
  },
  {
   "cell_type": "code",
   "execution_count": 23,
   "id": "c1b507ca",
   "metadata": {},
   "outputs": [
    {
     "data": {
      "text/plain": [
       "'window_39c1ee73721776'"
      ]
     },
     "execution_count": 23,
     "metadata": {},
     "output_type": "execute_result"
    }
   ],
   "source": [
    "Y_append = torch.randn(1)\n",
    "X_append = torch.Tensor([6])\n",
    "\n",
    "vis.line(Y=Y_append, X=X_append, win=plt, update='append')"
   ]
  },
  {
   "cell_type": "markdown",
   "id": "f3f26199",
   "metadata": {},
   "source": [
    "### multiple line on single windows"
   ]
  },
  {
   "cell_type": "code",
   "execution_count": 25,
   "id": "9845f5ae",
   "metadata": {},
   "outputs": [],
   "source": [
    "num = torch.Tensor(list(range(0, 10)))\n",
    "num = num.view(-1, 1)\n",
    "num = torch.cat((num, num), dim=1)\n",
    "\n",
    "plt = vis.line(Y=torch.randn(10, 2), X=num)"
   ]
  },
  {
   "cell_type": "markdown",
   "id": "a6ad70bf",
   "metadata": {},
   "source": [
    "### Line Info"
   ]
  },
  {
   "cell_type": "code",
   "execution_count": 29,
   "id": "5a4a94ad",
   "metadata": {},
   "outputs": [],
   "source": [
    "plt = vis.line(Y=Y_data, X=X_data, opts = dict(title='Test', showlegend=True))"
   ]
  },
  {
   "cell_type": "code",
   "execution_count": 31,
   "id": "65f1d7ee",
   "metadata": {},
   "outputs": [],
   "source": [
    "plt = vis.line(Y=Y_data, X=X_data, opts = dict(title='Test', legend=['1번'], showlegend=True))"
   ]
  },
  {
   "cell_type": "code",
   "execution_count": 32,
   "id": "697b8dc3",
   "metadata": {},
   "outputs": [],
   "source": [
    "plt = vis.line(Y=torch.randn(10, 2), X=num, opts=dict(title='Test',\n",
    "                                                      legend=['1번', '2번'],\n",
    "                                                     showlegend=True))"
   ]
  },
  {
   "cell_type": "markdown",
   "id": "0e26e932",
   "metadata": {},
   "source": [
    "### Make function for update line"
   ]
  },
  {
   "cell_type": "code",
   "execution_count": 33,
   "id": "2438bd5c",
   "metadata": {},
   "outputs": [],
   "source": [
    "def loss_tracker(loss_plot, loss_value, num):\n",
    "    '''num, loss_value are Tensor'''\n",
    "    vis.line(X=num, Y=loss_value,\n",
    "            win=loss_plot, update='append')"
   ]
  },
  {
   "cell_type": "code",
   "execution_count": 35,
   "id": "94ad2ef8",
   "metadata": {},
   "outputs": [],
   "source": [
    "plt = vis.line(Y=torch.Tensor(1).zero_())\n",
    "\n",
    "for i in range(500):\n",
    "    loss = torch.randn(1) + i\n",
    "    loss_tracker(plt, loss, torch.Tensor([i]))"
   ]
  },
  {
   "cell_type": "markdown",
   "id": "bf50de22",
   "metadata": {},
   "source": [
    "### Close the window"
   ]
  },
  {
   "cell_type": "code",
   "execution_count": 36,
   "id": "603a6c74",
   "metadata": {},
   "outputs": [
    {
     "data": {
      "text/plain": [
       "''"
      ]
     },
     "execution_count": 36,
     "metadata": {},
     "output_type": "execute_result"
    }
   ],
   "source": [
    "vis.close(env=\"main\")"
   ]
  }
 ],
 "metadata": {
  "kernelspec": {
   "display_name": "Python 3",
   "language": "python",
   "name": "python3"
  },
  "language_info": {
   "codemirror_mode": {
    "name": "ipython",
    "version": 3
   },
   "file_extension": ".py",
   "mimetype": "text/x-python",
   "name": "python",
   "nbconvert_exporter": "python",
   "pygments_lexer": "ipython3",
   "version": "3.8.8"
  }
 },
 "nbformat": 4,
 "nbformat_minor": 5
}
