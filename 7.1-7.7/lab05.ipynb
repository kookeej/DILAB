{
  "nbformat": 4,
  "nbformat_minor": 0,
  "metadata": {
    "colab": {
      "name": "lab05.ipynb",
      "provenance": [],
      "collapsed_sections": [],
      "authorship_tag": "ABX9TyPZdd5qtedqGVKhvOjNZHGi",
      "include_colab_link": true
    },
    "kernelspec": {
      "name": "python3",
      "display_name": "Python 3"
    },
    "language_info": {
      "name": "python"
    }
  },
  "cells": [
    {
      "cell_type": "markdown",
      "metadata": {
        "id": "view-in-github",
        "colab_type": "text"
      },
      "source": [
        "<a href=\"https://colab.research.google.com/github/kookeej/DILAB/blob/main/7.1-7.7/lab05.ipynb\" target=\"_parent\"><img src=\"https://colab.research.google.com/assets/colab-badge.svg\" alt=\"Open In Colab\"/></a>"
      ]
    },
    {
      "cell_type": "markdown",
      "metadata": {
        "id": "HzaztZYa3uRD"
      },
      "source": [
        "Lab05 - Logistic Regression\n",
        "===\n"
      ]
    },
    {
      "cell_type": "code",
      "metadata": {
        "id": "lquAp_wD3pSl"
      },
      "source": [
        "import torch\n",
        "import torch.nn as nn\n",
        "import torch.nn.functional as F\n",
        "import torch.optim as optim"
      ],
      "execution_count": 1,
      "outputs": []
    },
    {
      "cell_type": "code",
      "metadata": {
        "colab": {
          "base_uri": "https://localhost:8080/"
        },
        "id": "Ywljr3tY-wbp",
        "outputId": "ee6b7bb4-7b43-44b5-9650-230b9ce542e0"
      },
      "source": [
        "torch.manual_seed(1)"
      ],
      "execution_count": 2,
      "outputs": [
        {
          "output_type": "execute_result",
          "data": {
            "text/plain": [
              "<torch._C.Generator at 0x7f63a4215ab0>"
            ]
          },
          "metadata": {
            "tags": []
          },
          "execution_count": 2
        }
      ]
    },
    {
      "cell_type": "code",
      "metadata": {
        "id": "wncsKrxm_CHs"
      },
      "source": [
        "# Training Data\n",
        "x_data = [[1, 2], [2, 3], [3, 1], [4, 3], [5, 3], [6, 2]]\n",
        "y_data = [[0], [0], [0], [1], [1], [1]]"
      ],
      "execution_count": 3,
      "outputs": []
    },
    {
      "cell_type": "code",
      "metadata": {
        "id": "Xk2QoY_bAHzf"
      },
      "source": [
        "x_train = torch.FloatTensor(x_data)\n",
        "y_train = torch.FloatTensor(y_data)"
      ],
      "execution_count": 4,
      "outputs": []
    },
    {
      "cell_type": "code",
      "metadata": {
        "colab": {
          "base_uri": "https://localhost:8080/"
        },
        "id": "SaDa2nxEAW3n",
        "outputId": "42326fcb-fc91-4a46-f02c-01be8f128506"
      },
      "source": [
        "print(x_train.shape)\n",
        "print(y_train.shape)"
      ],
      "execution_count": 5,
      "outputs": [
        {
          "output_type": "stream",
          "text": [
            "torch.Size([6, 2])\n",
            "torch.Size([6, 1])\n"
          ],
          "name": "stdout"
        }
      ]
    },
    {
      "cell_type": "markdown",
      "metadata": {
        "id": "7tnX757VDM2f"
      },
      "source": [
        "# 1. Computing Hypothesis"
      ]
    },
    {
      "cell_type": "markdown",
      "metadata": {
        "id": "k6twoR62A2GX"
      },
      "source": [
        "* logistic regression의 hypothesis 식은 아래와 같다.    \n",
        "\n",
        "![](https://render.githubusercontent.com/render/math?math=H%28X%29%20%3D%20%5Cfrac%7B1%7D%7B1%2Be%5E%7B-W%5ET%20X%7D%7D&mode=display)\n"
      ]
    },
    {
      "cell_type": "markdown",
      "metadata": {
        "id": "eq9zw7rNBDrf"
      },
      "source": [
        "```exponential function```같은 경우, ```torch.exp()```를 사용하여 나타낼 수 있다."
      ]
    },
    {
      "cell_type": "code",
      "metadata": {
        "colab": {
          "base_uri": "https://localhost:8080/"
        },
        "id": "_owvXvlIA9I3",
        "outputId": "6ab849bd-23ed-4549-d9c6-5772a361de1e"
      },
      "source": [
        "print('e^1 equals: ', torch.exp(torch.FloatTensor([1])))"
      ],
      "execution_count": 6,
      "outputs": [
        {
          "output_type": "stream",
          "text": [
            "e^1 equals:  tensor([2.7183])\n"
          ],
          "name": "stdout"
        }
      ]
    },
    {
      "cell_type": "markdown",
      "metadata": {
        "id": "YqnQAejiBYTX"
      },
      "source": [
        "또한, 이 exp()를 사용하여 hypothesis를 간편하게 나타낼 수 있다."
      ]
    },
    {
      "cell_type": "code",
      "metadata": {
        "id": "HVES8bJ7BfYX"
      },
      "source": [
        "W = torch.zeros((2, 1), requires_grad=True)\n",
        "b = torch.zeros(1, requires_grad=True)\n",
        "\n",
        "hypothesis = 1 / (1 + torch.exp(-(x_train.matmul(W) + b)))  #torch.matmul(x_train, W)"
      ],
      "execution_count": 7,
      "outputs": []
    },
    {
      "cell_type": "code",
      "metadata": {
        "colab": {
          "base_uri": "https://localhost:8080/"
        },
        "id": "dZ3Rrw3qB8Go",
        "outputId": "00df91fd-694a-4678-ce6a-1b50915cf4e2"
      },
      "source": [
        "print(hypothesis)\n",
        "print(hypothesis.shape)"
      ],
      "execution_count": 8,
      "outputs": [
        {
          "output_type": "stream",
          "text": [
            "tensor([[0.5000],\n",
            "        [0.5000],\n",
            "        [0.5000],\n",
            "        [0.5000],\n",
            "        [0.5000],\n",
            "        [0.5000]], grad_fn=<MulBackward0>)\n",
            "torch.Size([6, 1])\n"
          ],
          "name": "stdout"
        }
      ]
    },
    {
      "cell_type": "markdown",
      "metadata": {
        "id": "kUhQ9WapCx9f"
      },
      "source": [
        "* 또는 우리는 ```torch.exp()``` 대신에 ```torch.sigmoid()```를 사용해서 식을 나타낼 수 있다.\n",
        "```\n",
        "hypothesis = torch.sigmoid(x_train.matmul(W) + b)\n",
        "```\n",
        "위 코드가 더 간결하다."
      ]
    },
    {
      "cell_type": "markdown",
      "metadata": {
        "id": "-RCVz7I8DQdH"
      },
      "source": [
        "# 2. Computing Cost function\n",
        "logistic regression의 cost function은 아래와 같다.     \n",
        "![](https://render.githubusercontent.com/render/math?math=cost%28W%29%20%3D%20-%5Cfrac%7B1%7D%7Bm%7D%20%5Csum%20y%20%5Clog%5Cleft%28H%28x%29%5Cright%29%20%2B%20%281-y%29%20%5Cleft%28%20%5Clog%281-H%28x%29%20%5Cright%29&mode=display)"
      ]
    },
    {
      "cell_type": "markdown",
      "metadata": {
        "id": "xn0oHRo8Di3f"
      },
      "source": [
        "* 먼저 ```hypothesis```와 ```y_train```사이의 차이를 계산해보자."
      ]
    },
    {
      "cell_type": "code",
      "metadata": {
        "colab": {
          "base_uri": "https://localhost:8080/"
        },
        "id": "iStLmrJeDeE3",
        "outputId": "fb64f5ae-8035-4242-fa24-ca1aff52117d"
      },
      "source": [
        "print(hypothesis)\n",
        "print(y_train)\n",
        "print(y_train - hypothesis)"
      ],
      "execution_count": 9,
      "outputs": [
        {
          "output_type": "stream",
          "text": [
            "tensor([[0.5000],\n",
            "        [0.5000],\n",
            "        [0.5000],\n",
            "        [0.5000],\n",
            "        [0.5000],\n",
            "        [0.5000]], grad_fn=<MulBackward0>)\n",
            "tensor([[0.],\n",
            "        [0.],\n",
            "        [0.],\n",
            "        [1.],\n",
            "        [1.],\n",
            "        [1.]])\n",
            "tensor([[-0.5000],\n",
            "        [-0.5000],\n",
            "        [-0.5000],\n",
            "        [ 0.5000],\n",
            "        [ 0.5000],\n",
            "        [ 0.5000]], grad_fn=<SubBackward0>)\n"
          ],
          "name": "stdout"
        }
      ]
    },
    {
      "cell_type": "markdown",
      "metadata": {
        "id": "vynEpP6XFicl"
      },
      "source": [
        "* 전체 data에 대해 loss를 계산해보면 아래와 같다."
      ]
    },
    {
      "cell_type": "code",
      "metadata": {
        "colab": {
          "base_uri": "https://localhost:8080/"
        },
        "id": "l1ke_3u9Fmtm",
        "outputId": "5b593459-e2da-497c-97ab-21ef8bb55823"
      },
      "source": [
        "losses = -(y_train * torch.log(hypothesis) + (1 - y_train) * torch.log(1 - hypothesis))\n",
        "print(losses)"
      ],
      "execution_count": 10,
      "outputs": [
        {
          "output_type": "stream",
          "text": [
            "tensor([[0.6931],\n",
            "        [0.6931],\n",
            "        [0.6931],\n",
            "        [0.6931],\n",
            "        [0.6931],\n",
            "        [0.6931]], grad_fn=<NegBackward>)\n"
          ],
          "name": "stdout"
        }
      ]
    },
    {
      "cell_type": "code",
      "metadata": {
        "colab": {
          "base_uri": "https://localhost:8080/"
        },
        "id": "Vjmcw1spF06W",
        "outputId": "653b74af-a14b-46fe-bd58-bef5f2d9fc60"
      },
      "source": [
        "# cost는 losses의 평균이다.\n",
        "cost = losses.mean()\n",
        "print(cost)"
      ],
      "execution_count": 11,
      "outputs": [
        {
          "output_type": "stream",
          "text": [
            "tensor(0.6931, grad_fn=<MeanBackward0>)\n"
          ],
          "name": "stdout"
        }
      ]
    },
    {
      "cell_type": "markdown",
      "metadata": {
        "id": "wGZ2_0_GF_1s"
      },
      "source": [
        "하지만 우리가 지금까지 적은 이 수식의 코드들을 한 번에 해결할 수 있다. 바로 ```F.binary_cross_entropy```를 사용하면 된다.\n",
        "```\n",
        "F.binary_cross_entropy(hypothesis, y_train)\n",
        "```"
      ]
    },
    {
      "cell_type": "code",
      "metadata": {
        "colab": {
          "base_uri": "https://localhost:8080/"
        },
        "id": "5P-rw03eGJ0e",
        "outputId": "c5514bc3-d7aa-4c96-e46d-55a0619f2e12"
      },
      "source": [
        "bce = F.binary_cross_entropy(hypothesis, y_train)\n",
        "print(bce)"
      ],
      "execution_count": 12,
      "outputs": [
        {
          "output_type": "stream",
          "text": [
            "tensor(0.6931, grad_fn=<BinaryCrossEntropyBackward>)\n"
          ],
          "name": "stdout"
        }
      ]
    },
    {
      "cell_type": "markdown",
      "metadata": {
        "id": "bMEUsQNVGo_W"
      },
      "source": [
        "전체 코드를 살펴보자"
      ]
    },
    {
      "cell_type": "code",
      "metadata": {
        "colab": {
          "base_uri": "https://localhost:8080/"
        },
        "id": "QaS58ld8Grqz",
        "outputId": "1035db53-0d4c-4dfb-8bb5-4475cae7b166"
      },
      "source": [
        "W = torch.zeros((2, 1), requires_grad=True)\n",
        "b = torch.zeros(1, requires_grad=True)\n",
        "\n",
        "optimizer = optim.SGD([W, b], lr=1)\n",
        "\n",
        "nb_epochs = 1000\n",
        "for epoch in range(nb_epochs + 1):\n",
        "    hypothesis = torch.sigmoid(x_train.matmul(W) + b)\n",
        "    cost = F.binary_cross_entropy(hypothesis, y_train)\n",
        "\n",
        "    optimizer.zero_grad()\n",
        "    cost.backward()\n",
        "    optimizer.step()\n",
        "\n",
        "    if epoch % 100 == 0:\n",
        "        print('Epoch {:4d}/{} Cost:{:.6f}'.format(\n",
        "            epoch, nb_epochs, cost.item()\n",
        "        ))"
      ],
      "execution_count": 13,
      "outputs": [
        {
          "output_type": "stream",
          "text": [
            "Epoch    0/1000 Cost:0.693147\n",
            "Epoch  100/1000 Cost:0.134722\n",
            "Epoch  200/1000 Cost:0.080643\n",
            "Epoch  300/1000 Cost:0.057900\n",
            "Epoch  400/1000 Cost:0.045300\n",
            "Epoch  500/1000 Cost:0.037261\n",
            "Epoch  600/1000 Cost:0.031672\n",
            "Epoch  700/1000 Cost:0.027556\n",
            "Epoch  800/1000 Cost:0.024394\n",
            "Epoch  900/1000 Cost:0.021888\n",
            "Epoch 1000/1000 Cost:0.019852\n"
          ],
          "name": "stdout"
        }
      ]
    },
    {
      "cell_type": "markdown",
      "metadata": {
        "id": "aGY1TtxHH8kG"
      },
      "source": [
        "# 3. 성능 평가\n",
        "우리의 model 학습을 끝냈으니 우리의 모델이 얼마나 잘 작동하는지 확인해보자.\n",
        "```\n",
        "hypothesis = torch.sigmoid(x_test.matmul(W) + b)\n",
        "```"
      ]
    },
    {
      "cell_type": "code",
      "metadata": {
        "colab": {
          "base_uri": "https://localhost:8080/"
        },
        "id": "bnB24Jj7JMs9",
        "outputId": "8c26187a-ea4a-4ce3-8a18-c90fdabb9bbf"
      },
      "source": [
        "hypothesis = torch.sigmoid(x_train.matmul(W) + b)\n",
        "prediction = hypothesis >= torch.FloatTensor([0.5])\n",
        "print(prediction[:5])"
      ],
      "execution_count": 14,
      "outputs": [
        {
          "output_type": "stream",
          "text": [
            "tensor([[False],\n",
            "        [False],\n",
            "        [False],\n",
            "        [ True],\n",
            "        [ True]])\n"
          ],
          "name": "stdout"
        }
      ]
    },
    {
      "cell_type": "code",
      "metadata": {
        "id": "Hw4O7eNhfOXR"
      },
      "source": [
        "class BinaryClassifier(nn.Module):\n",
        "    def __init__(self):\n",
        "        super().__init__()\n",
        "        self.linear = nn.Linear(2, 1)\n",
        "        self.sigmoid = nn.Sigmoid()\n",
        "\n",
        "    def forward(self, x):\n",
        "        return self.sigmoid(self.linear(x))"
      ],
      "execution_count": 15,
      "outputs": []
    },
    {
      "cell_type": "code",
      "metadata": {
        "id": "aPKxAtFNgxuv"
      },
      "source": [
        "model = BinaryClassifier()"
      ],
      "execution_count": 16,
      "outputs": []
    },
    {
      "cell_type": "code",
      "metadata": {
        "colab": {
          "base_uri": "https://localhost:8080/"
        },
        "id": "mCKLzP-9g5lo",
        "outputId": "7be5de51-a10b-4e6e-c457-253395319a9e"
      },
      "source": [
        "optimizer = optim.SGD(model.parameters(), lr=1)\n",
        "nb_epochs = 100\n",
        "for epoch in range(nb_epochs + 1):\n",
        "    hypothesis = model(x_train)\n",
        "\n",
        "    cost = F.binary_cross_entropy(hypothesis, y_train)\n",
        "\n",
        "    optimizer.zero_grad()\n",
        "    cost.backward()\n",
        "    optimizer.step()\n",
        "\n",
        "    if epoch % 10 == 0:\n",
        "        prediction = hypothesis >= torch.FloatTensor([0.5])\n",
        "        correct_prediction = prediction.float() == y_train\n",
        "        accuracy = correct_prediction.sum().item() / len(correct_prediction)\n",
        "        print('Epoch {:4d}/{} Cost: {:.6f} Accuracy {:2.2f}'.format(\n",
        "            epoch, nb_epochs, cost.item(), accuracy * 100,\n",
        "        ))"
      ],
      "execution_count": 17,
      "outputs": [
        {
          "output_type": "stream",
          "text": [
            "Epoch    0/100 Cost: 0.539713 Accuracy 83.33\n",
            "Epoch   10/100 Cost: 0.614853 Accuracy 66.67\n",
            "Epoch   20/100 Cost: 0.441875 Accuracy 66.67\n",
            "Epoch   30/100 Cost: 0.373145 Accuracy 83.33\n",
            "Epoch   40/100 Cost: 0.316358 Accuracy 83.33\n",
            "Epoch   50/100 Cost: 0.266094 Accuracy 83.33\n",
            "Epoch   60/100 Cost: 0.220498 Accuracy 100.00\n",
            "Epoch   70/100 Cost: 0.182095 Accuracy 100.00\n",
            "Epoch   80/100 Cost: 0.157299 Accuracy 100.00\n",
            "Epoch   90/100 Cost: 0.144091 Accuracy 100.00\n",
            "Epoch  100/100 Cost: 0.134272 Accuracy 100.00\n"
          ],
          "name": "stdout"
        }
      ]
    }
  ]
}