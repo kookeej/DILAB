{
  "nbformat": 4,
  "nbformat_minor": 0,
  "metadata": {
    "colab": {
      "name": "lab04-1.ipynb",
      "provenance": [],
      "collapsed_sections": [],
      "authorship_tag": "ABX9TyPYzTlX3JE6FZypk/bi15xA",
      "include_colab_link": true
    },
    "kernelspec": {
      "name": "python3",
      "display_name": "Python 3"
    },
    "language_info": {
      "name": "python"
    }
  },
  "cells": [
    {
      "cell_type": "markdown",
      "metadata": {
        "id": "view-in-github",
        "colab_type": "text"
      },
      "source": [
        "<a href=\"https://colab.research.google.com/github/kookeej/DILAB/blob/main/7.1-7.7/lab04-1.ipynb\" target=\"_parent\"><img src=\"https://colab.research.google.com/assets/colab-badge.svg\" alt=\"Open In Colab\"/></a>"
      ]
    },
    {
      "cell_type": "markdown",
      "metadata": {
        "id": "JbYkNUClW_ME"
      },
      "source": [
        "Lab04-1 - Multivariable Linear Regression\n",
        "==="
      ]
    },
    {
      "cell_type": "code",
      "metadata": {
        "id": "nemR0uJjWPW0"
      },
      "source": [
        "import numpy as np\n",
        "import torch\n",
        "import torch.nn as nn\n",
        "import torch.nn.functional as F"
      ],
      "execution_count": 12,
      "outputs": []
    },
    {
      "cell_type": "code",
      "metadata": {
        "id": "3_dUzfV8WYuE"
      },
      "source": [
        "x_train = torch.FloatTensor([[73, 80, 75],\n",
        "                            [93, 88, 93],\n",
        "                            [89, 91, 90],\n",
        "                            [96, 98, 100],\n",
        "                            [73, 66, 70]])\n",
        "y_train = torch.FloatTensor([[152], [185], [180], [196], [142]])"
      ],
      "execution_count": 3,
      "outputs": []
    },
    {
      "cell_type": "markdown",
      "metadata": {
        "id": "e9nMIRFtXeU8"
      },
      "source": [
        "만약 dataset이 많지 않다면 H(x1, x2, x3) = w1x1 + w2x2 + w3x3 + b 와 같은 형태로 식을 만들 수 있을 것이다.     \n",
        "![](https://render.githubusercontent.com/render/math?math=H%28x_1%2C%20x_2%2C%20x_3%29%20%3D%20x_1w_1%20%2B%20x_2w_2%20%2B%20x_3w_3%20%2B%20b&mode=display)    \n",
        "\n",
        "하지만 만약 데이터가 너무 많아진다면 식을 일일이 하나씩 적는 것은 불가능할 것이다. 따라서 우리는 ```matmul```함수를 사용한다.    \n",
        "```matmul```은 Matrix multiplication이다. 이 연산을 사용해서 **더 간결하고 x의 길이 바뀌어도 코드를 바꿀 필요도 없고 속도도 더 빠른** hypothesis를 만들 수 있다."
      ]
    },
    {
      "cell_type": "code",
      "metadata": {
        "id": "nToZsu-HZHe0"
      },
      "source": [
        "hypothesis = x_train.matmul(W) + b"
      ],
      "execution_count": null,
      "outputs": []
    },
    {
      "cell_type": "markdown",
      "metadata": {
        "id": "UbbyiTrBYa8U"
      },
      "source": [
        "* cost function은 기존의 식과 동일하다.            \n",
        "![cost_function](https://render.githubusercontent.com/render/math?math=cost%28W%2C%20b%29%20%3D%20%5Cfrac%7B1%7D%7Bm%7D%20%5Csum%5Em_%7Bi%3D1%7D%20%5Cleft%28%20H%28x%5E%7B%28i%29%7D%29%20-%20y%5E%7B%28i%29%7D%20%5Cright%29%5E2&mode=display)\n"
      ]
    },
    {
      "cell_type": "code",
      "metadata": {
        "id": "KztEW7N4Y_aU"
      },
      "source": [
        "cost = torch.mean((hypothesis - y_train) ** 2)"
      ],
      "execution_count": null,
      "outputs": []
    },
    {
      "cell_type": "markdown",
      "metadata": {
        "id": "OtvU3QhIbmdM"
      },
      "source": [
        "아래는 전체 코드이다."
      ]
    },
    {
      "cell_type": "code",
      "metadata": {
        "colab": {
          "base_uri": "https://localhost:8080/"
        },
        "id": "twpcGoeNboVr",
        "outputId": "8700f37c-2abb-41cf-e29b-1df05a3bd4b6"
      },
      "source": [
        "W = torch.zeros((3,1), requires_grad=True)\n",
        "b = torch.zeros(1, requires_grad=True)\n",
        "\n",
        "optimizer = torch.optim.SGD([W, b], lr=1e-5)\n",
        "\n",
        "nb_epochs = 20\n",
        "for epoch in range(nb_epochs + 1):\n",
        "    hypothesis = x_train.matmul(W) + b\n",
        "    cost = torch.mean((hypothesis - y_train) ** 2)\n",
        "\n",
        "    optimizer.zero_grad()\n",
        "    cost.backward()\n",
        "    optimizer.step()\n",
        "\n",
        "    print('Epoch {:4d}/{} hypothesis: {} Cost: {:.6f}'.format(\n",
        "        epoch, nb_epochs, hypothesis.squeeze().detach(), cost.item()\n",
        "    ))"
      ],
      "execution_count": 8,
      "outputs": [
        {
          "output_type": "stream",
          "text": [
            "Epoch    0/20 hypothesis: tensor([0., 0., 0., 0., 0.]) Cost: 29661.800781\n",
            "Epoch    1/20 hypothesis: tensor([67.2578, 80.8397, 79.6523, 86.7394, 61.6605]) Cost: 9298.520508\n",
            "Epoch    2/20 hypothesis: tensor([104.9128, 126.0990, 124.2466, 135.3015,  96.1821]) Cost: 2915.712402\n",
            "Epoch    3/20 hypothesis: tensor([125.9942, 151.4381, 149.2133, 162.4896, 115.5097]) Cost: 915.040527\n",
            "Epoch    4/20 hypothesis: tensor([137.7967, 165.6247, 163.1911, 177.7112, 126.3307]) Cost: 287.936096\n",
            "Epoch    5/20 hypothesis: tensor([144.4044, 173.5674, 171.0168, 186.2332, 132.3891]) Cost: 91.371063\n",
            "Epoch    6/20 hypothesis: tensor([148.1035, 178.0143, 175.3980, 191.0042, 135.7812]) Cost: 29.758249\n",
            "Epoch    7/20 hypothesis: tensor([150.1744, 180.5042, 177.8509, 193.6753, 137.6805]) Cost: 10.445267\n",
            "Epoch    8/20 hypothesis: tensor([151.3336, 181.8983, 179.2240, 195.1707, 138.7440]) Cost: 4.391237\n",
            "Epoch    9/20 hypothesis: tensor([151.9824, 182.6789, 179.9928, 196.0079, 139.3396]) Cost: 2.493121\n",
            "Epoch   10/20 hypothesis: tensor([152.3454, 183.1161, 180.4231, 196.4765, 139.6732]) Cost: 1.897688\n",
            "Epoch   11/20 hypothesis: tensor([152.5485, 183.3609, 180.6640, 196.7389, 139.8602]) Cost: 1.710552\n",
            "Epoch   12/20 hypothesis: tensor([152.6620, 183.4982, 180.7988, 196.8857, 139.9651]) Cost: 1.651416\n",
            "Epoch   13/20 hypothesis: tensor([152.7253, 183.5752, 180.8742, 196.9678, 140.0240]) Cost: 1.632369\n",
            "Epoch   14/20 hypothesis: tensor([152.7606, 183.6184, 180.9164, 197.0138, 140.0571]) Cost: 1.625924\n",
            "Epoch   15/20 hypothesis: tensor([152.7802, 183.6427, 180.9399, 197.0395, 140.0759]) Cost: 1.623420\n",
            "Epoch   16/20 hypothesis: tensor([152.7909, 183.6565, 180.9530, 197.0538, 140.0865]) Cost: 1.622152\n",
            "Epoch   17/20 hypothesis: tensor([152.7968, 183.6643, 180.9603, 197.0618, 140.0927]) Cost: 1.621262\n",
            "Epoch   18/20 hypothesis: tensor([152.7999, 183.6688, 180.9644, 197.0661, 140.0963]) Cost: 1.620501\n",
            "Epoch   19/20 hypothesis: tensor([152.8014, 183.6715, 180.9665, 197.0686, 140.0985]) Cost: 1.619757\n",
            "Epoch   20/20 hypothesis: tensor([152.8020, 183.6731, 180.9677, 197.0699, 140.0999]) Cost: 1.619046\n"
          ],
          "name": "stdout"
        }
      ]
    },
    {
      "cell_type": "markdown",
      "metadata": {
        "id": "LUIKO0Fqc8DD"
      },
      "source": [
        "여기서 W와 b를 직접 작성하는 것은 모델이 커질 수록 번거로운 일이 된다. 그래서 ```nn.Module```을 사용하여 모델을 생성한다."
      ]
    },
    {
      "cell_type": "markdown",
      "metadata": {
        "id": "fcueK4ncdmPD"
      },
      "source": [
        "* ```nn.Linear(3, 1)```: 입력 차원 3, 출력 차원 1\n",
        "* Hypothesis 계산은 forward()에서\n",
        "* Gradient 계산은 pytorch가 backward()로 알아서 해준다."
      ]
    },
    {
      "cell_type": "code",
      "metadata": {
        "id": "jg7jmsoBdldj"
      },
      "source": [
        "class MultivariateLinearRegressionModel(nn.Module):\n",
        "    def __init__(self):\n",
        "        super().__init__()\n",
        "        self.linear = nn.Linear(3, 1)\n",
        "\n",
        "    def forward(self, x):\n",
        "        return self.linear(x)"
      ],
      "execution_count": 13,
      "outputs": []
    },
    {
      "cell_type": "markdown",
      "metadata": {
        "id": "sXK9IKcremKr"
      },
      "source": [
        "* F.mse_loss: cost function을 제공한다.쉽게 다른 loss와 교체가 가능하다.    \n",
        "\n",
        "전체 코드를 살펴보면 아래와 같다."
      ]
    },
    {
      "cell_type": "code",
      "metadata": {
        "colab": {
          "base_uri": "https://localhost:8080/"
        },
        "id": "bMaM5IFje8zb",
        "outputId": "aea810f2-0437-4a97-aede-c64b3d28467c"
      },
      "source": [
        "model = MultivariateLinearRegressionModel()\n",
        "optimizer = torch.optim.SGD(model.parameters(), lr=1e-5)\n",
        "\n",
        "nb_epochs = 20\n",
        "for epoch in range(nb_epochs + 1):\n",
        "    Hypothesis = model(x_train)\n",
        "    cost = F.mse_loss(Hypothesis, y_train)\n",
        "    optimizer.zero_grad()\n",
        "    cost.backward()\n",
        "    optimizer.step()\n",
        "\n",
        "    print('Epoch {:4d}/{} Cost: {:.6f}'.format(\n",
        "        epoch, nb_epochs, cost.item()\n",
        "    ))"
      ],
      "execution_count": 16,
      "outputs": [
        {
          "output_type": "stream",
          "text": [
            "Epoch    0/20 Cost: 7889.118164\n",
            "Epoch    1/20 Cost: 2473.778809\n",
            "Epoch    2/20 Cost: 776.357422\n",
            "Epoch    3/20 Cost: 244.304977\n",
            "Epoch    4/20 Cost: 77.534653\n",
            "Epoch    5/20 Cost: 25.260645\n",
            "Epoch    6/20 Cost: 8.875295\n",
            "Epoch    7/20 Cost: 3.738957\n",
            "Epoch    8/20 Cost: 2.128695\n",
            "Epoch    9/20 Cost: 1.623652\n",
            "Epoch   10/20 Cost: 1.465010\n",
            "Epoch   11/20 Cost: 1.414954\n",
            "Epoch   12/20 Cost: 1.398930\n",
            "Epoch   13/20 Cost: 1.393594\n",
            "Epoch   14/20 Cost: 1.391585\n",
            "Epoch   15/20 Cost: 1.390650\n",
            "Epoch   16/20 Cost: 1.390025\n",
            "Epoch   17/20 Cost: 1.389486\n",
            "Epoch   18/20 Cost: 1.389006\n",
            "Epoch   19/20 Cost: 1.388525\n",
            "Epoch   20/20 Cost: 1.388056\n"
          ],
          "name": "stdout"
        }
      ]
    }
  ]
}