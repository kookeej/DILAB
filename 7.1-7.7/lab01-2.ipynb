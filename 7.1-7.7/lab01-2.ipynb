{
  "nbformat": 4,
  "nbformat_minor": 0,
  "metadata": {
    "colab": {
      "name": "lab01-2.ipynb",
      "provenance": [],
      "collapsed_sections": [],
      "authorship_tag": "ABX9TyOX4pTngrVqL27QDiBNKP8K",
      "include_colab_link": true
    },
    "kernelspec": {
      "name": "python3",
      "display_name": "Python 3"
    },
    "language_info": {
      "name": "python"
    }
  },
  "cells": [
    {
      "cell_type": "markdown",
      "metadata": {
        "id": "view-in-github",
        "colab_type": "text"
      },
      "source": [
        "<a href=\"https://colab.research.google.com/github/kookeej/DILAB/blob/main/7.1-7.7/lab01-2.ipynb\" target=\"_parent\"><img src=\"https://colab.research.google.com/assets/colab-badge.svg\" alt=\"Open In Colab\"/></a>"
      ]
    },
    {
      "cell_type": "code",
      "metadata": {
        "id": "Rf5h5xQyB6TI"
      },
      "source": [
        "import numpy as np\n",
        "import torch"
      ],
      "execution_count": 1,
      "outputs": []
    },
    {
      "cell_type": "markdown",
      "metadata": {
        "id": "29RbCCszCE1-"
      },
      "source": [
        "# 1. View\n",
        "```view```는 ```numpy```에서 ```reshape```과 같은 역할을 한다."
      ]
    },
    {
      "cell_type": "code",
      "metadata": {
        "id": "TKA5s_SeCBmu",
        "colab": {
          "base_uri": "https://localhost:8080/"
        },
        "outputId": "ff19f2bb-58ac-4d8f-f0f3-308eb92f0567"
      },
      "source": [
        "t = np.array([[[0, 1, 2],\n",
        "               [3, 4, 5]],\n",
        "               [[6, 7, 8],\n",
        "               [9, 10, 11]]])\n",
        "ft = torch.FloatTensor(t)\n",
        "print(ft.shape)"
      ],
      "execution_count": 2,
      "outputs": [
        {
          "output_type": "stream",
          "text": [
            "torch.Size([2, 2, 3])\n"
          ],
          "name": "stdout"
        }
      ]
    },
    {
      "cell_type": "code",
      "metadata": {
        "id": "YWB1cqYCC05G",
        "colab": {
          "base_uri": "https://localhost:8080/"
        },
        "outputId": "1fa665b2-1dc0-49d0-8cd4-74224046dca9"
      },
      "source": [
        "print(ft.view([-1, 3]))\n",
        "print(ft.view([-1, 3]).shape)"
      ],
      "execution_count": 3,
      "outputs": [
        {
          "output_type": "stream",
          "text": [
            "tensor([[ 0.,  1.,  2.],\n",
            "        [ 3.,  4.,  5.],\n",
            "        [ 6.,  7.,  8.],\n",
            "        [ 9., 10., 11.]])\n",
            "torch.Size([4, 3])\n"
          ],
          "name": "stdout"
        }
      ]
    },
    {
      "cell_type": "code",
      "metadata": {
        "id": "hjPGt95xC9HO",
        "colab": {
          "base_uri": "https://localhost:8080/"
        },
        "outputId": "f151ccb6-b466-46ec-9511-a2c57f9457a2"
      },
      "source": [
        "print(ft.view([-1, 1, 3]))\n",
        "print(ft.view([-1, 1, 3]).shape)"
      ],
      "execution_count": 4,
      "outputs": [
        {
          "output_type": "stream",
          "text": [
            "tensor([[[ 0.,  1.,  2.]],\n",
            "\n",
            "        [[ 3.,  4.,  5.]],\n",
            "\n",
            "        [[ 6.,  7.,  8.]],\n",
            "\n",
            "        [[ 9., 10., 11.]]])\n",
            "torch.Size([4, 1, 3])\n"
          ],
          "name": "stdout"
        }
      ]
    },
    {
      "cell_type": "markdown",
      "metadata": {
        "id": "031LHM73UrYN"
      },
      "source": [
        "* ```-1```은 주로 변동이 심한 batch size 등에 사용될 수 있다.\n",
        "* 이렇게 우리는 ```view```를 사용해서 원하는 형태로 Tensor를 바꿀 수 있다."
      ]
    },
    {
      "cell_type": "markdown",
      "metadata": {
        "id": "gkOag1yhVRid"
      },
      "source": [
        "# 2. Squeeze\n",
        "```squeeze```는 차원 중 크기가 1인 것을 찾아 그 차원을 제거하는 함수이다. 예를 들면, |ft| = (3, 1)일 때, 두 번째 원소가 1이므로 1을 버린다. 그러면 |ft| = (3,)이 된다."
      ]
    },
    {
      "cell_type": "code",
      "metadata": {
        "id": "Jqqr7bweWfkN",
        "colab": {
          "base_uri": "https://localhost:8080/"
        },
        "outputId": "8b58e59d-a6b4-4459-fe53-b8511f5263b7"
      },
      "source": [
        "ft = torch.FloatTensor([[0], [1], [2]])\n",
        "print(ft)\n",
        "print(ft.shape)"
      ],
      "execution_count": 5,
      "outputs": [
        {
          "output_type": "stream",
          "text": [
            "tensor([[0.],\n",
            "        [1.],\n",
            "        [2.]])\n",
            "torch.Size([3, 1])\n"
          ],
          "name": "stdout"
        }
      ]
    },
    {
      "cell_type": "code",
      "metadata": {
        "id": "4WgG1HhkWoPN",
        "colab": {
          "base_uri": "https://localhost:8080/"
        },
        "outputId": "4bdc649e-eac7-4358-9b79-1d6d8c58cd0f"
      },
      "source": [
        "print(ft.squeeze())\n",
        "print(ft.squeeze().shape)"
      ],
      "execution_count": 6,
      "outputs": [
        {
          "output_type": "stream",
          "text": [
            "tensor([0., 1., 2.])\n",
            "torch.Size([3])\n"
          ],
          "name": "stdout"
        }
      ]
    },
    {
      "cell_type": "markdown",
      "metadata": {
        "id": "yohLEkALXZLl"
      },
      "source": [
        "* 이처럼 처음 ft의 차원이 (3, 1)이었는데 ```squeeze```를 통해 (3,)이 된다."
      ]
    },
    {
      "cell_type": "code",
      "metadata": {
        "id": "RGMAISDJXuJk",
        "colab": {
          "base_uri": "https://localhost:8080/"
        },
        "outputId": "c974ab6e-7613-40c6-83d6-0e2f73dbdf4e"
      },
      "source": [
        "print(\"\\n===squeeze 사용 전===\")\n",
        "fft = torch.FloatTensor([[0], [1], [2], [3]])\n",
        "print(fft)\n",
        "print(fft.shape)\n",
        "print(\"\\n===squeeze 사용 후===\")\n",
        "print(fft.squeeze())\n",
        "print(fft.squeeze().shape)"
      ],
      "execution_count": 7,
      "outputs": [
        {
          "output_type": "stream",
          "text": [
            "\n",
            "===squeeze 사용 전===\n",
            "tensor([[0.],\n",
            "        [1.],\n",
            "        [2.],\n",
            "        [3.]])\n",
            "torch.Size([4, 1])\n",
            "\n",
            "===squeeze 사용 후===\n",
            "tensor([0., 1., 2., 3.])\n",
            "torch.Size([4])\n"
          ],
          "name": "stdout"
        }
      ]
    },
    {
      "cell_type": "markdown",
      "metadata": {
        "id": "HEBbh5L3XvDl"
      },
      "source": [
        "* 만약 squeeze를 사용할 때 ```dim```을 주게 되면, 해당 차원의 크기가 1이면 squeeze를 사용하고 그렇지 않으면 아무런 변화가 없다."
      ]
    },
    {
      "cell_type": "markdown",
      "metadata": {
        "id": "Q5-ja0IrYlNs"
      },
      "source": [
        "# 3. Unsqueeze\n",
        "```unsqueeze```는 squeeze를 반대로 해준다. dim을 명시하고 해당 차원에 1을 넣는다."
      ]
    },
    {
      "cell_type": "code",
      "metadata": {
        "id": "nYz-nQUhZw4M",
        "colab": {
          "base_uri": "https://localhost:8080/"
        },
        "outputId": "3bb3728c-7a9a-430c-fee6-e5ba64a9b40f"
      },
      "source": [
        "ft = torch.Tensor([0, 1, 2])\n",
        "print(ft.shape)"
      ],
      "execution_count": 8,
      "outputs": [
        {
          "output_type": "stream",
          "text": [
            "torch.Size([3])\n"
          ],
          "name": "stdout"
        }
      ]
    },
    {
      "cell_type": "code",
      "metadata": {
        "id": "abQX1wZeZ2cM",
        "colab": {
          "base_uri": "https://localhost:8080/"
        },
        "outputId": "c9fb15b6-c27b-41b1-8f4a-35f3b3344f94"
      },
      "source": [
        "print(ft.unsqueeze(0))\n",
        "print(ft.unsqueeze(0).shape)"
      ],
      "execution_count": 9,
      "outputs": [
        {
          "output_type": "stream",
          "text": [
            "tensor([[0., 1., 2.]])\n",
            "torch.Size([1, 3])\n"
          ],
          "name": "stdout"
        }
      ]
    },
    {
      "cell_type": "markdown",
      "metadata": {
        "id": "Rbt7qlAbaXVs"
      },
      "source": [
        "* ```view```를 이용해서 똑같이 구현할 수 있다."
      ]
    },
    {
      "cell_type": "code",
      "metadata": {
        "id": "uo6F98rhZ84M",
        "colab": {
          "base_uri": "https://localhost:8080/"
        },
        "outputId": "9fcbdca3-9eb0-4bfb-8bd2-1d15f5eed64b"
      },
      "source": [
        "print(ft.view(1, -1))\n",
        "print(ft.view(1, -1).shape)"
      ],
      "execution_count": 10,
      "outputs": [
        {
          "output_type": "stream",
          "text": [
            "tensor([[0., 1., 2.]])\n",
            "torch.Size([1, 3])\n"
          ],
          "name": "stdout"
        }
      ]
    },
    {
      "cell_type": "code",
      "metadata": {
        "id": "zcTcxT9kaCpm",
        "colab": {
          "base_uri": "https://localhost:8080/"
        },
        "outputId": "4a43aefa-a884-4ca4-e524-432354c605eb"
      },
      "source": [
        "print(ft.unsqueeze(1))\n",
        "print(ft.unsqueeze(1).shape)"
      ],
      "execution_count": 11,
      "outputs": [
        {
          "output_type": "stream",
          "text": [
            "tensor([[0.],\n",
            "        [1.],\n",
            "        [2.]])\n",
            "torch.Size([3, 1])\n"
          ],
          "name": "stdout"
        }
      ]
    },
    {
      "cell_type": "code",
      "metadata": {
        "id": "pgUPD2aHaLg8",
        "colab": {
          "base_uri": "https://localhost:8080/"
        },
        "outputId": "c264c469-bb71-409d-ed57-db38bfa27561"
      },
      "source": [
        "print(ft.unsqueeze(-1))\n",
        "print(ft.unsqueeze(-1).shape)"
      ],
      "execution_count": 12,
      "outputs": [
        {
          "output_type": "stream",
          "text": [
            "tensor([[0.],\n",
            "        [1.],\n",
            "        [2.]])\n",
            "torch.Size([3, 1])\n"
          ],
          "name": "stdout"
        }
      ]
    },
    {
      "cell_type": "markdown",
      "metadata": {
        "id": "oy4PVPmCcLlG"
      },
      "source": [
        "# 4. Type Casting\n",
        "Tensor의 type을 바꿔준다."
      ]
    },
    {
      "cell_type": "code",
      "metadata": {
        "id": "jaB76zbIcVF0",
        "colab": {
          "base_uri": "https://localhost:8080/"
        },
        "outputId": "171240d2-463e-4fd5-8629-b0ffa26e04db"
      },
      "source": [
        "lt = torch.LongTensor([1, 2, 3, 4])\n",
        "print(lt)"
      ],
      "execution_count": 13,
      "outputs": [
        {
          "output_type": "stream",
          "text": [
            "tensor([1, 2, 3, 4])\n"
          ],
          "name": "stdout"
        }
      ]
    },
    {
      "cell_type": "code",
      "metadata": {
        "id": "nQ6ElcpncaQM",
        "colab": {
          "base_uri": "https://localhost:8080/"
        },
        "outputId": "707f6110-f6b4-47fd-dec4-c114a7ab1c4b"
      },
      "source": [
        "# tensor를 float형으로 바꿔준다.\n",
        "print(lt.float())"
      ],
      "execution_count": 14,
      "outputs": [
        {
          "output_type": "stream",
          "text": [
            "tensor([1., 2., 3., 4.])\n"
          ],
          "name": "stdout"
        }
      ]
    },
    {
      "cell_type": "code",
      "metadata": {
        "id": "7xMqxBhVcgwU",
        "colab": {
          "base_uri": "https://localhost:8080/"
        },
        "outputId": "aa5e2e16-6c87-4f84-9197-3b87e45f4c9e"
      },
      "source": [
        "bt = torch.ByteTensor([True, True, False, True])\n",
        "print(bt)"
      ],
      "execution_count": 15,
      "outputs": [
        {
          "output_type": "stream",
          "text": [
            "tensor([1, 1, 0, 1], dtype=torch.uint8)\n"
          ],
          "name": "stdout"
        }
      ]
    },
    {
      "cell_type": "code",
      "metadata": {
        "id": "O6k8DIB_coc8",
        "colab": {
          "base_uri": "https://localhost:8080/"
        },
        "outputId": "c92a3ba3-eea7-4fd5-8f7b-1e77ea98829a"
      },
      "source": [
        "print(bt.long())\n",
        "print(bt.float())"
      ],
      "execution_count": 16,
      "outputs": [
        {
          "output_type": "stream",
          "text": [
            "tensor([1, 1, 0, 1])\n",
            "tensor([1., 1., 0., 1.])\n"
          ],
          "name": "stdout"
        }
      ]
    },
    {
      "cell_type": "markdown",
      "metadata": {
        "id": "6_lpRZ-0c-L0"
      },
      "source": [
        "# 5. Concatenate\n",
        "```cat```은 tensor를 이어 붙여준다."
      ]
    },
    {
      "cell_type": "code",
      "metadata": {
        "id": "CbMPC7E1dJ0U",
        "colab": {
          "base_uri": "https://localhost:8080/"
        },
        "outputId": "b4bef7bd-fcd0-4a87-84f5-5130a1fdb9cd"
      },
      "source": [
        "x = torch.FloatTensor([[1, 2], [3, 4]])\n",
        "y = torch.FloatTensor([[5, 6], [7, 8]])\n",
        "\n",
        "print(torch.cat([x, y], dim=0))\n",
        "print(torch.cat([x, y], dim=1))"
      ],
      "execution_count": 17,
      "outputs": [
        {
          "output_type": "stream",
          "text": [
            "tensor([[1., 2.],\n",
            "        [3., 4.],\n",
            "        [5., 6.],\n",
            "        [7., 8.]])\n",
            "tensor([[1., 2., 5., 6.],\n",
            "        [3., 4., 7., 8.]])\n"
          ],
          "name": "stdout"
        }
      ]
    },
    {
      "cell_type": "markdown",
      "metadata": {
        "id": "Vtv0rDLXfOTE"
      },
      "source": [
        "* ```dim=0```일 때는 axis=0을 기준으로 concat한다. 행 기준이기 때문에 행의 크기가 증가한다. 따라서 shape는 (4, 2)가 된다.\n",
        "* ```dim=1```일 때는 axis=1을 기준으로 concat한다. 열 기준이기 때문에 열의 크기가 증가한다. 따라서 shape는 (2, 4)가 된다."
      ]
    },
    {
      "cell_type": "markdown",
      "metadata": {
        "id": "PdAwp9XRgJ8c"
      },
      "source": [
        "# 6. Stacking\n",
        "```stack```은 ```concatenate```을 좀 더 편리하게 하는 방법이다."
      ]
    },
    {
      "cell_type": "markdown",
      "metadata": {
        "id": "Ddf1VBvfgwUl"
      },
      "source": [
        "* ```stack```은 tensor들을 쌓는 것이다. 아래 tensor x, y, z는 모두 shape이 2이다. "
      ]
    },
    {
      "cell_type": "code",
      "metadata": {
        "id": "UXY_KRYQgX40",
        "colab": {
          "base_uri": "https://localhost:8080/"
        },
        "outputId": "0ec2914d-eac1-4699-ec1a-46ec6ca84b29"
      },
      "source": [
        "x = torch.FloatTensor([1, 4])\n",
        "y = torch.FloatTensor([2, 5])\n",
        "z = torch.FloatTensor([3, 6])\n",
        "\n",
        "print(torch.stack([x, y, z]))           # (3, 2)로 쌓는다.\n",
        "print(torch.stack([x, y, z], dim=1))    # dim=1을 기준으로 쌓는다. 열 기준으로 쌓기 때문에 (2, 3)이 된다."
      ],
      "execution_count": 18,
      "outputs": [
        {
          "output_type": "stream",
          "text": [
            "tensor([[1., 4.],\n",
            "        [2., 5.],\n",
            "        [3., 6.]])\n",
            "tensor([[1., 2., 3.],\n",
            "        [4., 5., 6.]])\n"
          ],
          "name": "stdout"
        }
      ]
    },
    {
      "cell_type": "markdown",
      "metadata": {
        "id": "dUKsut15h3Ol"
      },
      "source": [
        "* 위 코드는 아래 코드와 같다."
      ]
    },
    {
      "cell_type": "code",
      "metadata": {
        "id": "y6u310I_h2SM",
        "colab": {
          "base_uri": "https://localhost:8080/"
        },
        "outputId": "6f6be43c-5698-4749-c45a-635dd2f302b0"
      },
      "source": [
        "print(torch.cat([x.unsqueeze(0), y.unsqueeze(0), z.unsqueeze(0)], dim=0))"
      ],
      "execution_count": 19,
      "outputs": [
        {
          "output_type": "stream",
          "text": [
            "tensor([[1., 4.],\n",
            "        [2., 5.],\n",
            "        [3., 6.]])\n"
          ],
          "name": "stdout"
        }
      ]
    },
    {
      "cell_type": "markdown",
      "metadata": {
        "id": "PRSKngGjiV2k"
      },
      "source": [
        "# 7. Ones and Zeros\n"
      ]
    },
    {
      "cell_type": "code",
      "metadata": {
        "id": "vu3nprWQibLk",
        "colab": {
          "base_uri": "https://localhost:8080/"
        },
        "outputId": "1920469f-5ba5-452c-fe1f-92ce69ccc56d"
      },
      "source": [
        "x = torch.FloatTensor([[0, 1, 2], [2, 1, 0]])\n",
        "print(x)"
      ],
      "execution_count": 20,
      "outputs": [
        {
          "output_type": "stream",
          "text": [
            "tensor([[0., 1., 2.],\n",
            "        [2., 1., 0.]])\n"
          ],
          "name": "stdout"
        }
      ]
    },
    {
      "cell_type": "code",
      "metadata": {
        "id": "KDGXNZzjif1V",
        "colab": {
          "base_uri": "https://localhost:8080/"
        },
        "outputId": "3735e5f7-2720-49bb-eec2-d81d1496c762"
      },
      "source": [
        "print(torch.ones_like(x))       # 1로만 구성된 같은 size의 tensor\n",
        "print(torch.zeros_like(x))      # 0으로만 구성된 같은 size의 tensor"
      ],
      "execution_count": 21,
      "outputs": [
        {
          "output_type": "stream",
          "text": [
            "tensor([[1., 1., 1.],\n",
            "        [1., 1., 1.]])\n",
            "tensor([[0., 0., 0.],\n",
            "        [0., 0., 0.]])\n"
          ],
          "name": "stdout"
        }
      ]
    },
    {
      "cell_type": "markdown",
      "metadata": {
        "id": "Rsde3TM7j11k"
      },
      "source": [
        "# 8. In-Place Operation\n",
        "```_```가 붙게 된다. 메모리를 새로 선언하지 않고 기존의 값에 넣으라는 의미이다."
      ]
    },
    {
      "cell_type": "code",
      "metadata": {
        "id": "Xhj7p8j3j6pk"
      },
      "source": [
        "x = torch.FloatTensor([[1, 2], [3, 4]])"
      ],
      "execution_count": 22,
      "outputs": []
    },
    {
      "cell_type": "code",
      "metadata": {
        "id": "eGd-n7WzkXPs",
        "colab": {
          "base_uri": "https://localhost:8080/"
        },
        "outputId": "134d1ca6-351c-48fd-cb86-272a5c77611f"
      },
      "source": [
        "print(x.mul(2.))\n",
        "print(x)            # 원래 x는 변화 없다.\n",
        "print(x.mul_(2.))\n",
        "print(x)            # 원래 x까지 변화"
      ],
      "execution_count": 23,
      "outputs": [
        {
          "output_type": "stream",
          "text": [
            "tensor([[2., 4.],\n",
            "        [6., 8.]])\n",
            "tensor([[1., 2.],\n",
            "        [3., 4.]])\n",
            "tensor([[2., 4.],\n",
            "        [6., 8.]])\n",
            "tensor([[2., 4.],\n",
            "        [6., 8.]])\n"
          ],
          "name": "stdout"
        }
      ]
    },
    {
      "cell_type": "markdown",
      "metadata": {
        "id": "3DDmsUe5lRM8"
      },
      "source": [
        "* 위 코드를 보면 그냥 ```x.mul()```을 했을 경우에는 원래 x는 변화가 없다. ```x.mul_()```은 원래 x까지 변화시킨다.\n",
        "* ```in-place operation```이 연산 수행이 조금 더 빠르다고 기대할 수 있다.\n",
        "* 하지만 python의 가비지 컬렉션의 수행이 매우 좋기 때문에 속도 면에서 별다르게 이점은 없을 수 있다."
      ]
    }
  ]
}