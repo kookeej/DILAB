{
  "nbformat": 4,
  "nbformat_minor": 0,
  "metadata": {
    "colab": {
      "name": "lab01-2.ipynb",
      "private_outputs": true,
      "provenance": [],
      "authorship_tag": "ABX9TyOX4pTngrVqL27QDiBNKP8K",
      "include_colab_link": true
    },
    "kernelspec": {
      "name": "python3",
      "display_name": "Python 3"
    },
    "language_info": {
      "name": "python"
    }
  },
  "cells": [
    {
      "cell_type": "markdown",
      "metadata": {
        "id": "view-in-github",
        "colab_type": "text"
      },
      "source": [
        "<a href=\"https://colab.research.google.com/github/kookeej/DILAB/blob/main/7.1-7.7/lab-01/lab01-2.ipynb\" target=\"_parent\"><img src=\"https://colab.research.google.com/assets/colab-badge.svg\" alt=\"Open In Colab\"/></a>"
      ]
    },
    {
      "cell_type": "code",
      "metadata": {
        "id": "Rf5h5xQyB6TI"
      },
      "source": [
        "import numpy as np\n",
        "import torch"
      ],
      "execution_count": null,
      "outputs": []
    },
    {
      "cell_type": "markdown",
      "metadata": {
        "id": "29RbCCszCE1-"
      },
      "source": [
        "# 1. View\n",
        "```view```는 ```numpy```에서 ```reshape```과 같은 역할을 한다."
      ]
    },
    {
      "cell_type": "code",
      "metadata": {
        "id": "TKA5s_SeCBmu"
      },
      "source": [
        "t = np.array([[[0, 1, 2],\n",
        "               [3, 4, 5]],\n",
        "               [[6, 7, 8],\n",
        "               [9, 10, 11]]])\n",
        "ft = torch.FloatTensor(t)\n",
        "print(ft.shape)"
      ],
      "execution_count": null,
      "outputs": []
    },
    {
      "cell_type": "code",
      "metadata": {
        "id": "YWB1cqYCC05G"
      },
      "source": [
        "print(ft.view([-1, 3]))\n",
        "print(ft.view([-1, 3]).shape)"
      ],
      "execution_count": null,
      "outputs": []
    },
    {
      "cell_type": "code",
      "metadata": {
        "id": "hjPGt95xC9HO"
      },
      "source": [
        "print(ft.view([-1, 1, 3]))\n",
        "print(ft.view([-1, 1, 3]).shape)"
      ],
      "execution_count": null,
      "outputs": []
    },
    {
      "cell_type": "markdown",
      "metadata": {
        "id": "031LHM73UrYN"
      },
      "source": [
        "* ```-1```은 주로 변동이 심한 batch size 등에 사용될 수 있다.\n",
        "* 이렇게 우리는 ```view```를 사용해서 원하는 형태로 Tensor를 바꿀 수 있다."
      ]
    },
    {
      "cell_type": "markdown",
      "metadata": {
        "id": "gkOag1yhVRid"
      },
      "source": [
        "# 2. Squeeze\n",
        "```squeeze```는 차원 중 크기가 1인 것을 찾아 그 차원을 제거하는 함수이다. 예를 들면, |ft| = (3, 1)일 때, 두 번째 원소가 1이므로 1을 버린다. 그러면 |ft| = (3,)이 된다."
      ]
    },
    {
      "cell_type": "code",
      "metadata": {
        "id": "Jqqr7bweWfkN"
      },
      "source": [
        "ft = torch.FloatTensor([[0], [1], [2]])\n",
        "print(ft)\n",
        "print(ft.shape)"
      ],
      "execution_count": null,
      "outputs": []
    },
    {
      "cell_type": "code",
      "metadata": {
        "id": "4WgG1HhkWoPN"
      },
      "source": [
        "print(ft.squeeze())\n",
        "print(ft.squeeze().shape)"
      ],
      "execution_count": null,
      "outputs": []
    },
    {
      "cell_type": "markdown",
      "metadata": {
        "id": "yohLEkALXZLl"
      },
      "source": [
        "* 이처럼 처음 ft의 차원이 (3, 1)이었는데 ```squeeze```를 통해 (3,)이 된다."
      ]
    },
    {
      "cell_type": "code",
      "metadata": {
        "id": "RGMAISDJXuJk"
      },
      "source": [
        "print(\"\\n===squeeze 사용 전===\")\n",
        "fft = torch.FloatTensor([[0], [1], [2], [3]])\n",
        "print(fft)\n",
        "print(fft.shape)\n",
        "print(\"\\n===squeeze 사용 후===\")\n",
        "print(fft.squeeze())\n",
        "print(fft.squeeze().shape)"
      ],
      "execution_count": null,
      "outputs": []
    },
    {
      "cell_type": "markdown",
      "metadata": {
        "id": "HEBbh5L3XvDl"
      },
      "source": [
        "* 만약 squeeze를 사용할 때 ```dim```을 주게 되면, 해당 차원의 크기가 1이면 squeeze를 사용하고 그렇지 않으면 아무런 변화가 없다."
      ]
    },
    {
      "cell_type": "markdown",
      "metadata": {
        "id": "Q5-ja0IrYlNs"
      },
      "source": [
        "# 3. Unsqueeze\n",
        "```unsqueeze```는 squeeze를 반대로 해준다. dim을 명시하고 해당 차원에 1을 넣는다."
      ]
    },
    {
      "cell_type": "code",
      "metadata": {
        "id": "nYz-nQUhZw4M"
      },
      "source": [
        "ft = torch.Tensor([0, 1, 2])\n",
        "print(ft.shape)"
      ],
      "execution_count": null,
      "outputs": []
    },
    {
      "cell_type": "code",
      "metadata": {
        "id": "abQX1wZeZ2cM"
      },
      "source": [
        "print(ft.unsqueeze(0))\n",
        "print(ft.unsqueeze(0).shape)"
      ],
      "execution_count": null,
      "outputs": []
    },
    {
      "cell_type": "markdown",
      "metadata": {
        "id": "Rbt7qlAbaXVs"
      },
      "source": [
        "* ```view```를 이용해서 똑같이 구현할 수 있다."
      ]
    },
    {
      "cell_type": "code",
      "metadata": {
        "id": "uo6F98rhZ84M"
      },
      "source": [
        "print(ft.view(1, -1))\n",
        "print(ft.view(1, -1).shape)"
      ],
      "execution_count": null,
      "outputs": []
    },
    {
      "cell_type": "code",
      "metadata": {
        "id": "zcTcxT9kaCpm"
      },
      "source": [
        "print(ft.unsqueeze(1))\n",
        "print(ft.unsqueeze(1).shape)"
      ],
      "execution_count": null,
      "outputs": []
    },
    {
      "cell_type": "code",
      "metadata": {
        "id": "pgUPD2aHaLg8"
      },
      "source": [
        "print(ft.unsqueeze(-1))\n",
        "print(ft.unsqueeze(-1).shape)"
      ],
      "execution_count": null,
      "outputs": []
    },
    {
      "cell_type": "markdown",
      "metadata": {
        "id": "oy4PVPmCcLlG"
      },
      "source": [
        "# 4. Type Casting\n",
        "Tensor의 type을 바꿔준다."
      ]
    },
    {
      "cell_type": "code",
      "metadata": {
        "id": "jaB76zbIcVF0"
      },
      "source": [
        "lt = torch.LongTensor([1, 2, 3, 4])\n",
        "print(lt)"
      ],
      "execution_count": null,
      "outputs": []
    },
    {
      "cell_type": "code",
      "metadata": {
        "id": "nQ6ElcpncaQM"
      },
      "source": [
        "# tensor를 float형으로 바꿔준다.\n",
        "print(lt.float())"
      ],
      "execution_count": null,
      "outputs": []
    },
    {
      "cell_type": "code",
      "metadata": {
        "id": "7xMqxBhVcgwU"
      },
      "source": [
        "bt = torch.ByteTensor([True, True, False, True])\n",
        "print(bt)"
      ],
      "execution_count": null,
      "outputs": []
    },
    {
      "cell_type": "code",
      "metadata": {
        "id": "O6k8DIB_coc8"
      },
      "source": [
        "print(bt.long())\n",
        "print(bt.float())"
      ],
      "execution_count": null,
      "outputs": []
    },
    {
      "cell_type": "markdown",
      "metadata": {
        "id": "6_lpRZ-0c-L0"
      },
      "source": [
        "# 5. Concatenate\n",
        "```cat```은 tensor를 이어 붙여준다."
      ]
    },
    {
      "cell_type": "code",
      "metadata": {
        "id": "CbMPC7E1dJ0U"
      },
      "source": [
        "x = torch.FloatTensor([[1, 2], [3, 4]])\n",
        "y = torch.FloatTensor([[5, 6], [7, 8]])\n",
        "\n",
        "print(torch.cat([x, y], dim=0))\n",
        "print(torch.cat([x, y], dim=1))"
      ],
      "execution_count": null,
      "outputs": []
    },
    {
      "cell_type": "markdown",
      "metadata": {
        "id": "Vtv0rDLXfOTE"
      },
      "source": [
        "* ```dim=0```일 때는 axis=0을 기준으로 concat한다. 행 기준이기 때문에 행의 크기가 증가한다. 따라서 shape는 (4, 2)가 된다.\n",
        "* ```dim=1```일 때는 axis=1을 기준으로 concat한다. 열 기준이기 때문에 열의 크기가 증가한다. 따라서 shape는 (2, 4)가 된다."
      ]
    },
    {
      "cell_type": "markdown",
      "metadata": {
        "id": "PdAwp9XRgJ8c"
      },
      "source": [
        "# 6. Stacking\n",
        "```stack```은 ```concatenate```을 좀 더 편리하게 하는 방법이다."
      ]
    },
    {
      "cell_type": "markdown",
      "metadata": {
        "id": "Ddf1VBvfgwUl"
      },
      "source": [
        "* ```stack```은 tensor들을 쌓는 것이다. 아래 tensor x, y, z는 모두 shape이 2이다. "
      ]
    },
    {
      "cell_type": "code",
      "metadata": {
        "id": "UXY_KRYQgX40"
      },
      "source": [
        "x = torch.FloatTensor([1, 4])\n",
        "y = torch.FloatTensor([2, 5])\n",
        "z = torch.FloatTensor([3, 6])\n",
        "\n",
        "print(torch.stack([x, y, z]))           # (3, 2)로 쌓는다.\n",
        "print(torch.stack([x, y, z], dim=1))    # dim=1을 기준으로 쌓는다. 열 기준으로 쌓기 때문에 (2, 3)이 된다."
      ],
      "execution_count": null,
      "outputs": []
    },
    {
      "cell_type": "markdown",
      "metadata": {
        "id": "dUKsut15h3Ol"
      },
      "source": [
        "* 위 코드는 아래 코드와 같다."
      ]
    },
    {
      "cell_type": "code",
      "metadata": {
        "id": "y6u310I_h2SM"
      },
      "source": [
        "print(torch.cat([x.unsqueeze(0), y.unsqueeze(0), z.unsqueeze(0)], dim=0))"
      ],
      "execution_count": null,
      "outputs": []
    },
    {
      "cell_type": "markdown",
      "metadata": {
        "id": "PRSKngGjiV2k"
      },
      "source": [
        "# 7. Ones and Zeros\n"
      ]
    },
    {
      "cell_type": "code",
      "metadata": {
        "id": "vu3nprWQibLk"
      },
      "source": [
        "x = torch.FloatTensor([[0, 1, 2], [2, 1, 0]])\n",
        "print(x)"
      ],
      "execution_count": null,
      "outputs": []
    },
    {
      "cell_type": "code",
      "metadata": {
        "id": "KDGXNZzjif1V"
      },
      "source": [
        "print(torch.ones_like(x))       # 1로만 구성된 같은 size의 tensor\n",
        "print(torch.zeros_like(x))      # 0으로만 구성된 같은 size의 tensor"
      ],
      "execution_count": null,
      "outputs": []
    },
    {
      "cell_type": "markdown",
      "metadata": {
        "id": "Rsde3TM7j11k"
      },
      "source": [
        "# 8. In-Place Operation\n",
        "```_```가 붙게 된다. 메모리를 새로 선언하지 않고 기존의 값에 넣으라는 의미이다."
      ]
    },
    {
      "cell_type": "code",
      "metadata": {
        "id": "Xhj7p8j3j6pk"
      },
      "source": [
        "x = torch.FloatTensor([[1, 2], [3, 4]])"
      ],
      "execution_count": null,
      "outputs": []
    },
    {
      "cell_type": "code",
      "metadata": {
        "id": "eGd-n7WzkXPs"
      },
      "source": [
        "print(x.mul(2.))\n",
        "print(x)            # 원래 x는 변화 없다.\n",
        "print(x.mul_(2.))\n",
        "print(x)            # 원래 x까지 변화"
      ],
      "execution_count": null,
      "outputs": []
    },
    {
      "cell_type": "markdown",
      "metadata": {
        "id": "3DDmsUe5lRM8"
      },
      "source": [
        "* 위 코드를 보면 그냥 ```x.mul()```을 했을 경우에는 원래 x는 변화가 없다. ```x.mul_()```은 원래 x까지 변화시킨다.\n",
        "* ```in-place operation```이 연산 수행이 조금 더 빠르다고 기대할 수 있다.\n",
        "* 하지만 python의 가비지 컬렉션의 수행이 매우 좋기 때문에 속도 면에서 별다르게 이점은 없을 수 있다."
      ]
    }
  ]
}
