{
  "nbformat": 4,
  "nbformat_minor": 0,
  "metadata": {
    "colab": {
      "name": "lab01-1.ipynb의 사본",
      "provenance": [],
      "collapsed_sections": [],
      "authorship_tag": "ABX9TyOIVBixF8bjYO4IClM/yOsd",
      "include_colab_link": true
    },
    "kernelspec": {
      "name": "python3",
      "display_name": "Python 3"
    },
    "language_info": {
      "name": "python"
    }
  },
  "cells": [
    {
      "cell_type": "markdown",
      "metadata": {
        "id": "view-in-github",
        "colab_type": "text"
      },
      "source": [
        "<a href=\"https://colab.research.google.com/github/kookeej/DILAB/blob/main/7.1-7.7/lab01-1.ipynb\" target=\"_parent\"><img src=\"https://colab.research.google.com/assets/colab-badge.svg\" alt=\"Open In Colab\"/></a>"
      ]
    },
    {
      "cell_type": "markdown",
      "metadata": {
        "id": "db7zYVe9cBKJ"
      },
      "source": [
        "lab01-1\n",
        "==="
      ]
    },
    {
      "cell_type": "markdown",
      "metadata": {
        "id": "GD0gEZ6Lss_H"
      },
      "source": [
        "# 0. Vector, Matrix, Tensor\n",
        "* scalar: 차원 없음\n",
        "* vector: 1차원\n",
        "* matrix: 2차원\n",
        "* tensor: 3차원\n",
        "\n",
        "## 0.1. Pytorch Tensor Shape Convention\n",
        "* ```tensor```나 ```matrix```를 다룰 때, 언제나 크기가 매우 중요하다. 크기에 대한 이해가 제대로 되어있어야 제대로된 구현이 가능하다.\n",
        "* 2D Tensor (Typical Simple Setting)\n",
        "```\n",
        "|t| = (batch size, dim)    // batch size*dim\n",
        "```\n",
        "\n",
        "* 3D Tensor\n",
        "```\n",
        "// typical computer vision\n",
        "|t| = (batch size, width, height)\n",
        "// typical NLP\n",
        "|t| = (batch size, length, dim)\n",
        "```\n",
        "* rank\n",
        "```\n",
        "행공간과 열공간의 차원\n",
        "ex) A = [[1, -1], [0, 1], [3, -3]]\n",
        "rank = 2\n",
        "```\n",
        "\n",
        "* ndim\n",
        "```\n",
        "배열의 차원 수, 또는 배열의 축 수\n",
        "주로 괄호의 개수를 세면 된다.\n",
        "```\n",
        "\n",
        "* shape\n",
        "```\n",
        "배열 각 차원의 크기를 튜플 형태로 표현\n",
        "n행 m열 => (n, m)\n",
        "```\n",
        "\n",
        "* dtype\n",
        "```\n",
        "배열 원소의 데이터형\n",
        "```"
      ]
    },
    {
      "cell_type": "markdown",
      "metadata": {
        "id": "IAfua4S3ptJe"
      },
      "source": [
        "# 1. Numpy Review"
      ]
    },
    {
      "cell_type": "markdown",
      "metadata": {
        "id": "-lfRjZx-vzfX"
      },
      "source": [
        "* ```numpy```와 ```pytorch```를 사용하기에 앞서 해당 라이브러리를 먼저 import해준다."
      ]
    },
    {
      "cell_type": "code",
      "metadata": {
        "id": "cwKBMbrUTTe9"
      },
      "source": [
        "import numpy as np\n",
        "import torch"
      ],
      "execution_count": 1,
      "outputs": []
    },
    {
      "cell_type": "markdown",
      "metadata": {
        "id": "s4_PKG5Wv9Yx"
      },
      "source": [
        "* ```numpy```를 사용하면 배열을 아주 간단하게 다룰 수 있다."
      ]
    },
    {
      "cell_type": "code",
      "metadata": {
        "id": "EfNtp68iTfog",
        "colab": {
          "base_uri": "https://localhost:8080/"
        },
        "outputId": "ba13aa01-6cb3-4094-bed7-448b86dbec5c"
      },
      "source": [
        "t = np.array([0., 1., 2., 3., 4., 5., 6.])\n",
        "print(t)"
      ],
      "execution_count": 2,
      "outputs": [
        {
          "output_type": "stream",
          "text": [
            "[0. 1. 2. 3. 4. 5. 6.]\n"
          ],
          "name": "stdout"
        }
      ]
    },
    {
      "cell_type": "markdown",
      "metadata": {
        "id": "Ay1Lg5xkwFke"
      },
      "source": [
        "* t = [0., 1., 2., 3., 4., 5., 6.]의 배열의 축 수, 각 차원의 크기를 출력해본다. 배열의 축 수(차원의 수)는 ```ndim```을, 각 차원의 크기는 ```shape```을 사용한다."
      ]
    },
    {
      "cell_type": "markdown",
      "metadata": {
        "id": "Qy4gmJaCw4tf"
      },
      "source": [
        "* 배열 t는 1차원이고 행과 열의 개념이 존재하지 않기 때문에 배열 t의 shape은 원소의 개수 7이다."
      ]
    },
    {
      "cell_type": "code",
      "metadata": {
        "id": "yXRBlQkuW7Oa",
        "colab": {
          "base_uri": "https://localhost:8080/"
        },
        "outputId": "cbaea033-998e-4a66-88ee-b307a79fcfa4"
      },
      "source": [
        "print('Rank of t :', t.ndim)\n",
        "print('Shape of t:', t.shape)\n",
        "print('t[0] t[1] t[-1] = ', t[0], t[1], t[-1])\n",
        "print('t[:2] t[3:] = ', t[:2], t[3:])"
      ],
      "execution_count": 3,
      "outputs": [
        {
          "output_type": "stream",
          "text": [
            "Rank of t : 1\n",
            "Shape of t: (7,)\n",
            "t[0] t[1] t[-1] =  0.0 1.0 6.0\n",
            "t[:2] t[3:] =  [0. 1.] [3. 4. 5. 6.]\n"
          ],
          "name": "stdout"
        }
      ]
    },
    {
      "cell_type": "markdown",
      "metadata": {
        "id": "ymhmgzngxJ3u"
      },
      "source": [
        "* 행렬 t는 아래와 같다.\n",
        "```\n",
        "t = [[1, 2, 3],\n",
        "     [4, 5, 6],\n",
        "     [7, 8, 9],\n",
        "     [10, 11, 12]]\n",
        "```\n",
        "차원의 수는 괄호의 개수를 세면 된다. 괄호의 개수는 2개이므로 rank=2, shape은 (row num, col num)이므로 (4, 3)이다."
      ]
    },
    {
      "cell_type": "code",
      "metadata": {
        "id": "8kqdxJ2MZmlf",
        "colab": {
          "base_uri": "https://localhost:8080/"
        },
        "outputId": "5afac102-0ab8-4f56-c5fe-c7848ae1d7d7"
      },
      "source": [
        "t = np.array([[1., 2., 3.], [4., 5., 6.], [7., 8., 9.], [10., 11., 12.]])\n",
        "print(t)\n",
        "print('Rank of t:', t.ndim)\n",
        "print('Shape of t:', t.shape)"
      ],
      "execution_count": 4,
      "outputs": [
        {
          "output_type": "stream",
          "text": [
            "[[ 1.  2.  3.]\n",
            " [ 4.  5.  6.]\n",
            " [ 7.  8.  9.]\n",
            " [10. 11. 12.]]\n",
            "Rank of t: 2\n",
            "Shape of t: (4, 3)\n"
          ],
          "name": "stdout"
        }
      ]
    },
    {
      "cell_type": "markdown",
      "metadata": {
        "id": "_Vuin1Arp0u_"
      },
      "source": [
        "# 2. Pytorch Tensor"
      ]
    },
    {
      "cell_type": "markdown",
      "metadata": {
        "id": "eB5aAolgyHK-"
      },
      "source": [
        "```numpy```가 아니라 ```python```을 사용하여 tensor를 나타낼 수 있다."
      ]
    },
    {
      "cell_type": "code",
      "metadata": {
        "id": "jXQihLwoabmh",
        "colab": {
          "base_uri": "https://localhost:8080/"
        },
        "outputId": "c19684fd-d07f-4aa6-c0eb-0ba9a4615f02"
      },
      "source": [
        "t = torch.FloatTensor([0., 1., 2., 3., 4., 5., 6.])\n",
        "print(t)"
      ],
      "execution_count": 5,
      "outputs": [
        {
          "output_type": "stream",
          "text": [
            "tensor([0., 1., 2., 3., 4., 5., 6.])\n"
          ],
          "name": "stdout"
        }
      ]
    },
    {
      "cell_type": "markdown",
      "metadata": {
        "id": "pzC7Mo5fyTae"
      },
      "source": [
        "* ```dim()```은 차원의 수이므로 1이다. ```shape```과 ```size()```는 둘 다 shape를 나타낸다."
      ]
    },
    {
      "cell_type": "code",
      "metadata": {
        "id": "X8zxhM4RakU_",
        "colab": {
          "base_uri": "https://localhost:8080/"
        },
        "outputId": "9ea55c30-dd08-4fb0-d9de-638693519b3a"
      },
      "source": [
        "print(t.dim())\n",
        "print(t.shape)      #shape\n",
        "print(t.size())     #shape\n",
        "print(t[0], t[1], t[-1])\n",
        "print(t[2:5], t[4:-1])\n",
        "print(t[:2], t[3:])"
      ],
      "execution_count": 6,
      "outputs": [
        {
          "output_type": "stream",
          "text": [
            "1\n",
            "torch.Size([7])\n",
            "torch.Size([7])\n",
            "tensor(0.) tensor(1.) tensor(6.)\n",
            "tensor([2., 3., 4.]) tensor([4., 5.])\n",
            "tensor([0., 1.]) tensor([3., 4., 5., 6.])\n"
          ],
          "name": "stdout"
        }
      ]
    },
    {
      "cell_type": "markdown",
      "metadata": {
        "id": "nJMOaYCYzHBG"
      },
      "source": [
        "* 아래는 2차원 배열이다. 차원의 수는 2, shape는 (4, 3)이다."
      ]
    },
    {
      "cell_type": "code",
      "metadata": {
        "id": "nIjdQAeybBVC",
        "colab": {
          "base_uri": "https://localhost:8080/"
        },
        "outputId": "62fa30aa-9484-4d10-bf5b-2e07f2002752"
      },
      "source": [
        "t = torch.FloatTensor([[1., 2., 3.], [4., 5., 6.], [7., 8., 9.], [10., 11., 12.]])\n",
        "print(t)"
      ],
      "execution_count": 7,
      "outputs": [
        {
          "output_type": "stream",
          "text": [
            "tensor([[ 1.,  2.,  3.],\n",
            "        [ 4.,  5.,  6.],\n",
            "        [ 7.,  8.,  9.],\n",
            "        [10., 11., 12.]])\n"
          ],
          "name": "stdout"
        }
      ]
    },
    {
      "cell_type": "markdown",
      "metadata": {
        "id": "KAGvxw89zVlH"
      },
      "source": [
        "* t[:, 1]은 모든 행과 index 1의 열을 나타낸다. 따라서,\n",
        "```\n",
        "t[:, 1] = [2, 5, 8, 11]\n",
        "```\n",
        "\n",
        "* t[:, :-1]는 모든 행과 열의 마지막 인덱스 전까지의 원소를 나타낸다.\n",
        "```\n",
        "t[:, :-1] = [[1, 2],\n",
        "            [4, 5],\n",
        "            [7, 8],\n",
        "            [10,11]]\n",
        "```"
      ]
    },
    {
      "cell_type": "code",
      "metadata": {
        "id": "T2Vk9659bPaH",
        "colab": {
          "base_uri": "https://localhost:8080/"
        },
        "outputId": "c96ad3b7-4c8e-4233-fac5-9bdf05742e3d"
      },
      "source": [
        "print(t.dim()) #rank\n",
        "print(t.size())\n",
        "print(t[:, 1])\n",
        "print(t[:, 1].size())\n",
        "print(t[:, :-1])\n",
        "print(t[:, :-1].size())\n",
        "print(t.shape)"
      ],
      "execution_count": 8,
      "outputs": [
        {
          "output_type": "stream",
          "text": [
            "2\n",
            "torch.Size([4, 3])\n",
            "tensor([ 2.,  5.,  8., 11.])\n",
            "torch.Size([4])\n",
            "tensor([[ 1.,  2.],\n",
            "        [ 4.,  5.],\n",
            "        [ 7.,  8.],\n",
            "        [10., 11.]])\n",
            "torch.Size([4, 2])\n",
            "torch.Size([4, 3])\n"
          ],
          "name": "stdout"
        }
      ]
    },
    {
      "cell_type": "markdown",
      "metadata": {
        "id": "ROxmQrTeqEQ3"
      },
      "source": [
        "# 3. Broadcasting"
      ]
    },
    {
      "cell_type": "markdown",
      "metadata": {
        "id": "A9VHsu460QRP"
      },
      "source": [
        "* ```broadcasting```은 자동적으로 크기를 맞추어 연산을 진행시킨다. "
      ]
    },
    {
      "cell_type": "markdown",
      "metadata": {
        "id": "TVwH2Lh00jT_"
      },
      "source": [
        "* 아래 코드는 두 행렬의 차원의 크기가 모두 같다. 따라서 그냥 바로 연산을 해주면 된다."
      ]
    },
    {
      "cell_type": "code",
      "metadata": {
        "id": "Cb6C2G7lb9If",
        "colab": {
          "base_uri": "https://localhost:8080/"
        },
        "outputId": "02c5a48f-7397-40d2-a853-5993911c5527"
      },
      "source": [
        "# Same shape\n",
        "m1 = torch.FloatTensor([[3, 3]])\n",
        "m2 = torch.FloatTensor([[2, 2]])\n",
        "print(m1 + m2)"
      ],
      "execution_count": 9,
      "outputs": [
        {
          "output_type": "stream",
          "text": [
            "tensor([[5., 5.]])\n"
          ],
          "name": "stdout"
        }
      ]
    },
    {
      "cell_type": "markdown",
      "metadata": {
        "id": "nRDiyWVZ0ssm"
      },
      "source": [
        "* 아래 코드는 두 행렬의 차원은 같지만 차원의 크기가 다르다. 이때 ```broadcasting```이 일어나서 자동적으로 크기를 맞춰서 계산을 진행시킨다."
      ]
    },
    {
      "cell_type": "code",
      "metadata": {
        "id": "KMADavfkdY4v",
        "colab": {
          "base_uri": "https://localhost:8080/"
        },
        "outputId": "ae2ab156-36e3-474d-d355-881f79189ba2"
      },
      "source": [
        "# Vector + scalar\n",
        "m1 = torch.FloatTensor([[1, 2]])                # |m1| = (1, 2)\n",
        "m2 = torch.FloatTensor([3]) # -> [[3, 3]]       # |m2| = (1,) -> (1, 2)\n",
        "print(m1 + m2)"
      ],
      "execution_count": 10,
      "outputs": [
        {
          "output_type": "stream",
          "text": [
            "tensor([[4., 5.]])\n"
          ],
          "name": "stdout"
        }
      ]
    },
    {
      "cell_type": "code",
      "metadata": {
        "id": "Pv_36HqRdt8X",
        "colab": {
          "base_uri": "https://localhost:8080/"
        },
        "outputId": "cae9310f-e865-42db-e3ad-f5e48024878c"
      },
      "source": [
        "# 2 * 1 vector + 1 * 2 vector\n",
        "m1 = torch.FloatTensor([[1, 2]])            #|m1| = (1, 2) -> (2, 2)    [[1, 2], [1, 2]]\n",
        "m2 = torch.FloatTensor([[3], [4]])          #|m2| = (2, 1) -> (2, 2)    [[3, 3], [4, 4]]\n",
        "print(m1 + m2)"
      ],
      "execution_count": 11,
      "outputs": [
        {
          "output_type": "stream",
          "text": [
            "tensor([[4., 5.],\n",
            "        [5., 6.]])\n"
          ],
          "name": "stdout"
        }
      ]
    },
    {
      "cell_type": "markdown",
      "metadata": {
        "id": "zApICmBghZrY"
      },
      "source": [
        "단, broadcasting의 경우 자동으로 실행되기 때문에 사용자 입장에서 주의해서 사용해야 한다."
      ]
    },
    {
      "cell_type": "markdown",
      "metadata": {
        "id": "b37bFsg_qT13"
      },
      "source": [
        "# 4. Multiplication vs Matrix Multiplication"
      ]
    },
    {
      "cell_type": "markdown",
      "metadata": {
        "id": "rTJQhjaY5F5G"
      },
      "source": [
        "* ```mul```과 ```matmul``` 비교 연산해보면 아래와 같다."
      ]
    },
    {
      "cell_type": "code",
      "metadata": {
        "id": "AdUDxCvfhfno",
        "colab": {
          "base_uri": "https://localhost:8080/"
        },
        "outputId": "b6c91963-bf9e-448c-c2f5-6af3f015a52e"
      },
      "source": [
        "print()\n",
        "print('-------------')\n",
        "print('Mul vs Matmul')\n",
        "print('-------------')\n",
        "m1 = torch.FloatTensor([[1, 2], [3, 4]])\n",
        "m2 = torch.FloatTensor([[1], [2]])\n",
        "print('Shape of Matrix 1:', m1.shape)\n",
        "print('Shape of Matrix 2:', m2.shape)\n",
        "print(m1.matmul(m2))\n",
        "\n",
        "# Broadcasting이 된다.\n",
        "print('Shape of Matrix 1:', m1.shape)       # [[1, 2], [3, 4]]\n",
        "print('Shape of Matrix 2:', m2.shape)       # [[1, 1], [2, 2]]\n",
        "print(m1 * m2)\n",
        "print(m1.mul(m2))"
      ],
      "execution_count": 12,
      "outputs": [
        {
          "output_type": "stream",
          "text": [
            "\n",
            "-------------\n",
            "Mul vs Matmul\n",
            "-------------\n",
            "Shape of Matrix 1: torch.Size([2, 2])\n",
            "Shape of Matrix 2: torch.Size([2, 1])\n",
            "tensor([[ 5.],\n",
            "        [11.]])\n",
            "Shape of Matrix 1: torch.Size([2, 2])\n",
            "Shape of Matrix 2: torch.Size([2, 1])\n",
            "tensor([[1., 2.],\n",
            "        [6., 8.]])\n",
            "tensor([[1., 2.],\n",
            "        [6., 8.]])\n"
          ],
          "name": "stdout"
        }
      ]
    },
    {
      "cell_type": "markdown",
      "metadata": {
        "id": "Oodxil5JjK_g"
      },
      "source": [
        "# 5. Other Operation"
      ]
    },
    {
      "cell_type": "markdown",
      "metadata": {
        "id": "3EkRCfMg5eGG"
      },
      "source": [
        "```mean```, ```sum```, 그리고 ```max```에 관한 연산이다."
      ]
    },
    {
      "cell_type": "markdown",
      "metadata": {
        "id": "Qxd2Z_RVqkRg"
      },
      "source": [
        "## 5.1. Mean"
      ]
    },
    {
      "cell_type": "code",
      "metadata": {
        "id": "Xfk19pcOjMW3",
        "colab": {
          "base_uri": "https://localhost:8080/"
        },
        "outputId": "1423c206-bd2f-4185-a49f-147df6961d97"
      },
      "source": [
        "# 행렬의 평균\n",
        "t = torch.FloatTensor([1, 2])\n",
        "print(t.mean())"
      ],
      "execution_count": 13,
      "outputs": [
        {
          "output_type": "stream",
          "text": [
            "tensor(1.5000)\n"
          ],
          "name": "stdout"
        }
      ]
    },
    {
      "cell_type": "code",
      "metadata": {
        "id": "msE0mA1PjTsv",
        "colab": {
          "base_uri": "https://localhost:8080/"
        },
        "outputId": "076c444e-80f5-4d33-f7ad-13fa014dc122"
      },
      "source": [
        "# 하지만 LongTensor에 대해서는 연산을 수행할 수 없다.\n",
        "# LongTensor는 64-bit의 부호있는 정수다.\n",
        "\n",
        "t = torch.LongTensor([1, 2])\n",
        "try:\n",
        "    print(t.mean())\n",
        "except Exception as exc:\n",
        "    print(exc)"
      ],
      "execution_count": 14,
      "outputs": [
        {
          "output_type": "stream",
          "text": [
            "Can only calculate the mean of floating types. Got Long instead.\n"
          ],
          "name": "stdout"
        }
      ]
    },
    {
      "cell_type": "code",
      "metadata": {
        "id": "iIsnkqLdl1z_",
        "colab": {
          "base_uri": "https://localhost:8080/"
        },
        "outputId": "7cb1b3ab-06c0-489c-d8b5-4e2ee217ed02"
      },
      "source": [
        "t = torch.FloatTensor([[1, 2], [3, 4]])\n",
        "print(t)"
      ],
      "execution_count": 15,
      "outputs": [
        {
          "output_type": "stream",
          "text": [
            "tensor([[1., 2.],\n",
            "        [3., 4.]])\n"
          ],
          "name": "stdout"
        }
      ]
    },
    {
      "cell_type": "code",
      "metadata": {
        "id": "1JPbHSMhl_Xn",
        "colab": {
          "base_uri": "https://localhost:8080/"
        },
        "outputId": "6c68428d-6f6a-46da-b002-d0d583c6dcde"
      },
      "source": [
        "print(t.mean())\n",
        "print(t.mean(dim=0))\n",
        "print(t.mean(dim=1))\n",
        "print(t.mean(dim=-1))"
      ],
      "execution_count": 16,
      "outputs": [
        {
          "output_type": "stream",
          "text": [
            "tensor(2.5000)\n",
            "tensor([2., 3.])\n",
            "tensor([1.5000, 3.5000])\n",
            "tensor([1.5000, 3.5000])\n"
          ],
          "name": "stdout"
        }
      ]
    },
    {
      "cell_type": "markdown",
      "metadata": {
        "id": "j--ndTIA-4pv"
      },
      "source": [
        "* ```t.mean()```일 경우, 모든 원소의 평균을 구한다. \n",
        "* ```t.mean(dim=0)```은 axis=0을 기준으로 평균을 구한다. axis=0은 열을 기준으로 한다.\n",
        "* ```t.mean(dim=1)```은 axis=1을 기준으로 평균을 구한다. axis=1은 행을 기준으로 한다.\n",
        "* ```t.mean(dim=-1)```은 마지막 차원이다. 여기 2차원 배열에서는 행을 기준으로 한다."
      ]
    },
    {
      "cell_type": "markdown",
      "metadata": {
        "id": "RmycrTb7nsmH"
      },
      "source": [
        "## 5.2. Sum"
      ]
    },
    {
      "cell_type": "code",
      "metadata": {
        "id": "4IwW_8kZntbv",
        "colab": {
          "base_uri": "https://localhost:8080/"
        },
        "outputId": "b44bc3d3-eb59-4c30-e590-02c270ac2129"
      },
      "source": [
        "t = torch.FloatTensor([[1,2], [3,4]])\n",
        "print(t)"
      ],
      "execution_count": 17,
      "outputs": [
        {
          "output_type": "stream",
          "text": [
            "tensor([[1., 2.],\n",
            "        [3., 4.]])\n"
          ],
          "name": "stdout"
        }
      ]
    },
    {
      "cell_type": "code",
      "metadata": {
        "id": "4SmDDIdfnzWu",
        "colab": {
          "base_uri": "https://localhost:8080/"
        },
        "outputId": "d61d6226-9ff1-416f-c052-1fb5b00ec0ce"
      },
      "source": [
        "print(t.sum())\n",
        "print(t.sum(dim=0))\n",
        "print(t.sum(dim=1))\n",
        "print(t.sum(dim=-1))"
      ],
      "execution_count": 18,
      "outputs": [
        {
          "output_type": "stream",
          "text": [
            "tensor(10.)\n",
            "tensor([4., 6.])\n",
            "tensor([3., 7.])\n",
            "tensor([3., 7.])\n"
          ],
          "name": "stdout"
        }
      ]
    },
    {
      "cell_type": "markdown",
      "metadata": {
        "id": "DQa6KkigoKmZ"
      },
      "source": [
        "## 5.3. Max and Argmax\n",
        "* ```max```는 최댓값, ```Argmax```는 그 index값을 반환해준다."
      ]
    },
    {
      "cell_type": "code",
      "metadata": {
        "id": "fcfEtHtQoLwH",
        "colab": {
          "base_uri": "https://localhost:8080/"
        },
        "outputId": "127cee88-1bd9-44f1-8f9d-0b8c9814fdf8"
      },
      "source": [
        "t = torch.FloatTensor([[1,2], [3,4]])\n",
        "print(t)"
      ],
      "execution_count": 19,
      "outputs": [
        {
          "output_type": "stream",
          "text": [
            "tensor([[1., 2.],\n",
            "        [3., 4.]])\n"
          ],
          "name": "stdout"
        }
      ]
    },
    {
      "cell_type": "code",
      "metadata": {
        "id": "rpQ3QUxlooCv",
        "colab": {
          "base_uri": "https://localhost:8080/"
        },
        "outputId": "a60e587b-4d43-4647-9231-9fee56cea184"
      },
      "source": [
        "print(t.max())"
      ],
      "execution_count": 20,
      "outputs": [
        {
          "output_type": "stream",
          "text": [
            "tensor(4.)\n"
          ],
          "name": "stdout"
        }
      ]
    },
    {
      "cell_type": "code",
      "metadata": {
        "id": "YCC8N19xop_G",
        "colab": {
          "base_uri": "https://localhost:8080/"
        },
        "outputId": "a079e8a1-f95c-4677-d17c-cdb5574dd26b"
      },
      "source": [
        "print(t.max(dim=0))\n",
        "print('Max:', t.max(dim=0))\n",
        "print('Argmax:', t.max(dim=0)[1])"
      ],
      "execution_count": 21,
      "outputs": [
        {
          "output_type": "stream",
          "text": [
            "torch.return_types.max(\n",
            "values=tensor([3., 4.]),\n",
            "indices=tensor([1, 1]))\n",
            "Max: torch.return_types.max(\n",
            "values=tensor([3., 4.]),\n",
            "indices=tensor([1, 1]))\n",
            "Argmax: tensor([1, 1])\n"
          ],
          "name": "stdout"
        }
      ]
    },
    {
      "cell_type": "code",
      "metadata": {
        "id": "LWRzZCKHpcpH",
        "colab": {
          "base_uri": "https://localhost:8080/"
        },
        "outputId": "ea3e3387-2ae7-43b6-f4a3-7dcebe67eaa6"
      },
      "source": [
        "print(t.max(dim=1))\n",
        "print(t.max(dim=-1))"
      ],
      "execution_count": 22,
      "outputs": [
        {
          "output_type": "stream",
          "text": [
            "torch.return_types.max(\n",
            "values=tensor([2., 4.]),\n",
            "indices=tensor([1, 1]))\n",
            "torch.return_types.max(\n",
            "values=tensor([2., 4.]),\n",
            "indices=tensor([1, 1]))\n"
          ],
          "name": "stdout"
        }
      ]
    }
  ]
}