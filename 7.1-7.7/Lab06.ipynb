{
  "nbformat": 4,
  "nbformat_minor": 0,
  "metadata": {
    "colab": {
      "name": "Lab06.ipynb",
      "provenance": [],
      "authorship_tag": "ABX9TyPhYg6EB/w9/DGTTqx2a+sY",
      "include_colab_link": true
    },
    "kernelspec": {
      "name": "python3",
      "display_name": "Python 3"
    },
    "language_info": {
      "name": "python"
    }
  },
  "cells": [
    {
      "cell_type": "markdown",
      "metadata": {
        "id": "view-in-github",
        "colab_type": "text"
      },
      "source": [
        "<a href=\"https://colab.research.google.com/github/kookeej/DILAB/blob/main/7.1-7.7/Lab06.ipynb\" target=\"_parent\"><img src=\"https://colab.research.google.com/assets/colab-badge.svg\" alt=\"Open In Colab\"/></a>"
      ]
    },
    {
      "cell_type": "markdown",
      "metadata": {
        "id": "d4LnlX68iL6v"
      },
      "source": [
        "Lab06 - Softmax Classification\n",
        "===\n"
      ]
    },
    {
      "cell_type": "markdown",
      "metadata": {
        "id": "lbgLrPQdjma3"
      },
      "source": [
        "* 먼저 필요한 모듈들을 import해준다."
      ]
    },
    {
      "cell_type": "code",
      "metadata": {
        "id": "GdCA5iKIiH1Z"
      },
      "source": [
        "import torch\n",
        "import torch.nn as nn\n",
        "import torch.nn.functional as F\n",
        "import torch.optim as optim"
      ],
      "execution_count": 1,
      "outputs": []
    },
    {
      "cell_type": "code",
      "metadata": {
        "colab": {
          "base_uri": "https://localhost:8080/"
        },
        "id": "YIKPEXgbjSm-",
        "outputId": "e9fc07da-5f46-4428-9505-fab76764acf5"
      },
      "source": [
        "torch.manual_seed(1)        # 항상 똑같은 결과를 보장하기 위해서 사용"
      ],
      "execution_count": 2,
      "outputs": [
        {
          "output_type": "execute_result",
          "data": {
            "text/plain": [
              "<torch._C.Generator at 0x7ff17a140ab0>"
            ]
          },
          "metadata": {
            "tags": []
          },
          "execution_count": 2
        }
      ]
    },
    {
      "cell_type": "markdown",
      "metadata": {
        "id": "1DT0nPU-jqk-"
      },
      "source": [
        "# 1. Softmax    \n",
        "![](https://render.githubusercontent.com/render/math?math=P%28class%3Di%29%20%3D%20%5Cfrac%7Be%5Ei%7D%7B%5Csum%20e%5Ei%7D&mode=display)"
      ]
    },
    {
      "cell_type": "markdown",
      "metadata": {
        "id": "kSCXSPzNljrW"
      },
      "source": [
        "* ```softmax```를 이용하여 숫자를 확률로 바꾼다. ```max```값을 부드럽게 뽑아준다는 의미다. 즉, 모든 확률의 합이 1이 되도록 만들어 주는 함수이다."
      ]
    },
    {
      "cell_type": "code",
      "metadata": {
        "colab": {
          "base_uri": "https://localhost:8080/"
        },
        "id": "4PpmBkU_mVVO",
        "outputId": "1372e6c5-cba6-4f4d-8750-bf2a76597c14"
      },
      "source": [
        "z = torch.FloatTensor([1, 2, 3])\n",
        "hypothesis = F.softmax(z, dim=0)\n",
        "print(hypothesis)"
      ],
      "execution_count": 3,
      "outputs": [
        {
          "output_type": "stream",
          "text": [
            "tensor([0.0900, 0.2447, 0.6652])\n"
          ],
          "name": "stdout"
        }
      ]
    },
    {
      "cell_type": "markdown",
      "metadata": {
        "id": "2I_arPwImyHF"
      },
      "source": [
        "* 모든 hypothesis의 합을 구해보면 1이 나온다."
      ]
    },
    {
      "cell_type": "code",
      "metadata": {
        "colab": {
          "base_uri": "https://localhost:8080/"
        },
        "id": "vUDsWHFvm2DX",
        "outputId": "96b6295b-ee39-4111-87a6-7ebc3db8133f"
      },
      "source": [
        "hypothesis.sum()"
      ],
      "execution_count": 4,
      "outputs": [
        {
          "output_type": "execute_result",
          "data": {
            "text/plain": [
              "tensor(1.)"
            ]
          },
          "metadata": {
            "tags": []
          },
          "execution_count": 4
        }
      ]
    },
    {
      "cell_type": "markdown",
      "metadata": {
        "id": "QLmLB7vGn9R9"
      },
      "source": [
        "# 2. Cross Entropy Loss\n",
        "![](https://render.githubusercontent.com/render/math?math=L%20%3D%20%5Cfrac%7B1%7D%7BN%7D%20%5Csum%20-%20y%20%5Clog%28%5Chat%7By%7D%29&mode=display)"
      ]
    },
    {
      "cell_type": "markdown",
      "metadata": {
        "id": "DLz6xBOYp9zr"
      },
      "source": [
        ""
      ]
    },
    {
      "cell_type": "code",
      "metadata": {
        "colab": {
          "base_uri": "https://localhost:8080/"
        },
        "id": "MqI6dXOBpvIt",
        "outputId": "ae910f43-fd98-4cf7-a049-1cea3f991cc5"
      },
      "source": [
        "z = torch.rand(3, 5, requires_grad=True)        # |z| = (3, 5)\n",
        "hypothesis = F.softmax(z, dim=1)\n",
        "print(hypothesis)"
      ],
      "execution_count": 5,
      "outputs": [
        {
          "output_type": "stream",
          "text": [
            "tensor([[0.2645, 0.1639, 0.1855, 0.2585, 0.1277],\n",
            "        [0.2430, 0.1624, 0.2322, 0.1930, 0.1694],\n",
            "        [0.2226, 0.1986, 0.2326, 0.1594, 0.1868]], grad_fn=<SoftmaxBackward>)\n"
          ],
          "name": "stdout"
        }
      ]
    },
    {
      "cell_type": "markdown",
      "metadata": {
        "id": "Dkn0L0lMqdWE"
      },
      "source": [
        "* prediction값이 나왔다."
      ]
    },
    {
      "cell_type": "code",
      "metadata": {
        "colab": {
          "base_uri": "https://localhost:8080/"
        },
        "id": "CT8zu7awqNck",
        "outputId": "db626e2f-5459-45cb-f9d4-32079427864e"
      },
      "source": [
        "y = torch.randint(5, (3,)).long()\n",
        "print(y)"
      ],
      "execution_count": 6,
      "outputs": [
        {
          "output_type": "stream",
          "text": [
            "tensor([0, 2, 1])\n"
          ],
          "name": "stdout"
        }
      ]
    },
    {
      "cell_type": "markdown",
      "metadata": {
        "id": "CFvIw1OAqnRE"
      },
      "source": [
        "* 랜덤하게 정답을 생성한 결과이다. 정답은 index가 2, 0, 2가 정답이므로, 0.1878, 0.2182, 0.1960이 정답이다.\n",
        "* class개수는 5개, sample 수는 3개,"
      ]
    },
    {
      "cell_type": "markdown",
      "metadata": {
        "id": "Gl3tmeazrSq0"
      },
      "source": [
        "이제 one-hot vector의 형식으로 나타낼 수 있다."
      ]
    },
    {
      "cell_type": "code",
      "metadata": {
        "colab": {
          "base_uri": "https://localhost:8080/"
        },
        "id": "KZlGzn4-rWd0",
        "outputId": "c60486bd-d8bf-4a01-c67f-559ed5a5286d"
      },
      "source": [
        "y_one_hot = torch.zeros_like(hypothesis)\n",
        "y_one_hot.scatter_(1, y.unsqueeze(1), 1)"
      ],
      "execution_count": 7,
      "outputs": [
        {
          "output_type": "execute_result",
          "data": {
            "text/plain": [
              "tensor([[1., 0., 0., 0., 0.],\n",
              "        [0., 0., 1., 0., 0.],\n",
              "        [0., 1., 0., 0., 0.]])"
            ]
          },
          "metadata": {
            "tags": []
          },
          "execution_count": 7
        }
      ]
    },
    {
      "cell_type": "markdown",
      "metadata": {
        "id": "YmR_pT9-tIeE"
      },
      "source": [
        " * one-hot vector를 만들어봤다. 이렇게 [2, 0, 2] 부분만 1로 활성화가 되어있다.\n",
        " * scatter_ 이므로 ```in-place```연산이다. 바로 값이 교체되어 들어갔다. 즉, dim=1에 대해서 y.unsqueeze(1)에 1을 넣는다.\n",
        " * |y| = (3,). |y.unsqueeze(1)| = (3, 1)"
      ]
    },
    {
      "cell_type": "code",
      "metadata": {
        "colab": {
          "base_uri": "https://localhost:8080/"
        },
        "id": "mLcZ3vzUtO_k",
        "outputId": "12b49504-2943-4443-f647-d16bb03f0d33"
      },
      "source": [
        "cost = (y_one_hot * -torch.log(hypothesis)).sum(dim=1).mean()\n",
        "print(cost)"
      ],
      "execution_count": 8,
      "outputs": [
        {
          "output_type": "stream",
          "text": [
            "tensor(1.4689, grad_fn=<MeanBackward0>)\n"
          ],
          "name": "stdout"
        }
      ]
    },
    {
      "cell_type": "markdown",
      "metadata": {
        "id": "HoiEbmeDu6lc"
      },
      "source": [
        "```F.softmax()```와 ```F.log_softmax()```를 사용할 수도 있다."
      ]
    },
    {
      "cell_type": "code",
      "metadata": {
        "colab": {
          "base_uri": "https://localhost:8080/"
        },
        "id": "ua8CUdswvF4C",
        "outputId": "478ad6da-eb86-49e8-91c8-9f5f4c216f8d"
      },
      "source": [
        "# Low level\n",
        "torch.log(F.softmax(z, dim=1))\n",
        "\n",
        "(y_one_hot * -torch.log(F.softmax(z, dim=1))).sum(dim=1).mean()"
      ],
      "execution_count": 9,
      "outputs": [
        {
          "output_type": "execute_result",
          "data": {
            "text/plain": [
              "tensor(1.4689, grad_fn=<MeanBackward0>)"
            ]
          },
          "metadata": {
            "tags": []
          },
          "execution_count": 9
        }
      ]
    },
    {
      "cell_type": "code",
      "metadata": {
        "colab": {
          "base_uri": "https://localhost:8080/"
        },
        "id": "hznnYb2dvLSa",
        "outputId": "f8eb647a-ecc1-45d1-830a-1b667d390c62"
      },
      "source": [
        "# High level\n",
        "F.log_softmax(z, dim=1)\n",
        "\n",
        "F.nll_loss(F.log_softmax(z, dim=1), y)      # Nagative Log Liklihood"
      ],
      "execution_count": 10,
      "outputs": [
        {
          "output_type": "execute_result",
          "data": {
            "text/plain": [
              "tensor(1.4689, grad_fn=<NllLossBackward>)"
            ]
          },
          "metadata": {
            "tags": []
          },
          "execution_count": 10
        }
      ]
    },
    {
      "cell_type": "markdown",
      "metadata": {
        "id": "WO5sZ7oIvykq"
      },
      "source": [
        "또한 pytorch는 ```F.log_softmax()```와 ```F.nll_loss()```를 합친 ```F.cross_entropy```를 사용할 수 있다. 따라서 한번에 계산을 할 수 있다."
      ]
    },
    {
      "cell_type": "code",
      "metadata": {
        "colab": {
          "base_uri": "https://localhost:8080/"
        },
        "id": "9lUIaoKSv-uU",
        "outputId": "8f5fed12-2bc4-41b8-d252-06363982959c"
      },
      "source": [
        "F.cross_entropy(z, y)"
      ],
      "execution_count": 11,
      "outputs": [
        {
          "output_type": "execute_result",
          "data": {
            "text/plain": [
              "tensor(1.4689, grad_fn=<NllLossBackward>)"
            ]
          },
          "metadata": {
            "tags": []
          },
          "execution_count": 11
        }
      ]
    },
    {
      "cell_type": "markdown",
      "metadata": {
        "id": "MRqTUtX9wK6r"
      },
      "source": [
        "필요에 따라 원하는 연산 방법을 선택하면 된다."
      ]
    },
    {
      "cell_type": "markdown",
      "metadata": {
        "id": "9bXrgEUHwfdD"
      },
      "source": [
        "# 3. Training with Low-level Cross Entropy Loss"
      ]
    },
    {
      "cell_type": "code",
      "metadata": {
        "id": "_g8xPNRQwk7p"
      },
      "source": [
        "x_train = [[1, 2, 1, 1],\n",
        "           [2, 1, 3, 2],\n",
        "           [3, 1, 3, 4],\n",
        "           [4, 1, 5, 5],\n",
        "           [1, 7, 5, 5],\n",
        "           [1, 2, 5, 6],\n",
        "           [1, 6, 6, 6],\n",
        "           [1, 7, 7, 7]]\n",
        "y_train = [2, 2, 2, 1, 1, 1, 0, 0]\n",
        "x_train = torch.FloatTensor(x_train)\n",
        "y_train = torch.LongTensor(y_train)         # 이산확률 분포로 바꿔줘야하므로 정수로 바꿔준다."
      ],
      "execution_count": 12,
      "outputs": []
    },
    {
      "cell_type": "code",
      "metadata": {
        "colab": {
          "base_uri": "https://localhost:8080/"
        },
        "id": "gCyTMsk_xR9i",
        "outputId": "0034bbef-cc46-40b5-d8e1-d867b4d00281"
      },
      "source": [
        "# 모델 초기화\n",
        "W = torch.zeros((4, 3), requires_grad=True)\n",
        "b = torch.zeros(1, requires_grad=True)\n",
        "\n",
        "# optimizer 설정\n",
        "optimizer = optim.SGD([W, b], lr=0.1)\n",
        "\n",
        "nb_epochs = 1000\n",
        "for epoch in range(nb_epochs + 1):\n",
        "\n",
        "    # Cost 계산\n",
        "    hypothesis = F.softmax(x_train.matmul(W) + b, dim=1)\n",
        "    y_one_hot = torch.zeros_like(hypothesis)\n",
        "    y_one_hot.scatter_(1, y_train.unsqueeze(1), 1)\n",
        "    cost = (y_one_hot * -torch.log(F.softmax(hypothesis, dim=1))).sum(dim=1).mean()\n",
        "\n",
        "    optimizer.zero_grad()\n",
        "    cost.backward()\n",
        "    optimizer.step()\n",
        "\n",
        "    if epoch % 100 == 0:\n",
        "        print('Epoch {:4d}/{} Cost: {:.6f}'.format(\n",
        "            epoch, nb_epochs, cost.item()\n",
        "        ))"
      ],
      "execution_count": 13,
      "outputs": [
        {
          "output_type": "stream",
          "text": [
            "Epoch    0/1000 Cost: 1.098612\n",
            "Epoch  100/1000 Cost: 0.901535\n",
            "Epoch  200/1000 Cost: 0.839114\n",
            "Epoch  300/1000 Cost: 0.807826\n",
            "Epoch  400/1000 Cost: 0.788472\n",
            "Epoch  500/1000 Cost: 0.774822\n",
            "Epoch  600/1000 Cost: 0.764449\n",
            "Epoch  700/1000 Cost: 0.756191\n",
            "Epoch  800/1000 Cost: 0.749398\n",
            "Epoch  900/1000 Cost: 0.743671\n",
            "Epoch 1000/1000 Cost: 0.738749\n"
          ],
          "name": "stdout"
        }
      ]
    },
    {
      "cell_type": "markdown",
      "metadata": {
        "id": "9243o2tA1Vti"
      },
      "source": [
        "* number of samples = m\n",
        "* number of classes = 3\n",
        "* dim = 4\n",
        "* 따라서 4->3으로 가는 Linear regression을 만들었다."
      ]
    },
    {
      "cell_type": "markdown",
      "metadata": {
        "id": "Njh4ZyTc1tUK"
      },
      "source": [
        "1000번의 epoch를 시도했을 때, cost의 값이 제대로 떨어지는 것을 확인할 수 있다.     \n",
        "좀 더 쉽게 구현해보자!"
      ]
    },
    {
      "cell_type": "code",
      "metadata": {
        "colab": {
          "base_uri": "https://localhost:8080/"
        },
        "id": "jqTmGKEP13SB",
        "outputId": "02b8855c-d7c5-443c-da58-7c00a8783e66"
      },
      "source": [
        "  W = torch.zeros((4, 3), requires_grad=True)\n",
        "  b = torch.zeros(1, requires_grad=True)\n",
        "\n",
        "  optimizer = optim.SGD([W, b], lr=0.1)\n",
        "\n",
        "  nb_epochs = 1000\n",
        "  for epoch in range(nb_epochs + 1):\n",
        "      z = x_train.matmul(W) + b\n",
        "      cost = F.cross_entropy(z, y_train)    # one_hot vector를 만들어주는 과정 생략. scatter 안씀.\n",
        "\n",
        "      optimizer.zero_grad()\n",
        "      cost.backward()\n",
        "      optimizer.step()\n",
        "\n",
        "      if epoch % 100 == 0:\n",
        "          print('Epoch {:4d}/{} Cost: {:.6f}'.format(\n",
        "              epoch, nb_epochs, cost.item()\n",
        "          ))"
      ],
      "execution_count": 14,
      "outputs": [
        {
          "output_type": "stream",
          "text": [
            "Epoch    0/1000 Cost: 1.098612\n",
            "Epoch  100/1000 Cost: 0.761050\n",
            "Epoch  200/1000 Cost: 0.689991\n",
            "Epoch  300/1000 Cost: 0.643229\n",
            "Epoch  400/1000 Cost: 0.604117\n",
            "Epoch  500/1000 Cost: 0.568255\n",
            "Epoch  600/1000 Cost: 0.533922\n",
            "Epoch  700/1000 Cost: 0.500291\n",
            "Epoch  800/1000 Cost: 0.466908\n",
            "Epoch  900/1000 Cost: 0.433507\n",
            "Epoch 1000/1000 Cost: 0.399962\n"
          ],
          "name": "stdout"
        }
      ]
    },
    {
      "cell_type": "markdown",
      "metadata": {
        "id": "Zz7iVQAJ4avx"
      },
      "source": [
        "cost값이 제대로 감소하는 것을 확인할 수 있다."
      ]
    },
    {
      "cell_type": "markdown",
      "metadata": {
        "id": "kC4iZM8w4icr"
      },
      "source": [
        "# 4. High-level Implementation with nn.Module\n",
        "좀 더 실전에 가깝게 구현해보자."
      ]
    },
    {
      "cell_type": "code",
      "metadata": {
        "id": "wyuI4X3V4qYX"
      },
      "source": [
        "class SoftmaxClassifierModel(nn.Module):\n",
        "    def __init__(self):\n",
        "        super().__init__()\n",
        "        self.linear = nn.Linear(4, 3)\n",
        "\n",
        "    def forward(self, x):                       # |x| = (m, 4) => (m, 3)\n",
        "        return self.linear(x)"
      ],
      "execution_count": 15,
      "outputs": []
    },
    {
      "cell_type": "code",
      "metadata": {
        "id": "L9wLpvCK45nQ"
      },
      "source": [
        "model = SoftmaxClassifierModel()"
      ],
      "execution_count": 16,
      "outputs": []
    },
    {
      "cell_type": "code",
      "metadata": {
        "colab": {
          "base_uri": "https://localhost:8080/"
        },
        "id": "bT0U5J_h5YXY",
        "outputId": "1fdf4ccf-99ac-4eb6-a6da-d76566cb7dbb"
      },
      "source": [
        "optimizer = optim.SGD(model.parameters(), lr=0.1)\n",
        "\n",
        "nb_epochs = 1000\n",
        "for epoch in range(nb_epochs + 1):\n",
        "    prediction = model(x_train)\n",
        "\n",
        "    cost = F.cross_entropy(prediction, y_train)\n",
        "\n",
        "    optimizer.zero_grad()\n",
        "    cost.backward()\n",
        "    optimizer.step()\n",
        "\n",
        "    if epoch % 100 == 0:\n",
        "        print('Epoch {:4d}/{} Cost: {:.6f}'.format(\n",
        "            epoch, nb_epochs, cost.item()\n",
        "        ))"
      ],
      "execution_count": 17,
      "outputs": [
        {
          "output_type": "stream",
          "text": [
            "Epoch    0/1000 Cost: 1.849513\n",
            "Epoch  100/1000 Cost: 0.689894\n",
            "Epoch  200/1000 Cost: 0.609258\n",
            "Epoch  300/1000 Cost: 0.551218\n",
            "Epoch  400/1000 Cost: 0.500141\n",
            "Epoch  500/1000 Cost: 0.451947\n",
            "Epoch  600/1000 Cost: 0.405051\n",
            "Epoch  700/1000 Cost: 0.358733\n",
            "Epoch  800/1000 Cost: 0.312912\n",
            "Epoch  900/1000 Cost: 0.269521\n",
            "Epoch 1000/1000 Cost: 0.241922\n"
          ],
          "name": "stdout"
        }
      ]
    },
    {
      "cell_type": "markdown",
      "metadata": {
        "id": "xB1Uye6H6SfY"
      },
      "source": [
        "딥러닝에서 classification을 할 때, \n",
        "* binary classification인 경우에는 logistic regression에서 사용한 cost function을 사용하는 것이 맞다. (binary cross entropy(BCE), sigmoid). \n",
        "* 여러 개의 class가 존재한다면, cross_entropy, softmax를 쓴다."
      ]
    }
  ]
}